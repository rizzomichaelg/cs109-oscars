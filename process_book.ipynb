{
 "metadata": {
  "name": ""
 },
 "nbformat": 3,
 "nbformat_minor": 0,
 "worksheets": [
  {
   "cells": [
    {
     "cell_type": "markdown",
     "metadata": {},
     "source": [
      "# And the Oscar Goes to...\n",
      "\n",
      "<div class=\"banner-container\">\n",
      "<img src=\"http://hpsupporters.com/wp-content/uploads/2012/01/oscar-3.jpg\" width=320>\n",
      "</div>\n",
      "\n",
      "<div class=\"clear\"> </div>\n",
      "\n",
      "<style type=\"text/css\">\n",
      ".banner-container {\n",
      "height:350px;\n",
      "margin-left: 30px;\n",
      "float:left;\n",
      "}\n",
      ".clear {\n",
      "clear:both;\n",
      "}\n",
      "</style>"
     ]
    },
    {
     "cell_type": "code",
     "collapsed": false,
     "input": [
      "%matplotlib inline\n",
      "\n",
      "import gc\n",
      "import json, re\n",
      "import unicodedata\n",
      "from pattern import web\n",
      "from HTMLParser import HTMLParser\n",
      "import requests\n",
      "import pandas as pd\n",
      "import numpy as np\n",
      "import matplotlib.pyplot as plt\n",
      "\n",
      "pd.set_option('display.width', 500)\n",
      "pd.set_option('display.max_columns', 30)\n",
      "\n",
      "# set some nicer defaults for matplotlib\n",
      "from matplotlib import rcParams\n",
      "\n",
      "api_key = 'sdat77wpkdnuyvb9bqhz2y5v' #nicks api key for rotten tomatoes\n",
      "\n",
      "#these colors come from colorbrewer2.org. Each is an RGB triplet\n",
      "dark2_colors = [(0.10588235294117647, 0.6196078431372549, 0.4666666666666667),\n",
      "                (0.8509803921568627, 0.37254901960784315, 0.00784313725490196),\n",
      "                (0.4588235294117647, 0.4392156862745098, 0.7019607843137254),\n",
      "                (0.9058823529411765, 0.1607843137254902, 0.5411764705882353),\n",
      "                (0.4, 0.6509803921568628, 0.11764705882352941),\n",
      "                (0.9019607843137255, 0.6705882352941176, 0.00784313725490196),\n",
      "                (0.6509803921568628, 0.4627450980392157, 0.11372549019607843),\n",
      "                (0.4, 0.4, 0.4)]\n",
      "\n",
      "rcParams['figure.figsize'] = (10, 6)\n",
      "rcParams['figure.dpi'] = 150\n",
      "rcParams['axes.color_cycle'] = dark2_colors\n",
      "rcParams['lines.linewidth'] = 2\n",
      "rcParams['axes.grid'] = False\n",
      "rcParams['axes.facecolor'] = 'white'\n",
      "rcParams['font.size'] = 14\n",
      "rcParams['patch.edgecolor'] = 'none'\n",
      "\n",
      "def remove_border(axes=None, top=False, right=False, left=True, bottom=True):\n",
      "    \"\"\"\n",
      "    Minimize chartjunk by stripping out unnecesary plot borders and axis ticks\n",
      "    \n",
      "    The top/right/left/bottom keywords toggle whether the corresponding plot border is drawn\n",
      "    \"\"\"\n",
      "    ax = axes or plt.gca()\n",
      "    ax.spines['top'].set_visible(top)\n",
      "    ax.spines['right'].set_visible(right)\n",
      "    ax.spines['left'].set_visible(left)\n",
      "    ax.spines['bottom'].set_visible(bottom)\n",
      "    \n",
      "    #turn off all ticks\n",
      "    ax.yaxis.set_ticks_position('none')\n",
      "    ax.xaxis.set_ticks_position('none')\n",
      "    \n",
      "    #now re-enable visibles\n",
      "    if top:\n",
      "        ax.xaxis.tick_top()\n",
      "    if bottom:\n",
      "        ax.xaxis.tick_bottom()\n",
      "    if left:\n",
      "        ax.yaxis.tick_left()\n",
      "    if right:\n",
      "        ax.yaxis.tick_right()\n",
      "        \n",
      "def histogram_style():\n",
      "    remove_border(left=False)\n",
      "    plt.grid(False)\n",
      "    plt.grid(axis='y', color='w', linestyle='-', lw=1)"
     ],
     "language": "python",
     "metadata": {},
     "outputs": [],
     "prompt_number": 1
    },
    {
     "cell_type": "markdown",
     "metadata": {},
     "source": [
      "**Getting the Oscar Data**\n",
      "We are pulling the Oscar Award and Nomination data from [IMDB](http://www.imdb.com/oscars/).  From this we construct a dictionary with the following format:\n",
      "<pre>\n",
      "Oscars: {\n",
      "    Year: {\n",
      "        Award: {\n",
      "            Winner: (name,id)\n",
      "            Nominations: [(name,id)]\n",
      "        }\n",
      "    }\n",
      "}\n",
      "</pre>"
     ]
    },
    {
     "cell_type": "code",
     "collapsed": false,
     "input": [
      "\"\"\"\n",
      "EXAMPLE OF USAGE:\n",
      "allDataEver = get_all_years()\n",
      "allDataEver = repair_dict(oscarArray, allDataEver)\n",
      "print allDataEver[2013]['Best Cinematography']\n",
      "print get_by_award_all_years('Best Picture', allDataEver) \n",
      "print get_by_year(1952)\n",
      "\n",
      "#official oscar titles\n",
      "#note Best Picture instead of Best Achievement in Picture etc. \n",
      "#note that not all oscars exist for every year, i.e. best black and white \n",
      "\n",
      "oscarArray = ['Best Picture', 'Best Actor in a Leading Role', \n",
      "'Best Actress in a Leading Role', 'Best Actor in a Supporting Role', \n",
      "'Best Actress in a Supporting Role', 'Best Actor in a Supporting Role', \n",
      "'Best Director', 'Best Assistant Director', 'Best Writing, Screenplay Written Directly for the Screen', \n",
      "'Best Writing, Screenplay Based on Material from Another Medium', 'Best Cinematography', \n",
      "'Best Art Direction-Set Decoration', 'Best Costume Design', 'Best Sound', 'Best Film Editing', \n",
      "'Best Sound Editing','Best Effects, Visual Effects', 'Best Makeup', 'Best Music, Original Song', \n",
      "'Best Music, Original Score', 'Best Short Film, Animated', 'Best Short Film, Live Action', 'Best Documentary, Short Subjects', \n",
      "'Best Documentary, Features', 'Best Foreign Language Film']\n",
      "\"\"\"\n",
      "\n",
      "# HELPER FUNCTIONS\n",
      "\n",
      "from pattern.web import URL, DOM, plaintext, strip_between\n",
      "from pattern.web import NODE, TEXT, COMMENT, ELEMENT, DOCUMENT\n",
      "\n",
      "# get rid of accents etc.\n",
      "def fixWeirdChars(phrase):\n",
      "    HexEncode = ['E9','E1','E0','B7']\n",
      "    matchObj = re.search(r'&#x..', phrase)\n",
      "    if matchObj:\n",
      "        accentedHex = matchObj.group()\n",
      "        HexPart = accentedHex.split('x')[1]\n",
      "        if(HexPart in HexEncode):\n",
      "            phrase = re.sub((accentedHex+';'), 'e', phrase)\n",
      "        else:\n",
      "            Hexy = \"0x\" + HexPart\n",
      "            Num = int(Hexy, 16)\n",
      "            Char = chr(Num)\n",
      "            phrase = re.sub((accentedHex+';'), Char, phrase)\n",
      "\n",
      "        matchAgain = re.search(r'&#x..', phrase)\n",
      "        return fixWeirdChars(phrase)\n",
      "    return phrase\n",
      "\n",
      "\n",
      "def clean_unicode(s):\n",
      "\ts = str(s)\n",
      "\ts.encode('ascii','ignore')\n",
      "\ts = fixWeirdChars(s)\n",
      " \treturn str(s)\n",
      "\n",
      "# repair dictionary names\n",
      "def repair_dict(dictionary):\n",
      "\tfor year in dictionary:\n",
      "\t\tfor award in dictionary[year]:\n",
      "\t\t\tif(award == 'Best Motion Picture of the Year'):\n",
      "\t\t\t\tdictionary[year]['Best Picture'] = dictionary[year]['Best Motion Picture of the Year']\n",
      "\t\t\t\tdel dictionary[year]['Best Motion Picture of the Year']\n",
      "\n",
      "\t\t\tif(award == 'Best Performance by an Actor in a Leading Role'):\n",
      "\t\t\t\tdictionary[year]['Best Actor in a Leading Role'] = dictionary[year]['Best Performance by an Actor in a Leading Role']\n",
      "\t\t\t\tdel dictionary[year]['Best Performance by an Actor in a Leading Role']\n",
      "\n",
      "\t\t\tif(award == 'Best Performance by an Actress in a Leading Role'):\n",
      "\t\t\t\tdictionary[year]['Best Actress in a Leading Role'] = dictionary[year]['Best Performance by an Actress in a Leading Role']\n",
      "\t\t\t\tdel dictionary[year]['Best Performance by an Actress in a Leading Role']\n",
      "\n",
      "\t\t\tif(award == 'Best Performance by an Actress in a Supporting Role'):\n",
      "\t\t\t\tdictionary[year]['Best Actress in a Supporting Role'] = dictionary[year]['Best Performance by an Actress in a Supporting Role']\n",
      "\t\t\t\tdel dictionary[year]['Best Performance by an Actress in a Supporting Role']\n",
      "\n",
      "\t\t\tif(award == 'Best Performance by an Actor in a Supporting Role'):\n",
      "\t\t\t\tdictionary[year]['Best Actor in a Supporting Role'] = dictionary[year]['Best Performance by an Actor in a Supporting Role']\n",
      "\t\t\t\tdel dictionary[year]['Best Performance by an Actor in a Supporting Role']\n",
      "\n",
      "\t\t\tif(award == 'Best Writing, Original Screenplay'):\n",
      "\t\t\t\tdictionary[year]['Best Writing, Screenplay Written Directly for the Screen'] = dictionary[year]['Best Writing, Original Screenplay']\n",
      "\t\t\t\tdel dictionary[year]['Best Writing, Original Screenplay']\n",
      "\n",
      "\t\t\tif(award == 'Best Writing, Adapted Screenplay'):\n",
      "\t\t\t\tdictionary[year]['Best Writing, Screenplay Based on Material from Another Medium'] = dictionary[year]['Best Writing, Adapted Screenplay']\n",
      "\t\t\t\tdel dictionary[year]['Best Writing, Adapted Screenplay']\n",
      "\n",
      "\t\t\tif(award == 'Best Foreign Language Film of the Year'):\n",
      "\t\t\t\tnewAwardName = award\n",
      "\t\t\t\tnewAwardName = re.sub(' of the Year', '', newAwardName)\n",
      "\t\t\t\tdictionary[year][newAwardName] = dictionary[year][award]\n",
      "\t\t\t\tdel dictionary[year][award]\n",
      "\n",
      "\t\t\t# check to see if it includes best achievement\n",
      "\t\t\tif('Best Achievement' in award):\n",
      "\t\t\t\tif(award == 'Best Achievement in Directing'):\n",
      "\t\t\t\t\tdictionary[year]['Best Director'] = dictionary[year]['Best Achievement in Directing']\n",
      "\t\t\t\t\tdel dictionary[year]['Best Achievement in Directing']\n",
      "\t\t\t\telse:\n",
      "\t\t\t\t\tnewAwardName = award\n",
      "\t\t\t\t\tif('Mixing' in award):\n",
      "\t\t\t\t\t\tnewAwardName = re.sub(' Mixing', '', newAwardName)\n",
      "\n",
      "\t\t\t\t\tif(' and Hairstyling' in award):\n",
      "\t\t\t\t\t\tnewAwardName = re.sub(' and Hairstyling', '', newAwardName)\n",
      "\n",
      "\t\t\t\t\tif('Music Written for Motion Pictures, Original Song' or 'Music Written for Motion Pictures, Original Score' in award):\n",
      "\t\t\t\t\t\tnewAwardName = re.sub(' Written for Motion Pictures', '', newAwardName)\n",
      "\n",
      "\n",
      "\t\t\t\t\tnewAwardName = re.sub(' Achievement in', '', newAwardName)\n",
      "\n",
      "\t\t\t\t\tif 'Visual Effects' in newAwardName:\n",
      "\t\t\t\t\t\t#add comma\n",
      "\t\t\t\t\t\tnewAwardName = 'Best Effects, Visual Effects' \n",
      "\n",
      "\t\t\t\t\tdictionary[year][newAwardName] = dictionary[year][award]\n",
      "\t\t\t\t\tdel dictionary[year][award]\n",
      "\t\t\t\t\t\n",
      "\treturn dictionary\n",
      "\n",
      "# END OF HELPER FUNCTIONS\n",
      "\n",
      "\n",
      "\"\"\"\n",
      "Gets the movie titles for all Oscars for a given year. i.e. get_by_year(2012)\n",
      "Function\n",
      "--------\n",
      "get_by_year\n",
      "\n",
      "Input int year\n",
      "\n",
      "Outputs a dict of the format:\n",
      "'Award':\n",
      "\t'nominees': ['a', 'b', 'c', 'd'] \n",
      "\t'winner': 'f'\n",
      "\n",
      "\"\"\"\n",
      "def get_by_year(year):\n",
      "\n",
      "    url = URL(\"http://www.imdb.com/event/ev0000003/\" + str(year))\n",
      "    dom = DOM(url.download(cached=True))\n",
      "    \n",
      "    dictAll = {}\n",
      "    \n",
      "    awards = dom.by_class('award')\n",
      "    awardTitles = awards[0].by_tag('h2')\n",
      "    awardList = []\n",
      "    for award in awardTitles:\n",
      "        awardList.append(award.content)\n",
      "\n",
      "    prize = awards[0].by_tag('blockquote')\n",
      "    for index, title in enumerate(prize[1:25]):\n",
      "        winner = title.by_tag('strong')[0].by_tag('a')[0].content\n",
      "        winner_id = str(title.by_tag('strong')[0].by_tag('a')[0].attrs['href'][-8:-1])\n",
      "        \n",
      "        nomineeList = []\n",
      "        for each in title.by_tag('strong')[1::]:\n",
      "            name = each.by_tag('a')[0].content\n",
      "            id = str(each.by_tag('a')[0].attrs['href'][-8:-1])\n",
      "            nomineeList.append((clean_unicode(name),id))\n",
      "            \n",
      "        winnersAndNominees = {}\n",
      "        winnersAndNominees['winner'] = (clean_unicode(winner),winner_id)\n",
      "        winnersAndNominees['nominees'] = nomineeList\n",
      "        dictAll[awardList[index]] =  winnersAndNominees\n",
      "    return dictAll\n",
      "\n",
      "\n",
      "\n",
      "\"\"\"\n",
      "Gets the movie titles for all Oscars for all years between 1935 and 2013.\n",
      "Function\n",
      "--------\n",
      "get_all_years()\n",
      "\n",
      "\n",
      "Outputs a dict of dicts the format:\n",
      "'Year':\n",
      "\t'Award':\n",
      "\t\t'nominees': ['a', 'b', 'c', 'd'] \n",
      "\t\t'winner': 'f'\n",
      "\"\"\"\n",
      "\n",
      "def get_all_years():\n",
      "\thugeDict = {}  #lol\n",
      "\tfor year in range(2003, 2014):\n",
      "\t\thugeDict[year] = get_by_year(str(year))\n",
      "\treturn hugeDict\n",
      "\n",
      "\n",
      "\n",
      "'''\n",
      "Gets all data for every year for a specific oscar\n",
      "Function\n",
      "------\n",
      "get_by_award_all_years(oscar, dictionary)\n",
      "\n",
      "Outputs a dict of the format\n",
      "'Year':\n",
      "\t'nominees': ['a', 'b', 'c', 'd'] \n",
      "\t'winner': 'f'\n",
      "        \n",
      "'''\n",
      "def get_by_award_all_years(oscar, dictionary):\n",
      "\tyearDict = {}\n",
      "\tfor year in dictionary:\n",
      "\t\tif oscar in dictionary[year].keys():\n",
      "\t\t\tyearDict[year] = dictionary[year][oscar]\n",
      "\treturn yearDict"
     ],
     "language": "python",
     "metadata": {},
     "outputs": [],
     "prompt_number": 3
    },
    {
     "cell_type": "code",
     "collapsed": false,
     "input": [
      "# oscars = get_all_years();\n",
      "# oscars = repair_dict(oscars)\n",
      "# f = open(\"data/oscars.json\",\"w+\")\n",
      "# json.dump(oscars,f)\n",
      "# f.close()\n",
      "\n",
      "# load an existing dictionary\n",
      "f = open(\"data/oscars.json\",\"rb\")\n",
      "oscars = json.load(f)\n",
      "f.close()"
     ],
     "language": "python",
     "metadata": {},
     "outputs": [],
     "prompt_number": 2
    },
    {
     "cell_type": "markdown",
     "metadata": {},
     "source": [
      "However, the names of some of the different awards have changed over the years; we had better fix this for consistency later on.  "
     ]
    },
    {
     "cell_type": "code",
     "collapsed": false,
     "input": [
      "movie_awards = [u'Best Documentary, Features',u'Best Writing, Screenplay Written Directly for the Screen',\n",
      "                u'Best Foreign Language Film',u'Best Short Film, Live Action',u'Best Music, Original Song',\n",
      "                u'Best Music, Original Score',u'Best Art Direction-Set Decoration',u'Best Costume Design',\n",
      "                u'Best Short Film, Animated',u'Best Makeup',u'Best Film Editing',u'Best Animated Feature',\n",
      "                u'Best Writing, Screenplay Based on Material from Another Medium',u'Best Sound Editing',\n",
      "                u'Best Cinematography',u'Best Documentary, Short Subjects',u'Best Sound',u'Best Director',\n",
      "                u'Best Picture',u'Best Visual Effects']\n",
      "\n",
      "# http://stackoverflow.com/questions/9708374/python-how-to-find-the-string-with-most-matches-in-a-list-of-strings\n",
      "def find_correct_award(awards,keystr):\n",
      "    keywords = re.split(' |-',keystr.lower())\n",
      "    def matches(text):\n",
      "        return sum(word in text.lower() for word in keywords)\n",
      "    return max(awards,key=matches) \n",
      "\n",
      "for year in oscars:\n",
      "    for award in movie_awards:\n",
      "        if award not in oscars[year].keys():\n",
      "            old = find_correct_award(oscars[year].keys(),award)\n",
      "            oscars[year][award] = oscars[year].pop(old)"
     ],
     "language": "python",
     "metadata": {},
     "outputs": [],
     "prompt_number": 3
    },
    {
     "cell_type": "code",
     "collapsed": false,
     "input": [
      "print oscars['2003']['Best Cinematography']"
     ],
     "language": "python",
     "metadata": {},
     "outputs": [
      {
       "output_type": "stream",
       "stream": "stdout",
       "text": [
        "{u'nominees': [[u'Chicago', u'0299658'], [u'Far from Heaven', u'0297884'], [u'Gangs of New York', u'0217505'], [u'The Pianist', u'0253474']], u'winner': [u'Road to Perdition', u'0257044']}\n"
       ]
      }
     ],
     "prompt_number": 4
    },
    {
     "cell_type": "markdown",
     "metadata": {},
     "source": [
      "<h1>Populating a List of Candidate Movies</h1>"
     ]
    },
    {
     "cell_type": "markdown",
     "metadata": {},
     "source": [
      "In order to run our analysis, we need to isolate a dataset of movies for a given year that are candidates for an Oscar. For this purpose, we decided to extract a subset of the movies outlined by <a href=\"http://www.boxofficemojo.com/yearly\">Box Office Mojo</a> as the top movies in a given year. Assumming that the movies most likely to win an Oscar are likely to be among those with the highest gross revenue in a given year, we decided to select the Top 200 movies from each year as candidates for an Oscar (in the following year)."
     ]
    },
    {
     "cell_type": "markdown",
     "metadata": {},
     "source": [
      "<h2>Getting the Movies</h2>"
     ]
    },
    {
     "cell_type": "markdown",
     "metadata": {},
     "source": [
      "The function get_top_movies_by_year takes two arguments, year and the number of movies desired for that given year. The function returns a dataframe for the given year with the following columns:\n",
      "<ul>\n",
      "<li>rank</li><li>year</li><li>movie_title</li><li>imdbid</li><li>rtid</li><li>studio</li><li>total_gross</li><li>num_theaters_total</li><li>opening_revenue</li><li>num_theaters_opening</li><li>date_open</li><li>date_close</li>\n",
      "</ul>\n",
      "This data, with the exception of IMDBid and RTid, is obtained from <a href=\"http://www.boxofficemojo.com/yearly\">Box Office Mojo</a>. In a first pass, we attempt to collect IMDBid and RTid from <a href=\"http://developer.rottentomatoes.com/\">Rotten Tomatoes API</a>. For the movies that we cannot successfully isolate an IMDBid for, we attempt to obtain an id through the <a href=\"http://www.omdbapi.com/\">OMDB API</a>."
     ]
    },
    {
     "cell_type": "code",
     "collapsed": false,
     "input": [
      "def get_top_movies_by_year(yr,num_movies=200):\n",
      "    num_pages = int((num_movies-1)/100) + 1\n",
      "    missing_rtid = 0\n",
      "    missing_imdbid = 0\n",
      "    alldata = []\n",
      "    for pagenum in range(1,num_pages+1):\n",
      "        url = 'http://boxofficemojo.com/yearly/chart/?page=' + str(pagenum) + '&view=releasedate&view2=domestic&yr=' + str(yr) + '&p=.htm'\n",
      "        page_xml = requests.get(url).text\n",
      "        dom = web.Element(page_xml)\n",
      "        for table in dom.by_tag('table'):\n",
      "            cellpadding = (table.attributes['cellpadding'])    \n",
      "            if (cellpadding == '5'):  # isolates table with movie data\n",
      "                for row in table.by_tag('tr'):\n",
      "                    cols = row.by_tag('td')\n",
      "                    #catches movie rows\n",
      "                    try:\n",
      "                        rank = int(web.strip_tags(cols[0]))\n",
      "                        if (rank<=num_movies): #checks to make sure in right spot!\n",
      "                            movie_title = web.strip_tags(cols[1]).strip('\\t')\n",
      "                            movie_title = unicodedata.normalize('NFKD', movie_title).encode('ascii', 'ignore') #removes accents\n",
      "                            studio = web.strip_tags(cols[2]).strip('\\t')\n",
      "                            \n",
      "                            # the below try/except mechanisms catch errors when there is a NONE instead of a string which is a candidate for integer casting\n",
      "                            try:\n",
      "                                total_gross = int(((web.strip_tags(cols[3])).strip('$')).replace(',', ''))\n",
      "                            except:\n",
      "                                total_gross = None\n",
      "                            try:\n",
      "                                num_theaters_total = int((web.strip_tags(cols[4])).replace(',', ''))\n",
      "                            except:\n",
      "                                num_theaters_total = None\n",
      "                            try:\n",
      "                                opening_revenue = int(((web.strip_tags(cols[5])).strip('$')).replace(',', ''))\n",
      "                            except:\n",
      "                                opening_revenue = None\n",
      "                            try:   \n",
      "                                num_theaters_opening = int((web.strip_tags(cols[6])).replace(',', ''))\n",
      "                            except:\n",
      "                                num_theaters_opening = None\n",
      "                            \n",
      "                            date_open = web.strip_tags(cols[7]).strip('\\t')\n",
      "                            date_close = web.strip_tags(cols[8]).strip('\\t')\n",
      "                            \n",
      "                            #using rotten tomatoes to get rtid/imdbid\n",
      "                            url2 = 'http://api.rottentomatoes.com/api/public/v1.0/movies.json?' 'q=' + movie_title + ' &page_limit=10' + '&apikey=' + api_key\n",
      "                            info_data = requests.get(url2).text\n",
      "                            info_json = json.loads(info_data)\n",
      "                            movie_count = 0\n",
      "                            rtid=''\n",
      "                            imdbid=''\n",
      "                            try:\n",
      "                                for movie in info_json['movies']:\n",
      "                                    if movie['year']==yr:\n",
      "                                        movie_count+=1\n",
      "                                        rtid=movie['id']\n",
      "                                        try:\n",
      "                                            imdbid=(movie['alternate_ids'])['imdb']\n",
      "                                        except:\n",
      "                                            imdbid=''\n",
      "                            except:\n",
      "                                pass\n",
      "                            if movie_count!=1: #case where more than one movie met description\n",
      "                                rtid = ''\n",
      "                                imdbid = ''\n",
      "                            \n",
      "                            # second attempt to obtain imdb ids using the omdbapi\n",
      "                            if imdbid=='':\n",
      "                                try:\n",
      "                                    omdb_link = \"http://www.omdbapi.com/?t=%s&y=%s\" % (movie_title,yr)\n",
      "                                    omdb_text = web.URL(omdb_link).download(cached=True)\n",
      "                                    imdbid = json.loads(omdb_text)['imdbID'].replace(\"tt\",\"\")\n",
      "                                except:\n",
      "                                    try:\n",
      "                                        omdb_link = \"http://www.omdbapi.com/?t=%s&y=%s\" % (movie_title,(yr-1))\n",
      "                                        omdb_text = web.URL(omdb_link).download(cached=True)\n",
      "                                        imdbid = json.loads(omdb_text)['imdbID'].replace(\"tt\",\"\")\n",
      "                                    except:\n",
      "                                        try:\n",
      "                                            omdb_link = \"http://www.omdbapi.com/?t=%s&y=%s\" % (movie_title,(yr-2))\n",
      "                                            omdb_text = web.URL(omdb_link).download(cached=True)\n",
      "                                            imdbid = json.loads(omdb_text)['imdbID'].replace(\"tt\",\"\")\n",
      "                                        except:\n",
      "                                            imdbid = ''\n",
      "                                            missing_imdbid += 1\n",
      "                            if rtid=='':\n",
      "                                missing_rtid += 1\n",
      "                            \n",
      "                            data_row = [rank,yr,movie_title,imdbid,rtid,studio,total_gross,num_theaters_total,opening_revenue,num_theaters_opening,date_open,date_close]\n",
      "                            alldata.append(data_row)\n",
      "                    except ValueError:\n",
      "                        pass\n",
      "                    \n",
      "    result = pd.DataFrame(alldata,columns=['rank','year','movie_title','imdbid','rtid','studio','total_gross','num_theaters_total','opening_revenue','num_theaters_opening','date_open','date_close'])\n",
      "    if (missing_imdbid>0):\n",
      "        print 'unable to find a imdbid for ' + str(missing_imdbid) + ' movies of ' + str(num_movies) + ' in ' + str(yr)\n",
      "    if (missing_rtid>0):\n",
      "        print 'unable to find a rtid for ' + str(missing_rtid) + ' movies of ' + str(num_movies) + ' in ' + str(yr)\n",
      "    return result"
     ],
     "language": "python",
     "metadata": {},
     "outputs": [],
     "prompt_number": 7
    },
    {
     "cell_type": "markdown",
     "metadata": {},
     "source": [
      "In order to obtain the candidate movies for the timerange of the data we are investigating (2003-2012), we must run get_top_movies_by_year and create a unified dataframe of movie data. The datafile 'alldata_200.csv' includes all of the data outlined previously that we obtain from <a href=\"http://www.boxofficemojo.com/yearly\">Box Office Mojo</a>. The datafile 'iddata_200.csv' only includes the data needed by portions of the project in order to collect additional movie data, namely: year, movie rank, imdbid, and rtid."
     ]
    },
    {
     "cell_type": "code",
     "collapsed": false,
     "input": [
      "# #Reads in all data\n",
      "# alldata=get_top_movies_by_year(2003,200)\n",
      "# for yr in range(2004,2013):\n",
      "#     num_movies=200\n",
      "#     result=get_top_movies_by_year(yr,num_movies)\n",
      "#     alldata.append(result,ignore_index=True)\n",
      "#     print yr\n",
      "# filename='./data/alldata_' + str(num_movies) + '.csv'\n",
      "# alldata.to_csv(filename, index=False)\n",
      "\n",
      "# Saves just title and id data in a separate file\n",
      "# narrowed_data=pd.DataFrame(alldata, columns=['year','rank','movie_title','imdbid','rtid'])\n",
      "# filename='./data/iddata_' + str(num_movies) + '.csv'\n",
      "# narrowed_data.to_csv(filename, index=False)"
     ],
     "language": "python",
     "metadata": {},
     "outputs": []
    },
    {
     "cell_type": "markdown",
     "metadata": {},
     "source": [
      "<h2>Data Refinement and Cleaning</h2>\n",
      "The data collected via get_top_movies by year successfully found the IMDBid (the reference id used across the different segment of this project) for approximately 90% of the top 200 movies in each given year. The additional 10% of IMDBids not found by the above procedure were identified manually. The manual determination of IMDBids was recorded in two new files: 'revised_id_data.csv' and 'completedata.csv'.\n",
      "\n",
      "Of the top 200 movies from each year, approximately 5% were excluded from further analysis. The top reasons for movie exclusion included:\n",
      "<ul>\n",
      "<li>Re-releases of prior movies (often occurs around the holidays)</li>\n",
      "<li>Re-releases of movies with visual enhancements (a very common procedure for Disney movies)</li>\n",
      "<li>Exclusive release of movies in IMAX theaters</li>\n",
      "<li>One-time limited showings of events such as concerts (see <a href=\"http://www.fathomevents.com/event/private-lives\">Fathom Events</a>)</li>\n",
      "</ul>\n",
      "\n",
      "When a movie was excluded from analysis its IMDBid was set to 'None'."
     ]
    },
    {
     "cell_type": "markdown",
     "metadata": {},
     "source": [
      "<h2>Verifying Movie Selection</h2>"
     ]
    },
    {
     "cell_type": "code",
     "collapsed": false,
     "input": [
      "id_data=pd.read_csv('data/revised_id_data.csv')\n",
      "imdb_as_index = id_data.set_index('imdbid')\n",
      "imdb_as_index.head()\n",
      "data_by_year = imdb_as_index.groupby('year').groups\n",
      "performance = {}\n",
      "total_nominees_present = 0\n",
      "total_nominees_absent = 0\n",
      "total_winners_present = 0\n",
      "total_winners_absent = 0\n",
      "for (yr,yr_list) in oscars.iteritems():\n",
      "    yr = int(yr)\n",
      "    if yr>2003:\n",
      "        yr=yr-1\n",
      "        movieids=data_by_year[yr]\n",
      "        nominee_ids=[]\n",
      "        winner_ids=[]\n",
      "        \n",
      "        nominees_present = 0\n",
      "        nominees_absent = 0\n",
      "        winners_present = 0\n",
      "        winners_absent = 0\n",
      "        \n",
      "        for (award,award_list) in yr_list.iteritems():\n",
      "            winner_ids.append(award_list['winner'][1])\n",
      "            for nominee in award_list['nominees']:\n",
      "                nominee_ids.append(nominee[1])\n",
      "        for nid in nominee_ids:\n",
      "            is_movie_saved = False\n",
      "            for top200id in movieids:\n",
      "                try:\n",
      "                    corrected_id=str(int(top200id)).zfill(7)\n",
      "                    if corrected_id==nid:\n",
      "                        is_movie_saved = True\n",
      "                except:\n",
      "                    pass\n",
      "            if is_movie_saved:\n",
      "                nominees_present += 1\n",
      "            else:\n",
      "                nominees_absent += 1\n",
      "        for wid in winner_ids:\n",
      "            is_movie_saved = False\n",
      "            for top200id in movieids:\n",
      "                try:\n",
      "                    corrected_id=str(int(top200id)).zfill(7)\n",
      "                    if corrected_id==wid:\n",
      "                        is_movie_saved = True\n",
      "                except:\n",
      "                    pass\n",
      "            if is_movie_saved:\n",
      "                winners_present += 1\n",
      "            else:\n",
      "                winners_absent += 1    \n",
      "        total_nominees_present += nominees_present\n",
      "        total_nominees_absent += nominees_absent\n",
      "        total_winners_present += winners_present\n",
      "        total_winners_absent += winners_absent\n",
      "        performance[yr]=[winners_present,winners_absent,nominees_present,nominees_absent]\n",
      "        print str(yr) + ' nominee performance: ' + str(float(nominees_present)/(nominees_present+nominees_absent))\n",
      "        print str(yr) + ' winner performance: ' + str(float(winners_present)/(winners_present+winners_absent))\n",
      "        print\n",
      "\n",
      "print 'total nominee performance: ' + str(float(total_nominees_present)/(total_nominees_present+total_nominees_absent))\n",
      "print 'total winner performance: ' + str(float(total_winners_present)/(total_winners_present+total_winners_absent))"
     ],
     "language": "python",
     "metadata": {},
     "outputs": [
      {
       "output_type": "stream",
       "stream": "stdout",
       "text": [
        "2005 nominee performance: 0.776470588235\n",
        "2005 winner performance: 0.666666666667\n",
        "\n",
        "2006 nominee performance: 0.786516853933\n",
        "2006 winner performance: 0.833333333333\n",
        "\n",
        "2003 nominee performance: 0.813953488372"
       ]
      },
      {
       "output_type": "stream",
       "stream": "stdout",
       "text": [
        "\n",
        "2003 winner performance: 0.875\n",
        "\n",
        "2004 nominee performance: 0.806818181818\n",
        "2004 winner performance: 0.875\n",
        "\n",
        "2007 nominee performance: 0.797752808989"
       ]
      },
      {
       "output_type": "stream",
       "stream": "stdout",
       "text": [
        "\n",
        "2007 winner performance: 0.791666666667\n",
        "\n",
        "2008 nominee performance: 0.747126436782\n",
        "2008 winner performance: 0.791666666667\n",
        "\n",
        "2010 nominee performance: 0.760416666667"
       ]
      },
      {
       "output_type": "stream",
       "stream": "stdout",
       "text": [
        "\n",
        "2010 winner performance: 0.833333333333\n",
        "\n",
        "2009 nominee performance: 0.721649484536\n",
        "2009 winner performance: 0.541666666667\n",
        "\n",
        "2012 nominee performance: 0.755102040816"
       ]
      },
      {
       "output_type": "stream",
       "stream": "stdout",
       "text": [
        "\n",
        "2012 winner performance: 0.833333333333\n",
        "\n",
        "2011 nominee performance: 0.736842105263\n",
        "2011 winner performance: 0.833333333333\n",
        "\n",
        "total nominee performance: 0.769230769231\n",
        "total winner performance: 0.7875\n"
       ]
      }
     ],
     "prompt_number": 11
    },
    {
     "cell_type": "markdown",
     "metadata": {},
     "source": [
      "<h1>Getting the Reviews</h1>\n",
      "\n",
      "We need to constuct dataframes of reviews of movies from different review sources.  We will be using the following sources:\n",
      "<ul>\n",
      "<li>Rotten Tomatoes</li>\n",
      "<li>Metacritic</li>\n",
      "<li>IMDB</li>\n",
      "</ul>\n",
      "\n",
      "For each of these, we will construct a separate dataframe with the following structure:\n",
      "<table>\n",
      "    <thead>\n",
      "        <tr>\n",
      "            <th>Critic</th>\n",
      "            <th>Normalized Score</th>\n",
      "            <th>Quote</th>\n",
      "            <th>ID</th>\n",
      "            <th>Title</th>\n",
      "            <th>Source</th>\n",
      "            <th>Overall Score</th>\n",
      "            <th>Year</th>\n",
      "        </tr>\n",
      "    <thead>\n",
      "    <tbody>\n",
      "        <tr>\n",
      "            <td>Name of the Critic</td>\n",
      "            <td>Score normalized to what the max is for this source</td>\n",
      "            <td>The string of the review</td>\n",
      "            <td>Movie ID for this site</td>\n",
      "            <td>Title of the movie</td>\n",
      "            <td>Source of the review</td>\n",
      "            <td>The overall score for this movie on this site (if there is one)</td>\n",
      "            <td>Year that the movie is form</td>\n",
      "        </tr>\n",
      "    </tbody>\n",
      "</table>"
     ]
    },
    {
     "cell_type": "code",
     "collapsed": false,
     "input": [
      "print \"For Example:\"\n",
      "pd.DataFrame({\"critic\":[''],\"norm_score\":[''],\"quote\":[''],\"id\":[''],\"title\":[''],\"source\":[''],\"overall_score\":[''],\"year\":[''],\"date\":['']}).head()"
     ],
     "language": "python",
     "metadata": {},
     "outputs": [
      {
       "output_type": "stream",
       "stream": "stdout",
       "text": [
        "For Example:\n"
       ]
      },
      {
       "html": [
        "<div style=\"max-height:1000px;max-width:1500px;overflow:auto;\">\n",
        "<table border=\"1\" class=\"dataframe\">\n",
        "  <thead>\n",
        "    <tr style=\"text-align: right;\">\n",
        "      <th></th>\n",
        "      <th>critic</th>\n",
        "      <th>date</th>\n",
        "      <th>id</th>\n",
        "      <th>norm_score</th>\n",
        "      <th>overall_score</th>\n",
        "      <th>quote</th>\n",
        "      <th>source</th>\n",
        "      <th>title</th>\n",
        "      <th>year</th>\n",
        "    </tr>\n",
        "  </thead>\n",
        "  <tbody>\n",
        "    <tr>\n",
        "      <th>0</th>\n",
        "      <td> </td>\n",
        "      <td> </td>\n",
        "      <td> </td>\n",
        "      <td> </td>\n",
        "      <td> </td>\n",
        "      <td> </td>\n",
        "      <td> </td>\n",
        "      <td> </td>\n",
        "      <td> </td>\n",
        "    </tr>\n",
        "  </tbody>\n",
        "</table>\n",
        "</div>"
       ],
       "metadata": {},
       "output_type": "pyout",
       "prompt_number": 6,
       "text": [
        "  critic date id norm_score overall_score quote source title year\n",
        "0                                                                "
       ]
      }
     ],
     "prompt_number": 6
    },
    {
     "cell_type": "markdown",
     "metadata": {},
     "source": [
      "<h2>Rotten Tomatoes</h2>"
     ]
    },
    {
     "cell_type": "code",
     "collapsed": true,
     "input": [
      "# write the functions to scrape the data"
     ],
     "language": "python",
     "metadata": {},
     "outputs": [],
     "prompt_number": 33
    },
    {
     "cell_type": "code",
     "collapsed": false,
     "input": [
      "# actually call the functions and save in a file"
     ],
     "language": "python",
     "metadata": {},
     "outputs": []
    },
    {
     "cell_type": "markdown",
     "metadata": {},
     "source": [
      "<h2>Metacritic</h2>"
     ]
    },
    {
     "cell_type": "code",
     "collapsed": false,
     "input": [
      "# write the functions to scrape the data"
     ],
     "language": "python",
     "metadata": {},
     "outputs": []
    },
    {
     "cell_type": "code",
     "collapsed": false,
     "input": [
      "# actually call the functions and save in a file"
     ],
     "language": "python",
     "metadata": {},
     "outputs": []
    },
    {
     "cell_type": "markdown",
     "metadata": {},
     "source": [
      "<h2>IMDB</h2>"
     ]
    },
    {
     "cell_type": "code",
     "collapsed": false,
     "input": [
      "\"\"\"\n",
      "Function\n",
      "--------\n",
      "get_imdb_movie_reviews:\n",
      "    retrieves the movie reviews for a given movie on imdb\n",
      "Parameters\n",
      "----------\n",
      "id:\n",
      "    imdb movie ID\n",
      "title:\n",
      "    title of the movie (why scrape it when we already have it?)\n",
      "year:\n",
      "    year that the movie was made\n",
      "Returns\n",
      "-------\n",
      "returns a dataframe containing all of the movie revies of the form\n",
      "listed above\n",
      "\"\"\"\n",
      "def get_imdb_movie_reviews(id,title,year):\n",
      "    score_max = 10.0\n",
      "    link = \"http://www.imdb.com/title/tt%0.7d/\" % id\n",
      "    url = web.URL(link)\n",
      "    dom = web.DOM(url.download(cached=True))\n",
      "    overall = float(dom.by_class(\"titlePageSprite star-box-giga-star\")[0].content.strip()) / score_max\n",
      "    # try to get year directly from page; this isn't present in every entry\n",
      "    try:\n",
      "        year = dom('span.itemprop[itemprop=name]')[0].next.next.by_tag('a')[0].content\n",
      "        year = int(year)\n",
      "    except:\n",
      "        pass\n",
      "    rc = dom.by_attr(itemprop=\"reviewCount\")[0].content.split(\" \")[0].replace(\",\",\"\")\n",
      "    revlink = link + 'reviews?count=%s&start=0' % rc # get at most 20 reviews\n",
      "    url = web.URL(revlink)\n",
      "    dom = web.DOM(url.download(cached=True))\n",
      "    parser = HTMLParser()\n",
      "    lst = []\n",
      "    hrs = dom.by_id('tn15main').by_tag('hr')\n",
      "    for hr in hrs:\n",
      "        div = hr.next.next\n",
      "        try:\n",
      "            score = float(div.by_tag(\"img\")[1].attrs[\"alt\"].split(\"/\")[0]) / score_max\n",
      "            date = div.by_tag(\"small\")[2].content\n",
      "        except:\n",
      "            continue\n",
      "        user = div.by_tag(\"a\")[1].content\n",
      "        p = div.next.next\n",
      "        review = parser.unescape(p.content.replace(\"<br />\",\"\\n\"))\n",
      "        lst.append(dict(critic=user,norm_score=score,quote=review,\n",
      "                        id=id,title=title,source=\"IMDB\",overall_score=overall,year=year,date=date))\n",
      "    return lst\n",
      "\n",
      "def get_all_imdb_movies():\n",
      "    fname = 'revised_id_data.csv'\n",
      "    df = []\n",
      "    result = pd.read_csv('data/%s' % fname)\n",
      "    f = open('errors.txt','w+')\n",
      "    year = 2003\n",
      "    for index,row in result.iterrows():\n",
      "        try: \n",
      "            row['imdbid'] = int(row['imdbid'])\n",
      "        except:\n",
      "            continue\n",
      "        newyr = row['year']\n",
      "        if(int(newyr) != year and df != []):\n",
      "            # filter_quotes(df)\n",
      "            fo = open('imdbrev%d.json' % year,'w+')\n",
      "            json.dump(df,fo)\n",
      "            fo.close()\n",
      "            year = int(newyr)\n",
      "            df = []\n",
      "            gc.collect()\n",
      "        try:\n",
      "            df.append(get_imdb_movie_reviews(row['imdbid'],row['movie_title'],row['year']))\n",
      "            print row['movie_title'], year\n",
      "        except:\n",
      "            print >> f, \"ERROR: %s\" % row['movie_title']\n",
      "    f.close()\n",
      "    if df:\n",
      "        fo = open('imdbrev%d.json' % year,'w+')\n",
      "        json.dump(df,fo)\n",
      "        fo.close()"
     ],
     "language": "python",
     "metadata": {},
     "outputs": [],
     "prompt_number": 4
    },
    {
     "cell_type": "code",
     "collapsed": false,
     "input": [
      "# create the json files for all of the imdb reviews\n",
      "# get_all_imdb_movies()"
     ],
     "language": "python",
     "metadata": {},
     "outputs": []
    },
    {
     "cell_type": "markdown",
     "metadata": {},
     "source": [
      "Although we had all the data for imdb now, we still had to clean it.  It turns out there was were a log of unicode characters in the quotes that exporting to csv doesn't really play nice with.  In order to overcome this, we had to clean the data removing all escaped sequences including '\\r','\\n','\\t', and all unicode characters."
     ]
    },
    {
     "cell_type": "code",
     "collapsed": false,
     "input": [
      "def filter_quotes(df):\n",
      "    for index,row in df.iterrows():\n",
      "        text = row['quote']\n",
      "        text = re.sub(r\"\\\\u[0-9a-zAZ]{4}\", \"\", text)\n",
      "        text = re.sub(\"\\\\\\[^\\'|\\\"]\", \"\", text)\n",
      "        text = text.replace('\\n','')\n",
      "        text = unicodedata.normalize('NFKC',unicode(text)).encode('ascii','ignore')\n",
      "        df.ix[index, 'quote'] = text"
     ],
     "language": "python",
     "metadata": {},
     "outputs": [],
     "prompt_number": 6
    },
    {
     "cell_type": "code",
     "collapsed": false,
     "input": [
      "\"\"\"\n",
      "Here we construct the dataframe for all of the imdb reviews.\n",
      "We then filter it, and save it to a csv.\n",
      "\"\"\"\n",
      "\"\"\"\n",
      "imdb_f_list = ['imdbrev2003.json', 'imdbrev2004.json', 'imdbrev2005.json', \n",
      "               'imdbrev2006.json', 'imdbrev2007.json', 'imdbrev2008.json', \n",
      "               'imdbrev2009.json', 'imdbrev2010.json', 'imdbrev2011.json', 'imdbrev2012.json'] \n",
      "\n",
      "\n",
      "imdb_df = pd.DataFrame({\"critic\":[],\"norm_score\":[],\"quote\":[],\"id\":[],\n",
      "               \"title\":[],\"source\":[],\"overall_score\":[],\"year\":[],\"date\":[]})\n",
      "\n",
      "for f in imdb_f_list:\n",
      "    fp = open('data/' + f,'rb')\n",
      "    j = json.load(fp)\n",
      "    fp.close()\n",
      "    for m in j:\n",
      "        if m != []:\n",
      "            imdb_df = imdb_df.append(m)\n",
      "        gc.collect()\n",
      "        \n",
      "filter_quotes(imdb_df)\n",
      "imdb_df.to_csv('data/imdb_reviews.csv',index=False)\n",
      "\"\"\"\n",
      "pass"
     ],
     "language": "python",
     "metadata": {},
     "outputs": [],
     "prompt_number": 5
    },
    {
     "cell_type": "code",
     "collapsed": false,
     "input": [
      "# read saved dataframe\n",
      "imdb_df = pd.read_csv('data/imdb_reviews.csv')\n",
      "imdb_df.head()"
     ],
     "language": "python",
     "metadata": {},
     "outputs": [
      {
       "html": [
        "<div style=\"max-height:1000px;max-width:1500px;overflow:auto;\">\n",
        "<table border=\"1\" class=\"dataframe\">\n",
        "  <thead>\n",
        "    <tr style=\"text-align: right;\">\n",
        "      <th></th>\n",
        "      <th>critic</th>\n",
        "      <th>date</th>\n",
        "      <th>id</th>\n",
        "      <th>norm_score</th>\n",
        "      <th>overall_score</th>\n",
        "      <th>quote</th>\n",
        "      <th>source</th>\n",
        "      <th>title</th>\n",
        "      <th>year</th>\n",
        "    </tr>\n",
        "  </thead>\n",
        "  <tbody>\n",
        "    <tr>\n",
        "      <th>0</th>\n",
        "      <td>                       GuyCC</td>\n",
        "      <td> 17 December 2003</td>\n",
        "      <td> 167260</td>\n",
        "      <td> 1</td>\n",
        "      <td> 0.89</td>\n",
        "      <td> Peter Jackson has done it.  He has created an ...</td>\n",
        "      <td> IMDB</td>\n",
        "      <td> The Lord of the Rings: The Return of the King</td>\n",
        "      <td> 2003</td>\n",
        "    </tr>\n",
        "    <tr>\n",
        "      <th>1</th>\n",
        "      <td>  (muffinking66@hotmail.com)</td>\n",
        "      <td> 16 December 2003</td>\n",
        "      <td> 167260</td>\n",
        "      <td> 1</td>\n",
        "      <td> 0.89</td>\n",
        "      <td> Saying that this film starts where `Two Towers...</td>\n",
        "      <td> IMDB</td>\n",
        "      <td> The Lord of the Rings: The Return of the King</td>\n",
        "      <td> 2003</td>\n",
        "    </tr>\n",
        "    <tr>\n",
        "      <th>2</th>\n",
        "      <td>             James Hitchcock</td>\n",
        "      <td>  4 February 2004</td>\n",
        "      <td> 167260</td>\n",
        "      <td> 1</td>\n",
        "      <td> 0.89</td>\n",
        "      <td> I am, I admit, an unlikely convert to the reli...</td>\n",
        "      <td> IMDB</td>\n",
        "      <td> The Lord of the Rings: The Return of the King</td>\n",
        "      <td> 2003</td>\n",
        "    </tr>\n",
        "    <tr>\n",
        "      <th>3</th>\n",
        "      <td>                     eiratan</td>\n",
        "      <td> 17 December 2003</td>\n",
        "      <td> 167260</td>\n",
        "      <td> 1</td>\n",
        "      <td> 0.89</td>\n",
        "      <td> As a movie watcher, I tend to become bored wit...</td>\n",
        "      <td> IMDB</td>\n",
        "      <td> The Lord of the Rings: The Return of the King</td>\n",
        "      <td> 2003</td>\n",
        "    </tr>\n",
        "    <tr>\n",
        "      <th>4</th>\n",
        "      <td>                    Derek237</td>\n",
        "      <td>    16 March 2005</td>\n",
        "      <td> 167260</td>\n",
        "      <td> 1</td>\n",
        "      <td> 0.89</td>\n",
        "      <td> Obviously, I'm aware of the fact that the Lord...</td>\n",
        "      <td> IMDB</td>\n",
        "      <td> The Lord of the Rings: The Return of the King</td>\n",
        "      <td> 2003</td>\n",
        "    </tr>\n",
        "  </tbody>\n",
        "</table>\n",
        "</div>"
       ],
       "metadata": {},
       "output_type": "pyout",
       "prompt_number": 5,
       "text": [
        "                        critic              date      id  norm_score  overall_score                                              quote source                                          title  year\n",
        "0                        GuyCC  17 December 2003  167260           1           0.89  Peter Jackson has done it.  He has created an ...   IMDB  The Lord of the Rings: The Return of the King  2003\n",
        "1   (muffinking66@hotmail.com)  16 December 2003  167260           1           0.89  Saying that this film starts where `Two Towers...   IMDB  The Lord of the Rings: The Return of the King  2003\n",
        "2              James Hitchcock   4 February 2004  167260           1           0.89  I am, I admit, an unlikely convert to the reli...   IMDB  The Lord of the Rings: The Return of the King  2003\n",
        "3                      eiratan  17 December 2003  167260           1           0.89  As a movie watcher, I tend to become bored wit...   IMDB  The Lord of the Rings: The Return of the King  2003\n",
        "4                     Derek237     16 March 2005  167260           1           0.89  Obviously, I'm aware of the fact that the Lord...   IMDB  The Lord of the Rings: The Return of the King  2003"
       ]
      }
     ],
     "prompt_number": 5
    },
    {
     "cell_type": "markdown",
     "metadata": {},
     "source": [
      "<h1>Exploring the Data</h1>\n",
      "\n",
      "Here we visualize the reviews from the different sources to get a sense of the number of review, distribution of ratings, ..."
     ]
    },
    {
     "cell_type": "markdown",
     "metadata": {},
     "source": [
      "<h2>Movie Studios</h2>"
     ]
    },
    {
     "cell_type": "code",
     "collapsed": false,
     "input": [
      "alldata=\n",
      "studios=[]\n",
      "counts=[]\n",
      "studio_data=[]\n",
      "tickloc=0.5\n",
      "barloc=0\n",
      "barlocs=[]\n",
      "ticklocs=[]\n",
      "studio_grouped_data=(alldata.groupby('studio')).groups\n",
      "for key,val in studio_grouped_data.items():\n",
      "    studio_data.append((key,len(val)))\n",
      "    ticklocs.append(tickloc)\n",
      "    barlocs.append(barloc)\n",
      "    tickloc+=1\n",
      "    barloc+=1\n",
      "studio_data.sort(key=lambda x:x[1])\n",
      "print studio_data\n",
      "for key,val in studio_data:\n",
      "    studios.append(key)\n",
      "    counts.append(val)\n",
      "\n",
      "plt.bar(barlocs, height=counts, width=1,color='r',edgecolor=\"white\")\n",
      "plt.xticks(rotation=90,size=9)\n",
      "plt.xticks(ticklocs,studios)\n",
      "histogram_style()"
     ],
     "language": "python",
     "metadata": {},
     "outputs": [
      {
       "ename": "NameError",
       "evalue": "name 'alldata' is not defined",
       "output_type": "pyerr",
       "traceback": [
        "\u001b[0;31m---------------------------------------------------------------------------\u001b[0m\n\u001b[0;31mNameError\u001b[0m                                 Traceback (most recent call last)",
        "\u001b[0;32m<ipython-input-13-90a8eac93487>\u001b[0m in \u001b[0;36m<module>\u001b[0;34m()\u001b[0m\n\u001b[1;32m      6\u001b[0m \u001b[0mbarlocs\u001b[0m\u001b[0;34m=\u001b[0m\u001b[0;34m[\u001b[0m\u001b[0;34m]\u001b[0m\u001b[0;34m\u001b[0m\u001b[0m\n\u001b[1;32m      7\u001b[0m \u001b[0mticklocs\u001b[0m\u001b[0;34m=\u001b[0m\u001b[0;34m[\u001b[0m\u001b[0;34m]\u001b[0m\u001b[0;34m\u001b[0m\u001b[0m\n\u001b[0;32m----> 8\u001b[0;31m \u001b[0mstudio_grouped_data\u001b[0m\u001b[0;34m=\u001b[0m\u001b[0;34m(\u001b[0m\u001b[0malldata\u001b[0m\u001b[0;34m.\u001b[0m\u001b[0mgroupby\u001b[0m\u001b[0;34m(\u001b[0m\u001b[0;34m'studio'\u001b[0m\u001b[0;34m)\u001b[0m\u001b[0;34m)\u001b[0m\u001b[0;34m.\u001b[0m\u001b[0mgroups\u001b[0m\u001b[0;34m\u001b[0m\u001b[0m\n\u001b[0m\u001b[1;32m      9\u001b[0m \u001b[0;32mfor\u001b[0m \u001b[0mkey\u001b[0m\u001b[0;34m,\u001b[0m\u001b[0mval\u001b[0m \u001b[0;32min\u001b[0m \u001b[0mstudio_grouped_data\u001b[0m\u001b[0;34m.\u001b[0m\u001b[0mitems\u001b[0m\u001b[0;34m(\u001b[0m\u001b[0;34m)\u001b[0m\u001b[0;34m:\u001b[0m\u001b[0;34m\u001b[0m\u001b[0m\n\u001b[1;32m     10\u001b[0m     \u001b[0mstudio_data\u001b[0m\u001b[0;34m.\u001b[0m\u001b[0mappend\u001b[0m\u001b[0;34m(\u001b[0m\u001b[0;34m(\u001b[0m\u001b[0mkey\u001b[0m\u001b[0;34m,\u001b[0m\u001b[0mlen\u001b[0m\u001b[0;34m(\u001b[0m\u001b[0mval\u001b[0m\u001b[0;34m)\u001b[0m\u001b[0;34m)\u001b[0m\u001b[0;34m)\u001b[0m\u001b[0;34m\u001b[0m\u001b[0m\n",
        "\u001b[0;31mNameError\u001b[0m: name 'alldata' is not defined"
       ]
      }
     ],
     "prompt_number": 13
    },
    {
     "cell_type": "markdown",
     "metadata": {},
     "source": [
      "<h2>IMDB Reviews & Ratings</h2>"
     ]
    },
    {
     "cell_type": "markdown",
     "metadata": {},
     "source": [
      "In order to understand what the distribution of movies and movie reviewers looks like, we calculated the number of reviews, critics, and movies and then plot the number of reviews per critic."
     ]
    },
    {
     "cell_type": "code",
     "collapsed": false,
     "input": [
      "print \"Number of reviews: %i\" % len(imdb_df)\n",
      "print \"Number of critics: %i\" % imdb_df.critic.unique().size\n",
      "print \"Number of movies:  %i\" % imdb_df.title.unique().size"
     ],
     "language": "python",
     "metadata": {},
     "outputs": [
      {
       "output_type": "stream",
       "stream": "stdout",
       "text": [
        "Number of reviews: 435277\n",
        "Number of critics: 199188"
       ]
      },
      {
       "output_type": "stream",
       "stream": "stdout",
       "text": [
        "\n",
        "Number of movies:  1900\n"
       ]
      }
     ],
     "prompt_number": 6
    },
    {
     "cell_type": "code",
     "collapsed": false,
     "input": [
      "imdb_df.groupby('critic').title.count().hist(log=True, bins=range(20), edgecolor='white')\n",
      "plt.xlabel(\"Number of reviews per critic\")\n",
      "plt.ylabel(\"N\")\n",
      "histogram_style()"
     ],
     "language": "python",
     "metadata": {},
     "outputs": [
      {
       "metadata": {},
       "output_type": "display_data",
       "png": "[encoded data removed]",
       "text": [
        "<matplotlib.figure.Figure at 0x88630b0>"
       ]
      }
     ],
     "prompt_number": 7
    },
    {
     "cell_type": "markdown",
     "metadata": {},
     "source": [
      "As one can see, although we have a very large number of reviews and reviews, most of them do not interview that many movies themselves."
     ]
    },
    {
     "cell_type": "markdown",
     "metadata": {},
     "source": [
      "Next, we will visualize how the number of reviews changes over the years, and how the average ratings equuivalently change."
     ]
    },
    {
     "cell_type": "code",
     "collapsed": false,
     "input": [
      "plt.plot(imdb_df.groupby('year').critic.count().index,imdb_df.groupby('year').critic.count())\n",
      "plt.xlabel('Year')\n",
      "plt.ylabel('Number of Reviews')\n",
      "plt.show()"
     ],
     "language": "python",
     "metadata": {},
     "outputs": [
      {
       "metadata": {},
       "output_type": "display_data",
       "png": "[encoded data removed]",
       "text": [
        "<matplotlib.figure.Figure at 0x20356f50>"
       ]
      }
     ],
     "prompt_number": 8
    },
    {
     "cell_type": "markdown",
     "metadata": {},
     "source": [
      "From this plot, as expected, there is a sharp increase in the number of reviews beginning in 2003, the start of our data, but strangely enough, there is some (sparse) data for years previous 2002.  Let's investigate those."
     ]
    },
    {
     "cell_type": "code",
     "collapsed": false,
     "input": [
      "imdb_df[imdb_df['year'] < 2003].groupby('year').title.unique()"
     ],
     "language": "python",
     "metadata": {},
     "outputs": [
      {
       "metadata": {},
       "output_type": "pyout",
       "prompt_number": 9,
       "text": [
        "year\n",
        "2001    [Winged Migration, Nowhere in Africa, Monsters...\n",
        "2002    [Phone Booth, 28 Days Later, Bend It Like Beck...\n",
        "dtype: object"
       ]
      }
     ],
     "prompt_number": 9
    },
    {
     "cell_type": "markdown",
     "metadata": {},
     "source": [
      "Considering the earliest movie we tried to get was in 2003, it looks like something went wrong.  These movies *are* from 2002 and 2001, so these errors are likely from the original year classification.  Because we are only interested in years in [2003,2012], we will just remove these entries from the dataframe."
     ]
    },
    {
     "cell_type": "code",
     "collapsed": false,
     "input": [
      "# let's remove the entries for years < 2003\n",
      "imdb_df = imdb_df[imdb_df['year'] >= 2003]"
     ],
     "language": "python",
     "metadata": {},
     "outputs": [],
     "prompt_number": 10
    },
    {
     "cell_type": "code",
     "collapsed": false,
     "input": [
      "# Finally, let's try plotting the same graph as above\n",
      "plt.plot(imdb_df.groupby('year').critic.count().index,imdb_df.groupby('year').critic.count())\n",
      "plt.xlabel('Year')\n",
      "plt.xticks(range(2002,2013))\n",
      "plt.ylabel('Number of Reviews')\n",
      "plt.show()"
     ],
     "language": "python",
     "metadata": {},
     "outputs": [
      {
       "metadata": {},
       "output_type": "display_data",
       "png": "[encoded data removed]",
       "text": [
        "<matplotlib.figure.Figure at 0x2035ca10>"
       ]
      }
     ],
     "prompt_number": 11
    },
    {
     "cell_type": "markdown",
     "metadata": {},
     "source": [
      "As expected, we now only have our data from 2003 onwards.  Interestingly, the peak of user reviews is in 2005, with the number of reviews exponentially falling off until 2011.  Thus, it seems that as IMDB became more widespread and popular, *fewer* people actually have been leaving reviews for movies.\n",
      "\n",
      "Now that we have an idea of the distribution of the data over the years, let's look at the actual review ratings.  On IMDB users have the option of rating movies without actually leaving a review.  Here, we compare the overall movie rating to the average rating user critics give as an approximate measure of whether user critics or general users rate movies more harshly."
     ]
    },
    {
     "cell_type": "code",
     "collapsed": false,
     "input": [
      "print \"average movie rating: %0.2f / 10\" % (imdb_df.groupby('title')['overall_score'].unique().mean() * 10)\n",
      "print \"average user critic rating: %0.2f / 10\" % (imdb_df.groupby('critic')['norm_score'].mean().mean() * 10) "
     ],
     "language": "python",
     "metadata": {},
     "outputs": [
      {
       "output_type": "stream",
       "stream": "stdout",
       "text": [
        "average movie rating: 6.27 / 10\n",
        "average user critic rating: 6.27 / 10"
       ]
      },
      {
       "output_type": "stream",
       "stream": "stdout",
       "text": [
        "\n"
       ]
      }
     ],
     "prompt_number": 12
    },
    {
     "cell_type": "markdown",
     "metadata": {},
     "source": [
      "From this measure, it appears that the user critics rate the movies *the same* as the average user. Let's try to visualize this a little more explicitly. "
     ]
    },
    {
     "cell_type": "code",
     "collapsed": false,
     "input": [
      "#Your code here\n",
      "imdb_df.groupby('critic').norm_score.mean().hist(bins=10, edgecolor='w', lw=1)\n",
      "plt.xlabel(\"Average rating per critic\")\n",
      "plt.ylabel(\"N\")\n",
      "histogram_style()"
     ],
     "language": "python",
     "metadata": {},
     "outputs": [
      {
       "metadata": {},
       "output_type": "display_data",
       "png": "[encoded data removed]",
       "text": [
        "<matplotlib.figure.Figure at 0xe759b90>"
       ]
      }
     ],
     "prompt_number": 13
    },
    {
     "cell_type": "markdown",
     "metadata": {},
     "source": [
      "From this histogram, it appears we have an almost bi-modal distribution where the highest frequency averages are at the polar ends.  Considering that a user would be more likely to write a review for a movie if s/he absolutely hated or loved it, this isn't that surprising because then they too would rate it at the extremes.  \n",
      "<hr/>"
     ]
    },
    {
     "cell_type": "markdown",
     "metadata": {},
     "source": [
      "Lastly, before we begin out statistical analysis, we must only include reviews that are written in the time *before* the movie was considered for an oscar, else our data would be unnecesarily skewed because after an award does (or does not) win an award, critics may be more inclined to give it a certain review type.  In this way, we try to eliminate this particular type of bias here."
     ]
    },
    {
     "cell_type": "code",
     "collapsed": false,
     "input": [
      "# first let's convert the date column to an actual date object\n",
      "imdb_df['date'] = pd.to_datetime(imdb_df['date'])\n",
      "def less_than_date(row):\n",
      "    return row['date'] < pd.to_datetime('January 1 ' + str(row['year'] + 1))\n",
      "imdb_df = imdb_df[imdb_df.apply(less_than_date,axis=1)]"
     ],
     "language": "python",
     "metadata": {},
     "outputs": [],
     "prompt_number": 6
    },
    {
     "cell_type": "code",
     "collapsed": false,
     "input": [
      "print \"Number of reviews: %i\" % len(imdb_df)\n",
      "print \"Number of critics: %i\" % imdb_df.critic.unique().size\n",
      "print \"Number of movies:  %i\" % imdb_df.title.unique().size"
     ],
     "language": "python",
     "metadata": {},
     "outputs": [
      {
       "output_type": "stream",
       "stream": "stdout",
       "text": [
        "Number of reviews: 242533\n",
        "Number of critics: 130504"
       ]
      },
      {
       "output_type": "stream",
       "stream": "stdout",
       "text": [
        "\n",
        "Number of movies:  1852\n"
       ]
      }
     ],
     "prompt_number": 10
    },
    {
     "cell_type": "markdown",
     "metadata": {},
     "source": [
      "As we can see, this filter reduced the number of reviews almost by half, but we also lost some movies."
     ]
    },
    {
     "cell_type": "markdown",
     "metadata": {},
     "source": [
      "<h1>Statistical Analysis</h1>\n",
      "\n",
      "We will now use a Naive Bayes classifier to build a prediction model for whether a movie will be nominated for an oscar.  From there we will try to pick from among the nominees to get a winner."
     ]
    },
    {
     "cell_type": "markdown",
     "metadata": {},
     "source": [
      "Before we begin our analysis, we should first add to our dataframe information about the results of the oscar nominations and winners.  Here we  add two columns to our dataframe: one for the winner, and one for the nomination.  For preliminary analysis, we treat all movie-speicifc oscars as the same."
     ]
    },
    {
     "cell_type": "markdown",
     "metadata": {},
     "source": [
      "Because we store the imdb ids as strings in the oscars dataframe, we need to make sure we have a \n",
      "consistent representation in the imdb review dataframe.  Because we read in from a csv, pandas\n",
      "automatically turns the ids into ints, so we have to do the editting here."
     ]
    },
    {
     "cell_type": "code",
     "collapsed": false,
     "input": [
      "imdb_df['id'] = imdb_df['id'].map(lambda id: str(id).zfill(7))"
     ],
     "language": "python",
     "metadata": {},
     "outputs": [],
     "prompt_number": 7
    },
    {
     "cell_type": "code",
     "collapsed": false,
     "input": [
      "# now it's time to add the data\n",
      "\"\"\"\n",
      "Function\n",
      "--------\n",
      "add_oscar_data:\n",
      "    Adds data for being an oscar winner or nominee in place in the passed dataframe\n",
      "\n",
      "Parameters\n",
      "----------\n",
      "    df: Dataframe\n",
      "    award_name: Name of the oscar award\n",
      "        If None, then creates general columns for winning any or being nominated in any\n",
      "\"\"\"\n",
      "\n",
      "movie_awards = [u'Best Documentary, Features',u'Best Writing, Screenplay Written Directly for the Screen',\n",
      "                u'Best Foreign Language Film',u'Best Short Film, Live Action',u'Best Music, Original Song',\n",
      "                u'Best Music, Original Score',u'Best Art Direction-Set Decoration',u'Best Costume Design',\n",
      "                u'Best Short Film, Animated',u'Best Makeup',u'Best Film Editing',u'Best Animated Feature',\n",
      "                u'Best Writing, Screenplay Based on Material from Another Medium',u'Best Sound Editing',\n",
      "                u'Best Cinematography',u'Best Documentary, Short Subjects',u'Best Sound',u'Best Director',\n",
      "                u'Best Picture',u'Best Visual Effects']\n",
      "\n",
      "def add_oscar_data(df,award_name=None):\n",
      "    awards = movie_awards\n",
      "    if award_name:\n",
      "        awards = [award_name]\n",
      "        win = award_name.replace(' ','_') + '_winner'\n",
      "        nom = award_name.replace(' ','_') + '_nom'\n",
      "    else:\n",
      "        win = 'oscar_winner'\n",
      "        nom = 'oscar_nom'\n",
      "    df[win] = 0\n",
      "    df[nom] = 0\n",
      "    for year in oscars:\n",
      "        for award in movie_awards:\n",
      "            try:\n",
      "                df[win][df.id == oscars[year][award]['winner'][1]] = 1\n",
      "                df[nom][df.id == oscars[year][award]['winner'][1]] = 1\n",
      "                for n in oscars[year][award]['nominees']:\n",
      "                    df[nom][df.id == n[1]] = 1\n",
      "            # skip awards that don't exist for a year\n",
      "            except:\n",
      "                pass"
     ],
     "language": "python",
     "metadata": {},
     "outputs": [],
     "prompt_number": 8
    },
    {
     "cell_type": "code",
     "collapsed": false,
     "input": [
      "add_oscar_data(imdb_df)\n",
      "imdb_df.head()"
     ],
     "language": "python",
     "metadata": {},
     "outputs": [
      {
       "html": [
        "<div style=\"max-height:1000px;max-width:1500px;overflow:auto;\">\n",
        "<table border=\"1\" class=\"dataframe\">\n",
        "  <thead>\n",
        "    <tr style=\"text-align: right;\">\n",
        "      <th></th>\n",
        "      <th>critic</th>\n",
        "      <th>date</th>\n",
        "      <th>id</th>\n",
        "      <th>norm_score</th>\n",
        "      <th>overall_score</th>\n",
        "      <th>quote</th>\n",
        "      <th>source</th>\n",
        "      <th>title</th>\n",
        "      <th>year</th>\n",
        "      <th>oscar_winner</th>\n",
        "      <th>oscar_nom</th>\n",
        "    </tr>\n",
        "  </thead>\n",
        "  <tbody>\n",
        "    <tr>\n",
        "      <th>0</th>\n",
        "      <td>                       GuyCC</td>\n",
        "      <td>2003-12-17 00:00:00</td>\n",
        "      <td> 0167260</td>\n",
        "      <td> 1.0</td>\n",
        "      <td> 0.89</td>\n",
        "      <td> Peter Jackson has done it.  He has created an ...</td>\n",
        "      <td> IMDB</td>\n",
        "      <td> The Lord of the Rings: The Return of the King</td>\n",
        "      <td> 2003</td>\n",
        "      <td> 1</td>\n",
        "      <td> 1</td>\n",
        "    </tr>\n",
        "    <tr>\n",
        "      <th>1</th>\n",
        "      <td>  (muffinking66@hotmail.com)</td>\n",
        "      <td>2003-12-16 00:00:00</td>\n",
        "      <td> 0167260</td>\n",
        "      <td> 1.0</td>\n",
        "      <td> 0.89</td>\n",
        "      <td> Saying that this film starts where `Two Towers...</td>\n",
        "      <td> IMDB</td>\n",
        "      <td> The Lord of the Rings: The Return of the King</td>\n",
        "      <td> 2003</td>\n",
        "      <td> 1</td>\n",
        "      <td> 1</td>\n",
        "    </tr>\n",
        "    <tr>\n",
        "      <th>3</th>\n",
        "      <td>                     eiratan</td>\n",
        "      <td>2003-12-17 00:00:00</td>\n",
        "      <td> 0167260</td>\n",
        "      <td> 1.0</td>\n",
        "      <td> 0.89</td>\n",
        "      <td> As a movie watcher, I tend to become bored wit...</td>\n",
        "      <td> IMDB</td>\n",
        "      <td> The Lord of the Rings: The Return of the King</td>\n",
        "      <td> 2003</td>\n",
        "      <td> 1</td>\n",
        "      <td> 1</td>\n",
        "    </tr>\n",
        "    <tr>\n",
        "      <th>5</th>\n",
        "      <td>                Chris_Docker</td>\n",
        "      <td>2003-12-17 00:00:00</td>\n",
        "      <td> 0167260</td>\n",
        "      <td> 0.9</td>\n",
        "      <td> 0.89</td>\n",
        "      <td> Feeling weary and battle-worn, I have just sta...</td>\n",
        "      <td> IMDB</td>\n",
        "      <td> The Lord of the Rings: The Return of the King</td>\n",
        "      <td> 2003</td>\n",
        "      <td> 1</td>\n",
        "      <td> 1</td>\n",
        "    </tr>\n",
        "    <tr>\n",
        "      <th>6</th>\n",
        "      <td>                   eviltimmy</td>\n",
        "      <td>2003-12-20 00:00:00</td>\n",
        "      <td> 0167260</td>\n",
        "      <td> 1.0</td>\n",
        "      <td> 0.89</td>\n",
        "      <td> This is the final movie in the Lord of the Rin...</td>\n",
        "      <td> IMDB</td>\n",
        "      <td> The Lord of the Rings: The Return of the King</td>\n",
        "      <td> 2003</td>\n",
        "      <td> 1</td>\n",
        "      <td> 1</td>\n",
        "    </tr>\n",
        "  </tbody>\n",
        "</table>\n",
        "</div>"
       ],
       "metadata": {},
       "output_type": "pyout",
       "prompt_number": 9,
       "text": [
        "                        critic                date       id  norm_score  overall_score                                              quote source                                          title  year  oscar_winner  oscar_nom\n",
        "0                        GuyCC 2003-12-17 00:00:00  0167260         1.0           0.89  Peter Jackson has done it.  He has created an ...   IMDB  The Lord of the Rings: The Return of the King  2003             1          1\n",
        "1   (muffinking66@hotmail.com) 2003-12-16 00:00:00  0167260         1.0           0.89  Saying that this film starts where `Two Towers...   IMDB  The Lord of the Rings: The Return of the King  2003             1          1\n",
        "3                      eiratan 2003-12-17 00:00:00  0167260         1.0           0.89  As a movie watcher, I tend to become bored wit...   IMDB  The Lord of the Rings: The Return of the King  2003             1          1\n",
        "5                 Chris_Docker 2003-12-17 00:00:00  0167260         0.9           0.89  Feeling weary and battle-worn, I have just sta...   IMDB  The Lord of the Rings: The Return of the King  2003             1          1\n",
        "6                    eviltimmy 2003-12-20 00:00:00  0167260         1.0           0.89  This is the final movie in the Lord of the Rin...   IMDB  The Lord of the Rings: The Return of the King  2003             1          1"
       ]
      }
     ],
     "prompt_number": 9
    },
    {
     "cell_type": "markdown",
     "metadata": {},
     "source": [
      "Using different review dataframes, we will now compute a pair of numerical X, Y, Z arrays where:\n",
      "    \n",
      " * X is a `(nreview, nwords)` array. Each row corresponds to a bag-of-words representation for a single review.\n",
      " * Y is a `nreview`-element 1/0 array, encoding whether a movie wins an oscar (1) or didn't win (0).\n",
      " * Z is a `nreview`-element 1/0 array, encoding whether a movie is nominated for an oscar (1) or not (0)."
     ]
    },
    {
     "cell_type": "code",
     "collapsed": false,
     "input": [
      "from sklearn.feature_extraction.text import CountVectorizer\n",
      "from sklearn.cross_validation import train_test_split\n",
      "from sklearn.naive_bayes import MultinomialNB\n",
      "from sklearn.ensemble import RandomForestClassifier\n",
      "\n",
      "\"\"\"\n",
      "Function\n",
      "--------\n",
      "make_xyz\n",
      "\n",
      "Build a bag-of-words training set for the review data\n",
      "\n",
      "Parameters\n",
      "-----------\n",
      "df : Pandas DataFrame\n",
      "    The review for a dataset\n",
      "    \n",
      "vectorizer : CountVectorizer object (optional)\n",
      "    A CountVectorizer object to use. If None,\n",
      "    then create and fit a new CountVectorizer.\n",
      "    Otherwise, re-fit the provided CountVectorizer\n",
      "    using the critics data\n",
      "    \n",
      "Returns\n",
      "-------\n",
      "X : numpy array (dims: nreview, nwords)\n",
      "    Bag-of-words representation for each review.\n",
      "Y : numpy array (dims: nreview)\n",
      "    1/0 array. 1 = won an oscar, 0 = didn't win an oscar\n",
      "Z : numpy array (dims: nreview)\n",
      "    1/0 array. 1 = nominated, 0 = not nominated\n",
      "\n",
      "Examples\n",
      "--------\n",
      "X, Y, Z = make_xyz(imdb_id)\n",
      "\"\"\"\n",
      "def make_xyz(df, vectorizer=None): \n",
      "    if vectorizer is None:\n",
      "        vectorizer = CountVectorizer()\n",
      "    X = vectorizer.fit_transform(df.quote)\n",
      "    X = X.tocsc()  # some versions of sklearn return COO format\n",
      "    gc.collect()\n",
      "    return X, df['oscar_winner'].astype(np.int), df['oscar_nom'].astype(np.int)"
     ],
     "language": "python",
     "metadata": {},
     "outputs": [],
     "prompt_number": 24
    },
    {
     "cell_type": "markdown",
     "metadata": {},
     "source": [
      "Because the dataframe for imdb is so large, though, we cannot in reality create a vectorizer based on this because it would not be able to fit in memory.  So here we will take a random sample of the quotes for each movie."
     ]
    },
    {
     "cell_type": "code",
     "collapsed": false,
     "input": [],
     "language": "python",
     "metadata": {},
     "outputs": []
    },
    {
     "cell_type": "code",
     "collapsed": false,
     "input": [
      "X, Y, Z = make_xyz(imdb_df)"
     ],
     "language": "python",
     "metadata": {},
     "outputs": [
      {
       "ename": "MemoryError",
       "evalue": "",
       "output_type": "pyerr",
       "traceback": [
        "\u001b[1;31m---------------------------------------------------------------------------\u001b[0m\n\u001b[1;31mMemoryError\u001b[0m                               Traceback (most recent call last)",
        "\u001b[1;32m<ipython-input-26-d6ffbadbfc71>\u001b[0m in \u001b[0;36m<module>\u001b[1;34m()\u001b[0m\n\u001b[1;32m----> 1\u001b[1;33m \u001b[0mX\u001b[0m\u001b[1;33m,\u001b[0m \u001b[0mY\u001b[0m\u001b[1;33m,\u001b[0m \u001b[0mZ\u001b[0m \u001b[1;33m=\u001b[0m \u001b[0mmake_xyz\u001b[0m\u001b[1;33m(\u001b[0m\u001b[0mimdb_df\u001b[0m\u001b[1;33m)\u001b[0m\u001b[1;33m\u001b[0m\u001b[0m\n\u001b[0m",
        "\u001b[1;32m<ipython-input-24-30c03b0212ac>\u001b[0m in \u001b[0;36mmake_xyz\u001b[1;34m(df, vectorizer)\u001b[0m\n\u001b[0;32m     38\u001b[0m     \u001b[1;32mif\u001b[0m \u001b[0mvectorizer\u001b[0m \u001b[1;32mis\u001b[0m \u001b[0mNone\u001b[0m\u001b[1;33m:\u001b[0m\u001b[1;33m\u001b[0m\u001b[0m\n\u001b[0;32m     39\u001b[0m         \u001b[0mvectorizer\u001b[0m \u001b[1;33m=\u001b[0m \u001b[0mCountVectorizer\u001b[0m\u001b[1;33m(\u001b[0m\u001b[1;33m)\u001b[0m\u001b[1;33m\u001b[0m\u001b[0m\n\u001b[1;32m---> 40\u001b[1;33m     \u001b[0mX\u001b[0m \u001b[1;33m=\u001b[0m \u001b[0mvectorizer\u001b[0m\u001b[1;33m.\u001b[0m\u001b[0mfit_transform\u001b[0m\u001b[1;33m(\u001b[0m\u001b[0mdf\u001b[0m\u001b[1;33m.\u001b[0m\u001b[0mquote\u001b[0m\u001b[1;33m)\u001b[0m\u001b[1;33m\u001b[0m\u001b[0m\n\u001b[0m\u001b[0;32m     41\u001b[0m     \u001b[0mX\u001b[0m \u001b[1;33m=\u001b[0m \u001b[0mX\u001b[0m\u001b[1;33m.\u001b[0m\u001b[0mtocsc\u001b[0m\u001b[1;33m(\u001b[0m\u001b[1;33m)\u001b[0m  \u001b[1;31m# some versions of sklearn return COO format\u001b[0m\u001b[1;33m\u001b[0m\u001b[0m\n\u001b[0;32m     42\u001b[0m     \u001b[0mgc\u001b[0m\u001b[1;33m.\u001b[0m\u001b[0mcollect\u001b[0m\u001b[1;33m(\u001b[0m\u001b[1;33m)\u001b[0m\u001b[1;33m\u001b[0m\u001b[0m\n",
        "\u001b[1;32mC:\\Anaconda\\lib\\site-packages\\sklearn\\feature_extraction\\text.pyc\u001b[0m in \u001b[0;36mfit_transform\u001b[1;34m(self, raw_documents, y)\u001b[0m\n\u001b[0;32m    778\u001b[0m         \u001b[0mmax_features\u001b[0m \u001b[1;33m=\u001b[0m \u001b[0mself\u001b[0m\u001b[1;33m.\u001b[0m\u001b[0mmax_features\u001b[0m\u001b[1;33m\u001b[0m\u001b[0m\n\u001b[0;32m    779\u001b[0m \u001b[1;33m\u001b[0m\u001b[0m\n\u001b[1;32m--> 780\u001b[1;33m         \u001b[0mvocabulary\u001b[0m\u001b[1;33m,\u001b[0m \u001b[0mX\u001b[0m \u001b[1;33m=\u001b[0m \u001b[0mself\u001b[0m\u001b[1;33m.\u001b[0m\u001b[0m_count_vocab\u001b[0m\u001b[1;33m(\u001b[0m\u001b[0mraw_documents\u001b[0m\u001b[1;33m,\u001b[0m \u001b[0mself\u001b[0m\u001b[1;33m.\u001b[0m\u001b[0mfixed_vocabulary\u001b[0m\u001b[1;33m)\u001b[0m\u001b[1;33m\u001b[0m\u001b[0m\n\u001b[0m\u001b[0;32m    781\u001b[0m         \u001b[0mX\u001b[0m \u001b[1;33m=\u001b[0m \u001b[0mX\u001b[0m\u001b[1;33m.\u001b[0m\u001b[0mtocsc\u001b[0m\u001b[1;33m(\u001b[0m\u001b[1;33m)\u001b[0m\u001b[1;33m\u001b[0m\u001b[0m\n\u001b[0;32m    782\u001b[0m \u001b[1;33m\u001b[0m\u001b[0m\n",
        "\u001b[1;32mC:\\Anaconda\\lib\\site-packages\\sklearn\\feature_extraction\\text.pyc\u001b[0m in \u001b[0;36m_count_vocab\u001b[1;34m(self, raw_documents, fixed_vocab)\u001b[0m\n\u001b[0;32m    715\u001b[0m             \u001b[1;32mfor\u001b[0m \u001b[0mfeature\u001b[0m \u001b[1;32min\u001b[0m \u001b[0manalyze\u001b[0m\u001b[1;33m(\u001b[0m\u001b[0mdoc\u001b[0m\u001b[1;33m)\u001b[0m\u001b[1;33m:\u001b[0m\u001b[1;33m\u001b[0m\u001b[0m\n\u001b[0;32m    716\u001b[0m                 \u001b[1;32mtry\u001b[0m\u001b[1;33m:\u001b[0m\u001b[1;33m\u001b[0m\u001b[0m\n\u001b[1;32m--> 717\u001b[1;33m                     \u001b[0mj_indices\u001b[0m\u001b[1;33m.\u001b[0m\u001b[0mappend\u001b[0m\u001b[1;33m(\u001b[0m\u001b[0mvocabulary\u001b[0m\u001b[1;33m[\u001b[0m\u001b[0mfeature\u001b[0m\u001b[1;33m]\u001b[0m\u001b[1;33m)\u001b[0m\u001b[1;33m\u001b[0m\u001b[0m\n\u001b[0m\u001b[0;32m    718\u001b[0m                 \u001b[1;32mexcept\u001b[0m \u001b[0mKeyError\u001b[0m\u001b[1;33m:\u001b[0m\u001b[1;33m\u001b[0m\u001b[0m\n\u001b[0;32m    719\u001b[0m                     \u001b[1;31m# Ignore out-of-vocabulary items for fixed_vocab=True\u001b[0m\u001b[1;33m\u001b[0m\u001b[1;33m\u001b[0m\u001b[0m\n",
        "\u001b[1;31mMemoryError\u001b[0m: "
       ]
      }
     ],
     "prompt_number": 26
    },
    {
     "cell_type": "markdown",
     "metadata": {},
     "source": [
      "\n",
      "**3.2** Next, randomly split the data into two groups: a\n",
      "training set and a validation set. \n",
      "\n",
      "Use the training set to train a `MultinomialNB` classifier,\n",
      "and print the accuracy of this model on the validation set\n",
      "\n",
      "**Hint**\n",
      "You can use `train_test_split` to split up the training data"
     ]
    },
    {
     "cell_type": "code",
     "collapsed": false,
     "input": [
      "#Your code here\n",
      "xtrain, xtest, ytrain, ytest = train_test_split(X, Y)\n",
      "clf = MultinomialNB().fit(xtrain, ytrain)\n",
      "\n",
      "print \"Accuracy: %0.2f%%\" % (100 * clf.score(xtest, ytest))"
     ],
     "language": "python",
     "metadata": {},
     "outputs": [
      {
       "output_type": "stream",
       "stream": "stdout",
       "text": [
        "Accuracy: 77.15%\n"
       ]
      }
     ],
     "prompt_number": 14
    },
    {
     "cell_type": "markdown",
     "metadata": {},
     "source": [
      "**3.3:**\n",
      "\n",
      "We say a model is **overfit** if it performs better on the training data than on the test data. Is this model overfit? If so, how much more accurate is the model on the training data compared to the test data?"
     ]
    },
    {
     "cell_type": "code",
     "collapsed": false,
     "input": [
      "# Your code here. Print the accuracy on the test and training dataset\n",
      "training_accuracy = clf.score(xtrain, ytrain)\n",
      "test_accuracy = clf.score(xtest, ytest)\n",
      "\n",
      "print \"Accuracy on training data: %0.2f\" % (training_accuracy)\n",
      "print \"Accuracy on test data:     %0.2f\" % (test_accuracy)"
     ],
     "language": "python",
     "metadata": {},
     "outputs": [
      {
       "output_type": "stream",
       "stream": "stdout",
       "text": [
        "Accuracy on training data: 0.90\n",
        "Accuracy on test data:     0.77\n"
       ]
      }
     ],
     "prompt_number": 16
    },
    {
     "cell_type": "markdown",
     "metadata": {},
     "source": [
      "*Interpret these numbers in a few sentences here*\n",
      "\n",
      "**Answer** *Some overfitting seems to be happening here, since the error rate on the test data (23%) is more than twice as large as the error rate on the training data (10%). It's possible (though unlikely) that the accuracy difference is a product of chance, and not a symptom of overfitting. This could be tested with cross-validation, by repeatedly fitting and scoring the classifier on different train/test splits. If the performance on the training data is consistently better than the test data, then overfitting has occured. This is the case here.*"
     ]
    },
    {
     "cell_type": "markdown",
     "metadata": {},
     "source": [
      "**3.4: Model Calibration**\n",
      "\n",
      "Bayesian models like the Naive Bayes classifier have the nice property that they compute probabilities of a particular classification -- the `predict_proba` and `predict_log_proba` methods of `MultinomialNB` compute these probabilities. \n",
      "\n",
      "Being the respectable Bayesian that you are, you should always assess whether these probabilities are **calibrated** -- that is, whether a prediction made with a confidence of `x%` is correct approximately `x%` of the time.\n",
      "\n",
      "Let's make a plot to assess model calibration. Schematically, we want something like this:\n",
      "\n",
      "<img src=\"http://i.imgur.com/ea5B6zr.png\" width=500px>\n",
      "\n",
      "In words, we want to:\n",
      "\n",
      "* Take a collection of examples, and compute the freshness probability for each using `clf.predict_proba`\n",
      "* Gather examples into bins of similar freshness probability (the diagram shows 5 groups -- you should use something closer to 20)\n",
      "* For each bin, count the number of examples in that bin, and compute the fraction of examples in the bin which are fresh\n",
      "* In the upper plot, graph the expected P(Fresh) (x axis) and observed freshness fraction (Y axis). Estimate the uncertainty in observed freshness fraction $F$ via the [equation](http://en.wikipedia.org/wiki/Binomial_proportion_confidence_interval) $\\sigma = \\sqrt{F (1-F) / N}$\n",
      "* Overplot the line y=x. This is the trend we would expect if the model is calibrated\n",
      "* In the lower plot, show the number of examples in each bin\n",
      "\n",
      "**Hints**\n",
      "\n",
      "The output of `clf.predict_proba(X)` is a `(N example, 2)` array. The first column gives the probability $P(Y=0)$ or  $P(Rotten)$, and the second gives $P(Y=1)$ or $P(Fresh)$.\n",
      "\n",
      "The above image is just a guideline -- feel free to explore other options!"
     ]
    },
    {
     "cell_type": "code",
     "collapsed": false,
     "input": [
      "\"\"\"\n",
      "Function\n",
      "--------\n",
      "calibration_plot\n",
      "\n",
      "Builds a plot like the one above, from a classifier and review data\n",
      "\n",
      "Inputs\n",
      "-------\n",
      "clf : Classifier object\n",
      "    A MultinomialNB classifier\n",
      "X : (Nexample, Nfeature) array\n",
      "    The bag-of-words data\n",
      "Y : (Nexample) integer array\n",
      "    1 if a review is Fresh\n",
      "\"\"\"    \n",
      "#your code here\n",
      "\n",
      "def calibration_plot(clf, xtest, ytest):\n",
      "    prob = clf.predict_proba(xtest)[:, 1]\n",
      "    outcome = ytest\n",
      "    data = pd.DataFrame(dict(prob=prob, outcome=outcome))\n",
      "\n",
      "    #group outcomes into bins of similar probability\n",
      "    bins = np.linspace(0, 1, 20)\n",
      "    cuts = pd.cut(prob, bins)\n",
      "    binwidth = bins[1] - bins[0]\n",
      "    \n",
      "    #freshness ratio and number of examples in each bin\n",
      "    cal = data.groupby(cuts).outcome.agg(['mean', 'count'])\n",
      "    cal['pmid'] = (bins[:-1] + bins[1:]) / 2\n",
      "    cal['sig'] = np.sqrt(cal.pmid * (1 - cal.pmid) / cal['count'])\n",
      "        \n",
      "    #the calibration plot\n",
      "    ax = plt.subplot2grid((3, 1), (0, 0), rowspan=2)\n",
      "    p = plt.errorbar(cal.pmid, cal['mean'], cal['sig'])\n",
      "    plt.plot(cal.pmid, cal.pmid, linestyle='--', lw=1, color='k')\n",
      "    plt.ylabel(\"Empirical P(Fresh)\")\n",
      "    remove_border(ax)\n",
      "    \n",
      "    #the distribution of P(fresh)\n",
      "    ax = plt.subplot2grid((3, 1), (2, 0), sharex=ax)\n",
      "    \n",
      "    plt.bar(left=cal.pmid - binwidth / 2, height=cal['count'],\n",
      "            width=.95 * (bins[1] - bins[0]),\n",
      "            fc=p[0].get_color())\n",
      "    \n",
      "    plt.xlabel(\"Predicted P(Fresh)\")\n",
      "    remove_border()\n",
      "    plt.ylabel(\"Number\")"
     ],
     "language": "python",
     "metadata": {},
     "outputs": [],
     "prompt_number": 17
    },
    {
     "cell_type": "code",
     "collapsed": false,
     "input": [
      "calibration_plot(clf, xtest, ytest)"
     ],
     "language": "python",
     "metadata": {},
     "outputs": [
      {
       "metadata": {},
       "output_type": "display_data",
       "png": "[encoded data removed]",
       "text": [
        "<matplotlib.figure.Figure at 0x1099fb250>"
       ]
      }
     ],
     "prompt_number": 18
    },
    {
     "cell_type": "markdown",
     "metadata": {},
     "source": [
      "**3.5** We might say a model is *over-confident* if the freshness fraction is usually closer to 0.5 than expected (that is, there is more uncertainty than the model predicted). Likewise, a model is *under-confident* if the probabilities are usually further away from 0.5. Is this model generally over- or under-confident? "
     ]
    },
    {
     "cell_type": "markdown",
     "metadata": {},
     "source": [
      "**Answer** *This model is over-confident. For a properly calibrated model, we would expect ~10% of the P(Fresh)~0.1 reviews to actually be fresh. However, the actual freshness rate is closer to 30%. Likewise, for reviews where P(Fresh) ~0.9, the actuall freshness fraction is closer to 0.7. In other words, there is more uncertainty in the outcome than implied by the model.*"
     ]
    },
    {
     "cell_type": "markdown",
     "metadata": {},
     "source": [
      "#### Cross Validation\n",
      "\n",
      "Our classifier has a few free parameters. The two most important are:\n",
      "\n",
      " 1. The `min_df` keyword in `CountVectorizer`, which will ignore words which appear in fewer than `min_df` fraction of reviews. Words that appear only once or twice can lead to overfitting, since words which occur only a few times might correlate very well with Fresh/Rotten reviews by chance in the training dataset.\n",
      " \n",
      " 2. The [`alpha` keyword](http://scikit-learn.org/stable/modules/naive_bayes.html#multinomial-naive-bayes) in the Bayesian classifier is a \"smoothing parameter\" -- increasing the value decreases the sensitivity to any single feature, and tends to pull prediction probabilities closer to 50%. \n",
      "\n",
      "As discussed in lecture and HW2, a common technique for choosing appropriate values for these parameters is **cross-validation**. Let's choose good parameters by maximizing the cross-validated log-likelihood.\n",
      "\n",
      "**3.6** Using `clf.predict_logproba`, write a function that computes the log-likelihood of a dataset"
     ]
    },
    {
     "cell_type": "code",
     "collapsed": false,
     "input": [
      "\"\"\"\n",
      "Function\n",
      "--------\n",
      "log_likelihood\n",
      "\n",
      "Compute the log likelihood of a dataset according to \n",
      "a bayesian classifier. \n",
      "The Log Likelihood is defined by\n",
      "\n",
      "L = Sum_fresh(logP(fresh)) + Sum_rotten(logP(rotten))\n",
      "\n",
      "Where Sum_fresh indicates a sum over all fresh reviews, \n",
      "and Sum_rotten indicates a sum over rotten reviews\n",
      "    \n",
      "Parameters\n",
      "----------\n",
      "clf : Bayesian classifier\n",
      "x : (nexample, nfeature) array\n",
      "    The input data\n",
      "y : (nexample) integer array\n",
      "    Whether each review is Fresh\n",
      "\"\"\"\n",
      "#your code here\n",
      "\n",
      "def log_likelihood(clf, x, y):\n",
      "    prob = clf.predict_log_proba(x)\n",
      "    rotten = y == 0\n",
      "    fresh = ~rotten\n",
      "    return prob[rotten, 0].sum() + prob[fresh, 1].sum()"
     ],
     "language": "python",
     "metadata": {},
     "outputs": [],
     "prompt_number": 19
    },
    {
     "cell_type": "markdown",
     "metadata": {},
     "source": [
      "Here's a function to estimate the cross-validated value of a scoring function, given a classifier and data"
     ]
    },
    {
     "cell_type": "code",
     "collapsed": false,
     "input": [
      "from sklearn.cross_validation import KFold\n",
      "\n",
      "def cv_score(clf, x, y, score_func):\n",
      "    \"\"\"\n",
      "    Uses 5-fold cross validation to estimate a score of a classifier\n",
      "    \n",
      "    Inputs\n",
      "    ------\n",
      "    clf : Classifier object\n",
      "    x : Input feature vector\n",
      "    y : Input class labels\n",
      "    score_func : Function like log_likelihood, that takes (clf, x, y) as input,\n",
      "                 and returns a score\n",
      "                 \n",
      "    Returns\n",
      "    -------\n",
      "    The average score obtained by randomly splitting (x, y) into training and \n",
      "    test sets, fitting on the training set, and evaluating score_func on the test set\n",
      "    \n",
      "    Examples\n",
      "    cv_score(clf, x, y, log_likelihood)\n",
      "    \"\"\"\n",
      "    result = 0\n",
      "    nfold = 5\n",
      "    for train, test in KFold(y.size, nfold): # split data into train/test groups, 5 times\n",
      "        clf.fit(x[train], y[train]) # fit\n",
      "        result += score_func(clf, x[test], y[test]) # evaluate score function on held-out data\n",
      "    return result / nfold # average"
     ],
     "language": "python",
     "metadata": {},
     "outputs": [],
     "prompt_number": 20
    },
    {
     "cell_type": "markdown",
     "metadata": {},
     "source": [
      "**3.7**\n",
      "\n",
      "Fill in the remaining code in this block, to loop over many values of `alpha` and `min_df` to determine\n",
      "which settings are \"best\" in the sense of maximizing the cross-validated log-likelihood"
     ]
    },
    {
     "cell_type": "code",
     "collapsed": false,
     "input": [
      "#the grid of parameters to search over\n",
      "alphas = [0, .1, 1, 5, 10, 50]\n",
      "min_dfs = [1e-5, 1e-4, 1e-3, 1e-2, 1e-1]\n",
      "\n",
      "#Find the best value for alpha and min_df, and the best classifier\n",
      "best_alpha = None\n",
      "best_min_df = None\n",
      "max_loglike = -np.inf\n",
      "\n",
      "for alpha in alphas:\n",
      "    for min_df in min_dfs:         \n",
      "        vectorizer = CountVectorizer(min_df = min_df)       \n",
      "        X, Y = make_xy(critics, vectorizer)\n",
      "        \n",
      "        #your code here\n",
      "        clf = MultinomialNB(alpha=alpha)\n",
      "        loglike = cv_score(clf, X, Y, log_likelihood)\n",
      "\n",
      "        if loglike > max_loglike:\n",
      "            max_loglike = loglike\n",
      "            best_alpha, best_min_df = alpha, min_df"
     ],
     "language": "python",
     "metadata": {},
     "outputs": [],
     "prompt_number": 21
    },
    {
     "cell_type": "code",
     "collapsed": false,
     "input": [
      "print \"alpha: %f\" % best_alpha\n",
      "print \"min_df: %f\" % best_min_df"
     ],
     "language": "python",
     "metadata": {},
     "outputs": [
      {
       "output_type": "stream",
       "stream": "stdout",
       "text": [
        "alpha: 5.000000\n",
        "min_df: 0.001000\n"
       ]
      }
     ],
     "prompt_number": 22
    },
    {
     "cell_type": "markdown",
     "metadata": {},
     "source": [
      "**3.8** Now that you've determined values for alpha and min_df that optimize the cross-validated log-likelihood, repeat the steps in 3.1, 3.2, and 3.4 to train a final classifier with these parameters, re-evaluate the accuracy, and draw a new calibration plot."
     ]
    },
    {
     "cell_type": "code",
     "collapsed": false,
     "input": [
      "#Your code here\n",
      "\n",
      "vectorizer = CountVectorizer(min_df=best_min_df)\n",
      "X, Y = make_xy(critics, vectorizer)\n",
      "xtrain, xtest, ytrain, ytest = train_test_split(X, Y)\n",
      "\n",
      "clf = MultinomialNB(alpha=best_alpha).fit(xtrain, ytrain)\n",
      "\n",
      "calibration_plot(clf, xtest, ytest)\n",
      "\n",
      "# Your code here. Print the accuracy on the test and training dataset\n",
      "training_accuracy = clf.score(xtrain, ytrain)\n",
      "test_accuracy = clf.score(xtest, ytest)\n",
      "\n",
      "print \"Accuracy on training data: %0.2f\" % (training_accuracy)\n",
      "print \"Accuracy on test data:     %0.2f\" % (test_accuracy)"
     ],
     "language": "python",
     "metadata": {},
     "outputs": [
      {
       "output_type": "stream",
       "stream": "stdout",
       "text": [
        "Accuracy on training data: 0.78\n",
        "Accuracy on test data:     0.74\n"
       ]
      },
      {
       "metadata": {},
       "output_type": "display_data",
       "png": "[encoded data removed]",
       "text": [
        "<matplotlib.figure.Figure at 0x10dae40d0>"
       ]
      }
     ],
     "prompt_number": 23
    },
    {
     "cell_type": "markdown",
     "metadata": {},
     "source": [
      "**3.9** Discuss the various ways in which Cross-Validation has affected the model. Is the new model more or less accurate? Is overfitting better or worse? Is the model more or less calibrated?"
     ]
    },
    {
     "cell_type": "markdown",
     "metadata": {},
     "source": [
      "**Answer** *The new model is slightly less accurate on the test data (74% vs 77% on the original model). However, it is both better calibrated and less over-fit than before. In other words, while the classification accuracy is slightly worse, the probabilities themselves are more accurate. The model is still slightly over-confident when making low P(Fresh) predictions. However, the calibration plot shows the model is usually within 1 error bar of the expected performance where P(Fresh) >= 0.2. Finally, the new model makes less-conclusive predictions on average -- the histogram in the calibration plot is more uniformly distributed, with fewer predictions clustered around P(Fresh) = 0 or 1.*"
     ]
    },
    {
     "cell_type": "markdown",
     "metadata": {},
     "source": [
      "*To think about/play with, but not to hand in: What would happen if you tried this again using a function besides the log-likelihood -- for example, the classification accuracy?*"
     ]
    },
    {
     "cell_type": "markdown",
     "metadata": {},
     "source": [
      "### Part 4: Interpretation. What words best predict a fresh or rotten review?\n",
      "\n",
      "**4.1**\n",
      "Using your classifier and the `vectorizer.get_feature_names` method, determine which words best predict a positive or negative review. Print the 10 words\n",
      "that best predict a \"fresh\" review, and the 10 words that best predict a \"rotten\" review. For each word, what is the model's probability of freshness if the word appears one time?\n",
      "\n",
      "#### Hints\n",
      "\n",
      "* Try computing the classification probability for a feature vector which consists of all 0s, except for a single 1. What does this probability refer to?\n",
      "\n",
      "* `np.eye` generates a matrix where the ith row is all 0s, except for the ith column which is 1."
     ]
    },
    {
     "cell_type": "code",
     "collapsed": false,
     "input": [
      "## Your code here\n",
      "\n",
      "words = np.array(vectorizer.get_feature_names())\n",
      "\n",
      "x = np.eye(xtest.shape[1])\n",
      "probs = clf.predict_log_proba(x)[:, 0]\n",
      "ind = np.argsort(probs)\n",
      "\n",
      "good_words = words[ind[:10]]\n",
      "bad_words = words[ind[-10:]]\n",
      "\n",
      "good_prob = probs[ind[:10]]\n",
      "bad_prob = probs[ind[-10:]]\n",
      "\n",
      "print \"Good words\\t     P(fresh | word)\"\n",
      "for w, p in zip(good_words, good_prob):\n",
      "    print \"%20s\" % w, \"%0.2f\" % (1 - np.exp(p))\n",
      "    \n",
      "print \"Bad words\\t     P(fresh | word)\"\n",
      "for w, p in zip(bad_words, bad_prob):\n",
      "    print \"%20s\" % w, \"%0.2f\" % (1 - np.exp(p))"
     ],
     "language": "python",
     "metadata": {},
     "outputs": [
      {
       "output_type": "stream",
       "stream": "stdout",
       "text": [
        "Good words\t     P(fresh | word)\n",
        "         masterpiece 0.90\n",
        "             delight 0.89\n",
        "          remarkable 0.89\n",
        "            touching 0.87\n",
        "             perfect 0.87\n",
        "                rare 0.86\n",
        "               witty 0.86\n",
        "              superb 0.86\n",
        "            captures 0.86\n",
        "          delightful 0.85\n",
        "Bad words\t     P(fresh | word)\n",
        "               worst 0.21\n",
        "                dull 0.21\n",
        "      disappointment 0.20\n",
        "       disappointing 0.20\n",
        "             unfunny 0.20\n",
        "               bland 0.18\n",
        "          uninspired 0.17\n",
        "           pointless 0.17\n",
        "                lame 0.13\n",
        "       unfortunately 0.12\n"
       ]
      }
     ],
     "prompt_number": 22
    },
    {
     "cell_type": "markdown",
     "metadata": {},
     "source": [
      "**4.2**\n",
      "\n",
      "One of the best sources for inspiration when trying to improve a model is to look at examples where the model performs poorly. \n",
      "\n",
      "Find 5 fresh and rotten reviews where your model performs particularly poorly. Print each review."
     ]
    },
    {
     "cell_type": "code",
     "collapsed": false,
     "input": [
      "#Your code here\n",
      "x, y = make_xy(critics, vectorizer)\n",
      "\n",
      "prob = clf.predict_proba(x)[:, 0]\n",
      "predict = clf.predict(x)\n",
      "\n",
      "bad_rotten = np.argsort(prob[y == 0])[:5]\n",
      "bad_fresh = np.argsort(prob[y == 1])[-5:]\n",
      "\n",
      "print \"Mis-predicted Rotten quotes\"\n",
      "print '---------------------------'\n",
      "for row in bad_rotten:\n",
      "    print critics[y == 0].quote.irow(row)\n",
      "    print\n",
      "\n",
      "print \"Mis-predicted Fresh quotes\"\n",
      "print '--------------------------'\n",
      "for row in bad_fresh:\n",
      "    print critics[y == 1].quote.irow(row)\n",
      "    print"
     ],
     "language": "python",
     "metadata": {},
     "outputs": [
      {
       "output_type": "stream",
       "stream": "stdout",
       "text": [
        "Mis-predicted Rotten quotes\n",
        "---------------------------\n",
        "It survives today only as an unusually pure example of a typical 50s art-film strategy: the attempt to make the most modern and most popular of art forms acceptable to the intelligentsia by forcing it into an arcane, antique mold.\n",
        "\n",
        "The Waterboy is arguably Sandler's most enjoyable motion picture to date, but it's still far from a masterpiece.\n",
        "\n",
        "Pale Rider does nothing to disprove the wisdom that this genre is best left to the revival houses. A double feature of Shane and Eastwood's High Plains Drifter will do just fine, thanks.\n",
        "\n",
        "It's a sad day when an actor who's totally, beautifully in touch with his dark side finds himself stuck in a movie that's scared of its own shadow.\n",
        "\n",
        "Walken is one of the few undeniably charismatic male villains of recent years; he can generate a snakelike charm that makes his worst characters the most memorable, and here he operates on pure style.\n",
        "\n",
        "Mis-predicted Fresh quotes\n",
        "--------------------------\n",
        "The gangland plot is flimsy (bad guy Peter Greene wears too much eyeliner), and the jokes are erratic, but it's a far better showcase for Carrey's comic-from-Uranus talent than Ace Ventura.\n",
        "\n",
        "It's a one-joke movie, a funhouse ride, the cinematic equivalent of having a rubber spider thrown in your lap. But it doesn't matter if you reject the wispy script or the plot, which has as much substance as a spider's web; you'll jump every time.\n",
        "\n",
        "There's too much talent and too strong a story to mess it up. There was potential for more here, but this incarnation is nothing to be ashamed of, and some of the actors answer the bell.\n",
        "\n",
        "This tough-to-peg whodunit keeps you going for two hours, despite a few James Bond-ish (or Jane Bond-ish) turns that play less preposterously than you might assume were they to be divulged.\n",
        "\n",
        "Some of the gags don't work, but fewer than in any previous Brooks film that I've seen, and when the jokes are meant to be bad, they are riotously poor. What more can one ask of Mel Brooks?\n",
        "\n"
       ]
      }
     ],
     "prompt_number": 23
    },
    {
     "cell_type": "markdown",
     "metadata": {},
     "source": [
      "**4.3** What do you notice about these mis-predictions? Naive Bayes classifiers assume that every word affects the probability independently of other words. In what way is this a bad assumption? In your answer, report your classifier's Freshness probability for the review \"This movie is not remarkable, touching, or superb in any way\"."
     ]
    },
    {
     "cell_type": "code",
     "collapsed": false,
     "input": [
      "clf.predict_proba(vectorizer.transform(['This movie is not remarkable, touching, or superb in any way']))"
     ],
     "language": "python",
     "metadata": {},
     "outputs": [
      {
       "metadata": {},
       "output_type": "pyout",
       "prompt_number": 25,
       "text": [
        "array([[ 0.01755082,  0.98244918]])"
       ]
      }
     ],
     "prompt_number": 25
    },
    {
     "cell_type": "markdown",
     "metadata": {},
     "source": [
      "**Answer** *Many mis-predictions seem due to the fact that the quotes use more ambivalent language -- quotes along the lines of \"this should have been a good movie, but it wasn't\". Words like \"but\", \"not\", etc. act to negate the sentiment of words. However, because Naive Bayes treats each word separately, it isn't able to capture these kind of word interactions. Because the quote \"this movie is not remarkable, touching, or superb in any way\" contains typically positive words like remarkabke/touching/superb, the classifier gives it P(Fresh)=0.98.*"
     ]
    },
    {
     "cell_type": "markdown",
     "metadata": {},
     "source": [
      "**4.4**\n",
      "If this was your final project, what are 3 things you would try in order to build a more effective review classifier? What other exploratory or explanatory visualizations do you think might be helpful?"
     ]
    },
    {
     "cell_type": "markdown",
     "metadata": {},
     "source": [
      "There are many things worth trying. Some examples:\n",
      "\n",
      "1. You could try to build a NB model where the features are word pairs instead of words. This would be smart enough to realize that \"not good\" and \"so good\" mean very different things. This technique doesn't scale very well, since these features are much more sparse (and hence harder to detect repeatable patterns within).\n",
      "2. You could try a model besides NB, that would allow for interactions between words -- for example, a Random Forest classifier.\n",
      "3. You could consider adding supplemental features -- information about genre, director, cast, etc.\n",
      "4. You could build a visualization that prints word reviews, and visually encodes each word with size or color to indicate how that word contributes to P(Fresh). For example, really bad words could show up as big and red, good words as big and green, common words as small and grey, etc."
     ]
    },
    {
     "cell_type": "markdown",
     "metadata": {},
     "source": [
      "### How to Submit\n",
      "\n",
      "To submit your homework, create a folder named lastname_firstinitial_hw3 and place this notebook file in the folder. Double check that this file is still called HW3.ipynb, and that it contains your solutions. Please do **not** include the critics.csv data file, if you created one. Compress the folder (please use .zip compression) and submit to the CS109 dropbox in the appropriate folder. If we cannot access your work because these directions are not followed correctly, we will not grade your work.\n"
     ]
    },
    {
     "cell_type": "markdown",
     "metadata": {},
     "source": [
      "---\n",
      "*css tweaks in this cell*\n",
      "<style>\n",
      "div.text_cell_render {\n",
      "    line-height: 150%;\n",
      "    font-size: 110%;\n",
      "    width: 800px;\n",
      "    margin-left:50px;\n",
      "    margin-right:auto;\n",
      "    }\n",
      "</style>"
     ]
    }
   ],
   "metadata": {}
  }
 ]
}