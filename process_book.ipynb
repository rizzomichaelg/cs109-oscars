{
 "metadata": {
  "name": ""
 },
 "nbformat": 3,
 "nbformat_minor": 0,
 "worksheets": [
  {
   "cells": [
    {
     "cell_type": "markdown",
     "metadata": {},
     "source": [
      "# And the Oscar Goes to...\n",
      "\n",
      "<div class=\"banner-container\">\n",
      "<img src=\"http://hpsupporters.com/wp-content/uploads/2012/01/oscar-3.jpg\" width=320>\n",
      "</div>\n",
      "\n",
      "<div class=\"clear\"> </div>\n",
      "\n",
      "<style type=\"text/css\">\n",
      ".banner-container {\n",
      "height:350px;\n",
      "margin-left: 30px;\n",
      "float:left;\n",
      "}\n",
      ".clear {\n",
      "clear:both;\n",
      "}\n",
      "</style>"
     ]
    },
    {
     "cell_type": "code",
     "collapsed": false,
     "input": [
      "%matplotlib inline\n",
      "\n",
      "import gc\n",
      "import json, re\n",
      "import unicodedata\n",
      "import random, math\n",
      "from pattern import web\n",
      "from HTMLParser import HTMLParser\n",
      "import requests\n",
      "import pandas as pd\n",
      "import numpy as np\n",
      "import matplotlib.pyplot as plt\n",
      "\n",
      "pd.set_option('display.width', 500)\n",
      "pd.set_option('display.max_columns', 30)\n",
      "\n",
      "# set some nicer defaults for matplotlib\n",
      "from matplotlib import rcParams\n",
      "\n",
      "api_key = 'sdat77wpkdnuyvb9bqhz2y5v' #nicks api key for rotten tomatoes\n",
      "\n",
      "#these colors come from colorbrewer2.org. Each is an RGB triplet\n",
      "dark2_colors = [(0.10588235294117647, 0.6196078431372549, 0.4666666666666667),\n",
      "                (0.8509803921568627, 0.37254901960784315, 0.00784313725490196),\n",
      "                (0.4588235294117647, 0.4392156862745098, 0.7019607843137254),\n",
      "                (0.9058823529411765, 0.1607843137254902, 0.5411764705882353),\n",
      "                (0.4, 0.6509803921568628, 0.11764705882352941),\n",
      "                (0.9019607843137255, 0.6705882352941176, 0.00784313725490196),\n",
      "                (0.6509803921568628, 0.4627450980392157, 0.11372549019607843),\n",
      "                (0.4, 0.4, 0.4)]\n",
      "\n",
      "rcParams['figure.figsize'] = (10, 6)\n",
      "rcParams['figure.dpi'] = 150\n",
      "rcParams['axes.color_cycle'] = dark2_colors\n",
      "rcParams['lines.linewidth'] = 2\n",
      "rcParams['axes.grid'] = False\n",
      "rcParams['axes.facecolor'] = 'white'\n",
      "rcParams['font.size'] = 14\n",
      "rcParams['patch.edgecolor'] = 'none'\n",
      "\n",
      "def remove_border(axes=None, top=False, right=False, left=True, bottom=True):\n",
      "    \"\"\"\n",
      "    Minimize chartjunk by stripping out unnecesary plot borders and axis ticks\n",
      "    \n",
      "    The top/right/left/bottom keywords toggle whether the corresponding plot border is drawn\n",
      "    \"\"\"\n",
      "    ax = axes or plt.gca()\n",
      "    ax.spines['top'].set_visible(top)\n",
      "    ax.spines['right'].set_visible(right)\n",
      "    ax.spines['left'].set_visible(left)\n",
      "    ax.spines['bottom'].set_visible(bottom)\n",
      "    \n",
      "    #turn off all ticks\n",
      "    ax.yaxis.set_ticks_position('none')\n",
      "    ax.xaxis.set_ticks_position('none')\n",
      "    \n",
      "    #now re-enable visibles\n",
      "    if top:\n",
      "        ax.xaxis.tick_top()\n",
      "    if bottom:\n",
      "        ax.xaxis.tick_bottom()\n",
      "    if left:\n",
      "        ax.yaxis.tick_left()\n",
      "    if right:\n",
      "        ax.yaxis.tick_right()\n",
      "        \n",
      "def histogram_style():\n",
      "    remove_border(left=False)\n",
      "    plt.grid(False)\n",
      "    plt.grid(axis='y', color='w', linestyle='-', lw=1)"
     ],
     "language": "python",
     "metadata": {},
     "outputs": [],
     "prompt_number": 106
    },
    {
     "cell_type": "markdown",
     "metadata": {},
     "source": [
      "**Getting the Oscar Data**\n",
      "We are pulling the Oscar Award and Nomination data from [IMDB](http://www.imdb.com/oscars/).  From this we construct a dictionary with the following format:\n",
      "<pre>\n",
      "Oscars: {\n",
      "    Year: {\n",
      "        Award: {\n",
      "            Winner: (name,id)\n",
      "            Nominations: [(name,id)]\n",
      "        }\n",
      "    }\n",
      "}\n",
      "</pre>"
     ]
    },
    {
     "cell_type": "code",
     "collapsed": false,
     "input": [
      "\"\"\"\n",
      "EXAMPLE OF USAGE:\n",
      "allDataEver = get_all_years()\n",
      "allDataEver = repair_dict(oscarArray, allDataEver)\n",
      "print allDataEver[2013]['Best Cinematography']\n",
      "print get_by_award_all_years('Best Picture', allDataEver) \n",
      "print get_by_year(1952)\n",
      "\n",
      "#official oscar titles\n",
      "#note Best Picture instead of Best Achievement in Picture etc. \n",
      "#note that not all oscars exist for every year, i.e. best black and white \n",
      "\n",
      "oscarArray = ['Best Picture', 'Best Actor in a Leading Role', \n",
      "'Best Actress in a Leading Role', 'Best Actor in a Supporting Role', \n",
      "'Best Actress in a Supporting Role', 'Best Actor in a Supporting Role', \n",
      "'Best Director', 'Best Assistant Director', 'Best Writing, Screenplay Written Directly for the Screen', \n",
      "'Best Writing, Screenplay Based on Material from Another Medium', 'Best Cinematography', \n",
      "'Best Art Direction-Set Decoration', 'Best Costume Design', 'Best Sound', 'Best Film Editing', \n",
      "'Best Sound Editing','Best Effects, Visual Effects', 'Best Makeup', 'Best Music, Original Song', \n",
      "'Best Music, Original Score', 'Best Short Film, Animated', 'Best Short Film, Live Action', 'Best Documentary, Short Subjects', \n",
      "'Best Documentary, Features', 'Best Foreign Language Film']\n",
      "\"\"\"\n",
      "\n",
      "# HELPER FUNCTIONS\n",
      "\n",
      "from pattern.web import URL, DOM, plaintext, strip_between\n",
      "from pattern.web import NODE, TEXT, COMMENT, ELEMENT, DOCUMENT\n",
      "\n",
      "# get rid of accents etc.\n",
      "def fixWeirdChars(phrase):\n",
      "    HexEncode = ['E9','E1','E0','B7']\n",
      "    matchObj = re.search(r'&#x..', phrase)\n",
      "    if matchObj:\n",
      "        accentedHex = matchObj.group()\n",
      "        HexPart = accentedHex.split('x')[1]\n",
      "        if(HexPart in HexEncode):\n",
      "            phrase = re.sub((accentedHex+';'), 'e', phrase)\n",
      "        else:\n",
      "            Hexy = \"0x\" + HexPart\n",
      "            Num = int(Hexy, 16)\n",
      "            Char = chr(Num)\n",
      "            phrase = re.sub((accentedHex+';'), Char, phrase)\n",
      "\n",
      "        matchAgain = re.search(r'&#x..', phrase)\n",
      "        return fixWeirdChars(phrase)\n",
      "    return phrase\n",
      "\n",
      "\n",
      "def clean_unicode(s):\n",
      "\ts = str(s)\n",
      "\ts.encode('ascii','ignore')\n",
      "\ts = fixWeirdChars(s)\n",
      " \treturn str(s)\n",
      "\n",
      "# repair dictionary names\n",
      "def repair_dict(dictionary):\n",
      "\tfor year in dictionary:\n",
      "\t\tfor award in dictionary[year]:\n",
      "\t\t\tif(award == 'Best Motion Picture of the Year'):\n",
      "\t\t\t\tdictionary[year]['Best Picture'] = dictionary[year]['Best Motion Picture of the Year']\n",
      "\t\t\t\tdel dictionary[year]['Best Motion Picture of the Year']\n",
      "\n",
      "\t\t\tif(award == 'Best Performance by an Actor in a Leading Role'):\n",
      "\t\t\t\tdictionary[year]['Best Actor in a Leading Role'] = dictionary[year]['Best Performance by an Actor in a Leading Role']\n",
      "\t\t\t\tdel dictionary[year]['Best Performance by an Actor in a Leading Role']\n",
      "\n",
      "\t\t\tif(award == 'Best Performance by an Actress in a Leading Role'):\n",
      "\t\t\t\tdictionary[year]['Best Actress in a Leading Role'] = dictionary[year]['Best Performance by an Actress in a Leading Role']\n",
      "\t\t\t\tdel dictionary[year]['Best Performance by an Actress in a Leading Role']\n",
      "\n",
      "\t\t\tif(award == 'Best Performance by an Actress in a Supporting Role'):\n",
      "\t\t\t\tdictionary[year]['Best Actress in a Supporting Role'] = dictionary[year]['Best Performance by an Actress in a Supporting Role']\n",
      "\t\t\t\tdel dictionary[year]['Best Performance by an Actress in a Supporting Role']\n",
      "\n",
      "\t\t\tif(award == 'Best Performance by an Actor in a Supporting Role'):\n",
      "\t\t\t\tdictionary[year]['Best Actor in a Supporting Role'] = dictionary[year]['Best Performance by an Actor in a Supporting Role']\n",
      "\t\t\t\tdel dictionary[year]['Best Performance by an Actor in a Supporting Role']\n",
      "\n",
      "\t\t\tif(award == 'Best Writing, Original Screenplay'):\n",
      "\t\t\t\tdictionary[year]['Best Writing, Screenplay Written Directly for the Screen'] = dictionary[year]['Best Writing, Original Screenplay']\n",
      "\t\t\t\tdel dictionary[year]['Best Writing, Original Screenplay']\n",
      "\n",
      "\t\t\tif(award == 'Best Writing, Adapted Screenplay'):\n",
      "\t\t\t\tdictionary[year]['Best Writing, Screenplay Based on Material from Another Medium'] = dictionary[year]['Best Writing, Adapted Screenplay']\n",
      "\t\t\t\tdel dictionary[year]['Best Writing, Adapted Screenplay']\n",
      "\n",
      "\t\t\tif(award == 'Best Foreign Language Film of the Year'):\n",
      "\t\t\t\tnewAwardName = award\n",
      "\t\t\t\tnewAwardName = re.sub(' of the Year', '', newAwardName)\n",
      "\t\t\t\tdictionary[year][newAwardName] = dictionary[year][award]\n",
      "\t\t\t\tdel dictionary[year][award]\n",
      "\n",
      "\t\t\t# check to see if it includes best achievement\n",
      "\t\t\tif('Best Achievement' in award):\n",
      "\t\t\t\tif(award == 'Best Achievement in Directing'):\n",
      "\t\t\t\t\tdictionary[year]['Best Director'] = dictionary[year]['Best Achievement in Directing']\n",
      "\t\t\t\t\tdel dictionary[year]['Best Achievement in Directing']\n",
      "\t\t\t\telse:\n",
      "\t\t\t\t\tnewAwardName = award\n",
      "\t\t\t\t\tif('Mixing' in award):\n",
      "\t\t\t\t\t\tnewAwardName = re.sub(' Mixing', '', newAwardName)\n",
      "\n",
      "\t\t\t\t\tif(' and Hairstyling' in award):\n",
      "\t\t\t\t\t\tnewAwardName = re.sub(' and Hairstyling', '', newAwardName)\n",
      "\n",
      "\t\t\t\t\tif('Music Written for Motion Pictures, Original Song' or 'Music Written for Motion Pictures, Original Score' in award):\n",
      "\t\t\t\t\t\tnewAwardName = re.sub(' Written for Motion Pictures', '', newAwardName)\n",
      "\n",
      "\n",
      "\t\t\t\t\tnewAwardName = re.sub(' Achievement in', '', newAwardName)\n",
      "\n",
      "\t\t\t\t\tif 'Visual Effects' in newAwardName:\n",
      "\t\t\t\t\t\t#add comma\n",
      "\t\t\t\t\t\tnewAwardName = 'Best Effects, Visual Effects' \n",
      "\n",
      "\t\t\t\t\tdictionary[year][newAwardName] = dictionary[year][award]\n",
      "\t\t\t\t\tdel dictionary[year][award]\n",
      "\t\t\t\t\t\n",
      "\treturn dictionary\n",
      "\n",
      "# END OF HELPER FUNCTIONS\n",
      "\n",
      "\n",
      "\"\"\"\n",
      "Gets the movie titles for all Oscars for a given year. i.e. get_by_year(2012)\n",
      "Function\n",
      "--------\n",
      "get_by_year\n",
      "\n",
      "Input int year\n",
      "\n",
      "Outputs a dict of the format:\n",
      "'Award':\n",
      "\t'nominees': ['a', 'b', 'c', 'd'] \n",
      "\t'winner': 'f'\n",
      "\n",
      "\"\"\"\n",
      "def get_by_year(year):\n",
      "\n",
      "    url = URL(\"http://www.imdb.com/event/ev0000003/\" + str(year))\n",
      "    dom = DOM(url.download(cached=True))\n",
      "    \n",
      "    dictAll = {}\n",
      "    \n",
      "    awards = dom.by_class('award')\n",
      "    awardTitles = awards[0].by_tag('h2')\n",
      "    awardList = []\n",
      "    for award in awardTitles:\n",
      "        awardList.append(award.content)\n",
      "\n",
      "    prize = awards[0].by_tag('blockquote')\n",
      "    for index, title in enumerate(prize[1:25]):\n",
      "        winner = title.by_tag('strong')[0].by_tag('a')[0].content\n",
      "        winner_id = str(title.by_tag('strong')[0].by_tag('a')[0].attrs['href'][-8:-1])\n",
      "        \n",
      "        nomineeList = []\n",
      "        for each in title.by_tag('strong')[1::]:\n",
      "            name = each.by_tag('a')[0].content\n",
      "            id = str(each.by_tag('a')[0].attrs['href'][-8:-1])\n",
      "            nomineeList.append((clean_unicode(name),id))\n",
      "            \n",
      "        winnersAndNominees = {}\n",
      "        winnersAndNominees['winner'] = (clean_unicode(winner),winner_id)\n",
      "        winnersAndNominees['nominees'] = nomineeList\n",
      "        dictAll[awardList[index]] =  winnersAndNominees\n",
      "    return dictAll\n",
      "\n",
      "\n",
      "\n",
      "\"\"\"\n",
      "Gets the movie titles for all Oscars for all years between 1935 and 2013.\n",
      "Function\n",
      "--------\n",
      "get_all_years()\n",
      "\n",
      "\n",
      "Outputs a dict of dicts the format:\n",
      "'Year':\n",
      "\t'Award':\n",
      "\t\t'nominees': ['a', 'b', 'c', 'd'] \n",
      "\t\t'winner': 'f'\n",
      "\"\"\"\n",
      "\n",
      "def get_all_years():\n",
      "\thugeDict = {}  #lol\n",
      "\tfor year in range(2003, 2014):\n",
      "\t\thugeDict[year] = get_by_year(str(year))\n",
      "\treturn hugeDict\n",
      "\n",
      "\n",
      "\n",
      "'''\n",
      "Gets all data for every year for a specific oscar\n",
      "Function\n",
      "------\n",
      "get_by_award_all_years(oscar, dictionary)\n",
      "\n",
      "Outputs a dict of the format\n",
      "'Year':\n",
      "\t'nominees': ['a', 'b', 'c', 'd'] \n",
      "\t'winner': 'f'\n",
      "        \n",
      "'''\n",
      "def get_by_award_all_years(oscar, dictionary):\n",
      "\tyearDict = {}\n",
      "\tfor year in dictionary:\n",
      "\t\tif oscar in dictionary[year].keys():\n",
      "\t\t\tyearDict[year] = dictionary[year][oscar]\n",
      "\treturn yearDict"
     ],
     "language": "python",
     "metadata": {},
     "outputs": [],
     "prompt_number": 89
    },
    {
     "cell_type": "code",
     "collapsed": false,
     "input": [
      "# oscars = get_all_years();\n",
      "# oscars = repair_dict(oscars)\n",
      "# f = open(\"data/oscars.json\",\"w+\")\n",
      "# json.dump(oscars,f)\n",
      "# f.close()\n",
      "\n",
      "# load an existing dictionary\n",
      "f = open(\"data/oscars.json\",\"rb\")\n",
      "oscars = json.load(f)\n",
      "f.close()\n",
      "print oscars"
     ],
     "language": "python",
     "metadata": {},
     "outputs": [
      {
       "output_type": "stream",
       "stream": "stdout",
       "text": [
        "{u'2003': {u'Best Actor in a Supporting Role': {u'nominees': [[u'Catch Me If You Can', u'0264464'], [u'Chicago', u'0299658'], [u'The Hours', u'0274558'], [u'Road to Perdition', u'0257044']], u'winner': [u'Adaptation.', u'0268126']}, u'Best Documentary, Features': {u'nominees': [[u'Daughter from Danang', u'0303281'], [u'Winged Migration', u'0301727'], [u'Prisoner of Paradise', u'0316013'], [u'Spellbound', u'0334405']], u'winner': [u'Bowling for Columbine', u'0310793']}, u'Best Writing, Screenplay Written Directly for the Screen': {u'nominees': [[u'Far from Heaven', u'0297884'], [u'Gangs of New York', u'0217505'], [u'My Big Fat Greek Wedding', u'0259446'], [u'Y Tu Mame Tambien', u'0245574']], u'winner': [u'Talk to Her', u'0287467']}, u'Best Foreign Language Film': {u'nominees': [[u'The Crime of Father Amaro', u'0313196'], [u'The Man Without a Past', u'0311519'], [u'Hero', u'0299977'], [u'Zus & zo', u'0245157']], u'winner': [u'Nowhere in Africa', u'0161860']}, u'Best Short Film, Live Action': {u'nominees': [[u'Gridlock', u'0281850'], [u'Dog', u'0303350'], [u\"I'll Wait for the Next One...\", u'0325638'], [u'Johnny Flynton', u'0329245']], u'winner': [u'Der er en yndig mand', u'0340071']}, u'Best Music, Original Song': {u'nominees': [[u'Chicago', u'0299658'], [u'Frida', u'0120679'], [u'Gangs of New York', u'0217505'], [u'The Wild Thornberrys Movie', u'0282120']], u'winner': [u'8 Mile', u'0298203']}, u'Best Music, Original Score': {u'nominees': [[u'Catch Me If You Can', u'0264464'], [u'Far from Heaven', u'0297884'], [u'The Hours', u'0274558'], [u'Road to Perdition', u'0257044']], u'winner': [u'Frida', u'0120679']}, u'Best Art Direction-Set Decoration': {u'nominees': [[u'Frida', u'0120679'], [u'Gangs of New York', u'0217505'], [u'The Lord of the Rings: The Two Towers', u'0167261'], [u'Road to Perdition', u'0257044']], u'winner': [u'Chicago', u'0299658']}, u'Best Costume Design': {u'nominees': [[u'Frida', u'0120679'], [u'Gangs of New York', u'0217505'], [u'The Hours', u'0274558'], [u'The Pianist', u'0253474']], u'winner': [u'Chicago', u'0299658']}, u'Best Short Film, Animated': {u'nominees': [[u'The Cathedral', u'0351167'], [u\"Mike's New Car\", u'0323250'], [u'Mount Head', u'0351382'], [u'Rocks', u'0330801']], u'winner': [u'The Chubbchubbs!', u'0331218']}, u'Best Makeup': {u'nominees': [[u'The Time Machine', u'0268695']], u'winner': [u'Frida', u'0120679']}, u'Best Film Editing': {u'nominees': [[u'Gangs of New York', u'0217505'], [u'The Hours', u'0274558'], [u'The Lord of the Rings: The Two Towers', u'0167261'], [u'The Pianist', u'0253474']], u'winner': [u'Chicago', u'0299658']}, u'Best Animated Feature': {u'nominees': [[u'Lilo & Stitch', u'0275847'], [u'Treasure Planet', u'0133240'], [u'Ice Age', u'0268380'], [u'Spirit: Stallion of the Cimarron', u'0166813']], u'winner': [u'Spirited Away', u'0245429']}, u'Best Writing, Screenplay Based on Material from Another Medium': {u'nominees': [[u'About a Boy', u'0276751'], [u'Adaptation.', u'0268126'], [u'Chicago', u'0299658'], [u'The Hours', u'0274558']], u'winner': [u'The Pianist', u'0253474']}, u'Best Sound Editing': {u'nominees': [[u'Minority Report', u'0181689'], [u'Road to Perdition', u'0257044']], u'winner': [u'The Lord of the Rings: The Two Towers', u'0167261']}, u'Best Actress in a Supporting Role': {u'nominees': [[u'About Schmidt', u'0257360'], [u'Adaptation.', u'0268126'], [u'Chicago', u'0299658'], [u'The Hours', u'0274558']], u'winner': [u'Chicago', u'0299658']}, u'Best Cinematography': {u'nominees': [[u'Chicago', u'0299658'], [u'Far from Heaven', u'0297884'], [u'Gangs of New York', u'0217505'], [u'The Pianist', u'0253474']], u'winner': [u'Road to Perdition', u'0257044']}, u'Best Documentary, Short Subjects': {u'nominees': [[u'The Collector of Bedford Street', u'0325193'], [u'Mighty Times: The Legacy of Rosa Parks', u'0353737'], [u\"Why Can't We Be a Family Again?\", u'0344563']], u'winner': [u'Twin Towers', u'0344503']}, u'Best Sound': {u'nominees': [[u'Gangs of New York', u'0217505'], [u'The Lord of the Rings: The Two Towers', u'0167261'], [u'Road to Perdition', u'0257044'], [u'Spider-Man', u'0145487']], u'winner': [u'Chicago', u'0299658']}, u'Best Director': {u'nominees': [[u'Chicago', u'0299658'], [u'Gangs of New York', u'0217505'], [u'Talk to Her', u'0287467'], [u'The Hours', u'0274558']], u'winner': [u'The Pianist', u'0253474']}, u'Best Actor in a Leading Role': {u'nominees': [[u'About Schmidt', u'0257360'], [u'Adaptation.', u'0268126'], [u'Gangs of New York', u'0217505'], [u'The Quiet American', u'0258068']], u'winner': [u'The Pianist', u'0253474']}, u'Best Picture': {u'nominees': [[u'Gangs of New York', u'0217505'], [u'The Hours', u'0274558'], [u'The Lord of the Rings: The Two Towers', u'0167261'], [u'The Pianist', u'0253474']], u'winner': [u'Chicago', u'0299658']}, u'Best Actress in a Leading Role': {u'nominees': [[u'Chicago', u'0299658'], [u'Far from Heaven', u'0297884'], [u'Frida', u'0120679'], [u'Unfaithful', u'0250797']], u'winner': [u'The Hours', u'0274558']}, u'Best Visual Effects': {u'nominees': [[u'Spider-Man', u'0145487'], [u'Star Wars: Episode II - Attack of the Clones', u'0121765']], u'winner': [u'The Lord of the Rings: The Two Towers', u'0167261']}}, u'2006': {u'Best Actor in a Supporting Role': {u'nominees': [[u'Brokeback Mountain', u'0388795'], [u'Cinderella Man', u'0352248'], [u'Crash', u'0375679'], [u'A History of Violence', u'0399146']], u'winner': [u'Syriana', u'0365737']}, u'Best Documentary, Features': {u'nominees': [[u\"Darwin's Nightmare\", u'0424024'], [u'Enron: The Smartest Guys in the Room', u'1016268'], [u'Murderball', u'0436613'], [u'Street Fight', u'0457496']], u'winner': [u'March of the Penguins', u'0428803']}, u'Best Writing, Screenplay Written Directly for the Screen': {u'nominees': [[u'Good Night, and Good Luck.', u'0433383'], [u'Match Point', u'0416320'], [u'The Squid and the Whale', u'0367089'], [u'Syriana', u'0365737']], u'winner': [u'Crash', u'0375679']}, u'Best Foreign Language Film': {u'nominees': [[u\"Don't Tell\", u'0443446'], [u'Joyeux Noel', u'0424205'], [u'Paradise Now', u'0445620'], [u'Sophie Scholl: The Final Days', u'0426578']], u'winner': [u'Tsotsi', u'0468565']}, u'Best Film Editing': {u'nominees': [[u'Cinderella Man', u'0352248'], [u'The Constant Gardener', u'0387131'], [u'Munich', u'0408306'], [u'Walk the Line', u'0358273']], u'winner': [u'Crash', u'0375679']}, u'Best Art Direction': {u'nominees': [[u'Good Night, and Good Luck.', u'0433383'], [u'Harry Potter and the Goblet of Fire', u'0330373'], [u'King Kong', u'0360717'], [u'Pride & Prejudice', u'0414387']], u'winner': [u'Memoirs of a Geisha', u'0397535']}, u'Best Short Film, Live Action': {u'nominees': [[u'The Runaway', u'0452139'], [u'Cashback', u'0409799'], [u'Our Time Is Up', u'0427617'], [u'The Last Farm', u'0461847']], u'winner': [u'Six Shooter', u'0425458']}, u'Best Music, Original Song': {u'nominees': [[u'Crash', u'0375679'], [u'Transamerica', u'0407265']], u'winner': [u'Hustle & Flow', u'0410097']}, u'Best Music, Original Score': {u'nominees': [[u'The Constant Gardener', u'0387131'], [u'Memoirs of a Geisha', u'0397535'], [u'Munich', u'0408306'], [u'Pride & Prejudice', u'0414387']], u'winner': [u'Brokeback Mountain', u'0388795']}, u'Best Short Film, Animated': {u'nominees': [[u'9', u'0443424'], [u'Badgered', u'0455912'], [u'The Mysterious Geographic Explorations of Jasper Morello', u'0469146'], [u'One Man Band', u'0479113']], u'winner': [u'The Moon and the Son: An Imagined Conversation', u'0449619']}, u'Best Makeup': {u'nominees': [[u'Cinderella Man', u'0352248'], [u'Star Wars: Episode III - Revenge of the Sith', u'0121766']], u'winner': [u'The Chronicles of Narnia: The Lion, the Witch and the Wardrobe', u'0363771']}, u'Best Costume Design': {u'nominees': [[u'Charlie and the Chocolate Factory', u'0367594'], [u'Mrs Henderson Presents', u'0413015'], [u'Pride & Prejudice', u'0414387'], [u'Walk the Line', u'0358273']], u'winner': [u'Memoirs of a Geisha', u'0397535']}, u'Best Writing, Screenplay Based on Material from Another Medium': {u'nominees': [[u'Capote', u'0379725'], [u'The Constant Gardener', u'0387131'], [u'A History of Violence', u'0399146'], [u'Munich', u'0408306']], u'winner': [u'Brokeback Mountain', u'0388795']}, u'Best Sound Editing': {u'nominees': [[u'Memoirs of a Geisha', u'0397535'], [u'War of the Worlds', u'0407304']], u'winner': [u'King Kong', u'0360717']}, u'Best Actress in a Supporting Role': {u'nominees': [[u'Brokeback Mountain', u'0388795'], [u'Capote', u'0379725'], [u'Junebug', u'0418773'], [u'North Country', u'0395972']], u'winner': [u'The Constant Gardener', u'0387131']}, u'Best Cinematography': {u'nominees': [[u'Batman Begins', u'0372784'], [u'Brokeback Mountain', u'0388795'], [u'Good Night, and Good Luck.', u'0433383'], [u'The New World', u'0402399']], u'winner': [u'Memoirs of a Geisha', u'0397535']}, u'Best Documentary, Short Subjects': {u'nominees': [[u'God Sleeps in Rwanda', u'0480247'], [u'The Death of Kevin Carter: Casualty of the Bang Bang Club', u'0439676'], [u'The Mushroom Club', u'0762119']], u'winner': [u'A Note of Triumph: The Golden Age of Norman Corwin', u'0491795']}, u'Best Sound': {u'nominees': [[u'The Chronicles of Narnia: The Lion, the Witch and the Wardrobe', u'0363771'], [u'Memoirs of a Geisha', u'0397535'], [u'Walk the Line', u'0358273'], [u'War of the Worlds', u'0407304']], u'winner': [u'King Kong', u'0360717']}, u'Best Director': {u'nominees': [[u'Capote', u'0379725'], [u'Crash', u'0375679'], [u'Good Night, and Good Luck.', u'0433383'], [u'Munich', u'0408306']], u'winner': [u'Brokeback Mountain', u'0388795']}, u'Best Actor in a Leading Role': {u'nominees': [[u'Brokeback Mountain', u'0388795'], [u'Good Night, and Good Luck.', u'0433383'], [u'Hustle & Flow', u'0410097'], [u'Walk the Line', u'0358273']], u'winner': [u'Capote', u'0379725']}, u'Best Picture': {u'nominees': [[u'Brokeback Mountain', u'0388795'], [u'Capote', u'0379725'], [u'Good Night, and Good Luck.', u'0433383'], [u'Munich', u'0408306']], u'winner': [u'Crash', u'0375679']}, u'Best Actress in a Leading Role': {u'nominees': [[u'Mrs Henderson Presents', u'0413015'], [u'North Country', u'0395972'], [u'Pride & Prejudice', u'0414387'], [u'Transamerica', u'0407265']], u'winner': [u'Walk the Line', u'0358273']}, u'Best Effects, Visual Effects': {u'nominees': [[u'The Chronicles of Narnia: The Lion, the Witch and the Wardrobe', u'0363771'], [u'War of the Worlds', u'0407304']], u'winner': [u'King Kong', u'0360717']}, u'Best Animated Feature Film of the Year': {u'nominees': [[u'Corpse Bride', u'0121164'], [u\"Howl's Moving Castle\", u'0347149']], u'winner': [u'The Curse of the Were-Rabbit', u'0312004']}}, u'2007': {u'Best Actor in a Supporting Role': {u'nominees': [[u'Blood Diamond', u'0450259'], [u'The Departed', u'0407887'], [u'Dreamgirls', u'0443489'], [u'Little Children', u'0404203']], u'winner': [u'Little Miss Sunshine', u'0449059']}, u'Best Documentary, Features': {u'nominees': [[u'P.O.V.', u'0795174'], [u'Deliver Us from Evil', u'0814075'], [u'Iraq in Fragments', u'0492466'], [u'Jesus Camp', u'0486358']], u'winner': [u'An Inconvenient Truth', u'0497116']}, u'Best Writing, Screenplay Written Directly for the Screen': {u'nominees': [[u'Babel', u'0449467'], [u\"Pan's Labyrinth\", u'0457430'], [u'Letters from Iwo Jima', u'0498380'], [u'The Queen', u'0436697']], u'winner': [u'Little Miss Sunshine', u'0449059']}, u'Best Foreign Language Film': {u'nominees': [[u'After the Wedding', u'0457655'], [u'Days of Glory', u'0444182'], [u\"Pan's Labyrinth\", u'0457430'], [u'Water', u'0240200']], u'winner': [u'The Lives of Others', u'0405094']}, u'Best Film Editing': {u'nominees': [[u'Babel', u'0449467'], [u'Blood Diamond', u'0450259'], [u'Children of Men', u'0206634'], [u'United 93', u'0475276']], u'winner': [u'The Departed', u'0407887']}, u'Best Art Direction': {u'nominees': [[u'Dreamgirls', u'0443489'], [u'The Good Shepherd', u'0343737'], [u\"Pirates of the Caribbean: Dead Man's Chest\", u'0383574'], [u'The Prestige', u'0482571']], u'winner': [u\"Pan's Labyrinth\", u'0457430']}, u'Best Short Film, Live Action': {u'nominees': [[u'Binta and the Great Idea', u'0442001'], [u'Helmer & Son', u'0955271'], [u'The Saviour', u'0467485'], [u'One Too Many', u'0460616']], u'winner': [u'West Bank Story', u'0438575']}, u'Best Music, Original Song': {u'nominees': [[u'Cars', u'0317219'], [u'Dreamgirls', u'0443489'], [u'Dreamgirls', u'0443489'], [u'Dreamgirls', u'0443489']], u'winner': [u'An Inconvenient Truth', u'0497116']}, u'Best Music, Original Score': {u'nominees': [[u'The Good German', u'0452624'], [u\"Pan's Labyrinth\", u'0457430'], [u'Notes on a Scandal', u'0465551'], [u'The Queen', u'0436697']], u'winner': [u'Babel', u'0449467']}, u'Best Short Film, Animated': {u'nominees': [[u'Lifted', u'0945571'], [u'The Little Matchgirl', u'0816562'], [u'Maestro', u'0951144'], [u'No Time for Nuts', u'0902999']], u'winner': [u'The Danish Poet', u'0933357']}, u'Best Makeup': {u'nominees': [[u'Apocalypto', u'0472043'], [u'Click', u'0389860']], u'winner': [u\"Pan's Labyrinth\", u'0457430']}, u'Best Costume Design': {u'nominees': [[u'The Devil Wears Prada', u'0458352'], [u'Dreamgirls', u'0443489'], [u'Curse of the Golden Flower', u'0473444'], [u'The Queen', u'0436697']], u'winner': [u'Marie Antoinette', u'0422720']}, u'Best Writing, Screenplay Based on Material from Another Medium': {u'nominees': [[u'Borat: Cultural Learnings of America for Make Benefit Glorious Nation of Kazakhstan', u'0443453'], [u'Children of Men', u'0206634'], [u'Little Children', u'0404203'], [u'Notes on a Scandal', u'0465551']], u'winner': [u'The Departed', u'0407887']}, u'Best Sound Editing': {u'nominees': [[u'Apocalypto', u'0472043'], [u'Blood Diamond', u'0450259'], [u'Flags of Our Fathers', u'0418689'], [u\"Pirates of the Caribbean: Dead Man's Chest\", u'0383574']], u'winner': [u'Letters from Iwo Jima', u'0498380']}, u'Best Actress in a Supporting Role': {u'nominees': [[u'Babel', u'0449467'], [u'Babel', u'0449467'], [u'Little Miss Sunshine', u'0449059'], [u'Notes on a Scandal', u'0465551']], u'winner': [u'Dreamgirls', u'0443489']}, u'Best Cinematography': {u'nominees': [[u'The Black Dahlia', u'0387877'], [u'Children of Men', u'0206634'], [u'The Illusionist', u'0443543'], [u'The Prestige', u'0482571']], u'winner': [u\"Pan's Labyrinth\", u'0457430']}, u'Best Documentary, Short Subjects': {u'nominees': [[u'Recycled Life', u'0859631'], [u'Rehearsing a Dream', u'0982919'], [u'Two Hands: The Leon Fleisher Story', u'0951151']], u'winner': [u'The Blood of Yingzhou District', u'0859595']}, u'Best Sound': {u'nominees': [[u'Apocalypto', u'0472043'], [u'Blood Diamond', u'0450259'], [u'Flags of Our Fathers', u'0418689'], [u\"Pirates of the Caribbean: Dead Man's Chest\", u'0383574']], u'winner': [u'Dreamgirls', u'0443489']}, u'Best Director': {u'nominees': [[u'Babel', u'0449467'], [u'Letters from Iwo Jima', u'0498380'], [u'The Queen', u'0436697'], [u'United 93', u'0475276']], u'winner': [u'The Departed', u'0407887']}, u'Best Actor in a Leading Role': {u'nominees': [[u'Blood Diamond', u'0450259'], [u'Half Nelson', u'0468489'], [u'The Pursuit of Happyness', u'0454921'], [u'Venus', u'0489327']], u'winner': [u'The Last King of Scotland', u'0455590']}, u'Best Picture': {u'nominees': [[u'Babel', u'0449467'], [u'Letters from Iwo Jima', u'0498380'], [u'Little Miss Sunshine', u'0449059'], [u'The Queen', u'0436697']], u'winner': [u'The Departed', u'0407887']}, u'Best Actress in a Leading Role': {u'nominees': [[u'The Devil Wears Prada', u'0458352'], [u'Little Children', u'0404203'], [u'Notes on a Scandal', u'0465551'], [u'Volver', u'0441909']], u'winner': [u'The Queen', u'0436697']}, u'Best Effects, Visual Effects': {u'nominees': [[u'Poseidon', u'0409182'], [u'Superman Returns', u'0348150']], u'winner': [u\"Pirates of the Caribbean: Dead Man's Chest\", u'0383574']}, u'Best Animated Feature Film of the Year': {u'nominees': [[u'Cars', u'0317219'], [u'Monster House', u'0385880']], u'winner': [u'Happy Feet', u'0366548']}}, u'2004': {u'Best Actor in a Supporting Role': {u'nominees': [[u'21 Grams', u'0315733'], [u'The Cooler', u'0318374'], [u'In America', u'0298845'], [u'The Last Samurai', u'0325710']], u'winner': [u'Mystic River', u'0327056']}, u'Best Documentary, Features': {u'nominees': [[u'Cuban Rafters', u'0321376'], [u'Capturing the Friedmans', u'0342172'], [u'My Architect', u'0373175'], [u'The Weather Underground', u'0343168']], u'winner': [u'The Fog of War: Eleven Lessons from the Life of Robert S. McNamara', u'0317910']}, u'Best Writing, Screenplay Written Directly for the Screen': {u'nominees': [[u'Dirty Pretty Things', u'0301199'], [u'Finding Nemo', u'0266543'], [u'In America', u'0298845'], [u'The Barbarian Invasions', u'0338135']], u'winner': [u'Lost in Translation', u'0335266']}, u'Best Foreign Language Film': {u'nominees': [[u'Evil', u'0338309'], [u'The Twilight Samurai', u'0351817'], [u'Twin Sisters', u'0322674'], [u'Zelary', u'0288330']], u'winner': [u'The Barbarian Invasions', u'0338135']}, u'Best Short Film, Live Action': {u'nominees': [[u'(A)Torzija', u'0350476'], [u'Most', u'0345672'], [u'The Red Jacket', u'0323844'], [u'Squash', u'0341588']], u'winner': [u'Two Soldiers', u'0304858']}, u'Best Music, Original Song': {u'nominees': [[u'Cold Mountain', u'0159365'], [u'Cold Mountain', u'0159365'], [u'A Mighty Wind', u'0310281'], [u'The Triplets of Belleville', u'0286244']], u'winner': [u'The Lord of the Rings: The Return of the King', u'0167260']}, u'Best Music, Original Score': {u'nominees': [[u'Big Fish', u'0319061'], [u'Cold Mountain', u'0159365'], [u'Finding Nemo', u'0266543'], [u'House of Sand and Fog', u'0315983']], u'winner': [u'The Lord of the Rings: The Return of the King', u'0167260']}, u'Best Art Direction-Set Decoration': {u'nominees': [[u'Girl with a Pearl Earring', u'0335119'], [u'The Last Samurai', u'0325710'], [u'Master and Commander: The Far Side of the World', u'0311113'], [u'Seabiscuit', u'0329575']], u'winner': [u'The Lord of the Rings: The Return of the King', u'0167260']}, u'Best Short Film, Animated': {u'nominees': [[u\"Boundin'\", u'0395479'], [u'Destino', u'0377770'], [u'Gone Nutty', u'0342965'], [u'Nibbles', u'0392542']], u'winner': [u'Harvie Krumpet', u'0382734']}, u'Best Makeup': {u'nominees': [[u'Master and Commander: The Far Side of the World', u'0311113'], [u'Pirates of the Caribbean: The Curse of the Black Pearl', u'0325980']], u'winner': [u'The Lord of the Rings: The Return of the King', u'0167260']}, u'Best Costume Design': {u'nominees': [[u'Girl with a Pearl Earring', u'0335119'], [u'The Last Samurai', u'0325710'], [u'Master and Commander: The Far Side of the World', u'0311113'], [u'Seabiscuit', u'0329575']], u'winner': [u'The Lord of the Rings: The Return of the King', u'0167260']}, u'Best Animated Feature': {u'nominees': [[u'Brother Bear', u'0328880'], [u'The Triplets of Belleville', u'0286244']], u'winner': [u'Finding Nemo', u'0266543']}, u'Best Writing, Screenplay Based on Material from Another Medium': {u'nominees': [[u'American Splendor', u'0305206'], [u'City of God', u'0317248'], [u'Mystic River', u'0327056'], [u'Seabiscuit', u'0329575']], u'winner': [u'The Lord of the Rings: The Return of the King', u'0167260']}, u'Best Sound Editing': {u'nominees': [[u'Finding Nemo', u'0266543'], [u'Pirates of the Caribbean: The Curse of the Black Pearl', u'0325980']], u'winner': [u'Master and Commander: The Far Side of the World', u'0311113']}, u'Best Actress in a Supporting Role': {u'nominees': [[u'House of Sand and Fog', u'0315983'], [u'Mystic River', u'0327056'], [u'Pieces of April', u'0311648'], [u'Thirteen', u'0328538']], u'winner': [u'Cold Mountain', u'0159365']}, u'Best Sound Mixing': {u'nominees': [[u'The Last Samurai', u'0325710'], [u'Master and Commander: The Far Side of the World', u'0311113'], [u'Pirates of the Caribbean: The Curse of the Black Pearl', u'0325980'], [u'Seabiscuit', u'0329575']], u'winner': [u'The Lord of the Rings: The Return of the King', u'0167260']}, u'Best Cinematography': {u'nominees': [[u'City of God', u'0317248'], [u'Cold Mountain', u'0159365'], [u'Girl with a Pearl Earring', u'0335119'], [u'Seabiscuit', u'0329575']], u'winner': [u'Master and Commander: The Far Side of the World', u'0311113']}, u'Best Documentary, Short Subjects': {u'nominees': [[u'Asylum', u'0363445'], [u'Ferry Tales', u'0363607']], u'winner': [u'Chernobyl Heart', u'0396959']}, u'Best Film Editing': {u'nominees': [[u'City of God', u'0317248'], [u'Cold Mountain', u'0159365'], [u'Master and Commander: The Far Side of the World', u'0311113'], [u'Seabiscuit', u'0329575']], u'winner': [u'The Lord of the Rings: The Return of the King', u'0167260']}, u'Best Director': {u'nominees': [[u'City of God', u'0317248'], [u'Lost in Translation', u'0335266'], [u'Master and Commander: The Far Side of the World', u'0311113'], [u'Mystic River', u'0327056']], u'winner': [u'The Lord of the Rings: The Return of the King', u'0167260']}, u'Best Actor in a Leading Role': {u'nominees': [[u'Cold Mountain', u'0159365'], [u'House of Sand and Fog', u'0315983'], [u'Lost in Translation', u'0335266'], [u'Pirates of the Caribbean: The Curse of the Black Pearl', u'0325980']], u'winner': [u'Mystic River', u'0327056']}, u'Best Picture': {u'nominees': [[u'Lost in Translation', u'0335266'], [u'Master and Commander: The Far Side of the World', u'0311113'], [u'Mystic River', u'0327056'], [u'Seabiscuit', u'0329575']], u'winner': [u'The Lord of the Rings: The Return of the King', u'0167260']}, u'Best Actress in a Leading Role': {u'nominees': [[u'Whale Rider', u'0298228'], [u\"Something's Gotta Give\", u'0337741'], [u'In America', u'0298845'], [u'21 Grams', u'0315733']], u'winner': [u'Monster', u'0340855']}, u'Best Visual Effects': {u'nominees': [[u'Master and Commander: The Far Side of the World', u'0311113'], [u'Pirates of the Caribbean: The Curse of the Black Pearl', u'0325980']], u'winner': [u'The Lord of the Rings: The Return of the King', u'0167260']}}, u'2005': {u'Best Actor in a Supporting Role': {u'nominees': [[u'The Aviator', u'0338751'], [u'Closer', u'0376541'], [u'Collateral', u'0369339'], [u'Sideways', u'0375063']], u'winner': [u'Million Dollar Baby', u'0405159']}, u'Best Documentary, Features': {u'nominees': [[u'The Story of the Weeping Camel', u'0373861'], [u'Super Size Me', u'0390521'], [u'Tupac: Resurrection', u'0343121'], [u'Twist of Faith', u'0436857']], u'winner': [u\"Born Into Brothels: Calcutta's Red Light Kids\", u'0388789']}, u'Best Writing, Screenplay Written Directly for the Screen': {u'nominees': [[u'The Aviator', u'0338751'], [u'Hotel Rwanda', u'0395169'], [u'The Incredibles', u'0317705'], [u'Vera Drake', u'0383694']], u'winner': [u'Eternal Sunshine of the Spotless Mind', u'0338013']}, u'Best Foreign Language Film': {u'nominees': [[u'The Chorus', u'0372824'], [u'As It Is in Heaven', u'0382330'], [u'Downfall', u'0363163'], [u'Yesterday', u'0419279']], u'winner': [u'The Sea Inside', u'0369702']}, u'Best Film Editing': {u'nominees': [[u'Collateral', u'0369339'], [u'Finding Neverland', u'0308644'], [u'Million Dollar Baby', u'0405159'], [u'Ray', u'0350258']], u'winner': [u'The Aviator', u'0338751']}, u'Best Art Direction': {u'nominees': [[u'Finding Neverland', u'0308644'], [u\"Lemony Snicket's A Series of Unfortunate Events\", u'0339291'], [u'The Phantom of the Opera', u'0293508'], [u'A Very Long Engagement', u'0344510']], u'winner': [u'The Aviator', u'0338751']}, u'Best Short Film, Live Action': {u'nominees': [[u'7:35 in the Morning', u'0406501'], [u'Everything in This Country Must', u'0443499'], [u'Little Terrorist', u'0425200'], [u'Two Cars, One Night', u'0390579']], u'winner': [u'Wasp', u'0388534']}, u'Best Music, Original Song': {u'nominees': [[u'The Chorus', u'0372824'], [u'The Phantom of the Opera', u'0293508'], [u'The Polar Express', u'0338348'], [u'Shrek 2', u'0298148']], u'winner': [u'The Motorcycle Diaries', u'0318462']}, u'Best Music, Original Score': {u'nominees': [[u'Harry Potter and the Prisoner of Azkaban', u'0304141'], [u\"Lemony Snicket's A Series of Unfortunate Events\", u'0339291'], [u'The Passion of the Christ', u'0335345'], [u'The Village', u'0368447']], u'winner': [u'Finding Neverland', u'0308644']}, u'Best Short Film, Animated': {u'nominees': [[u'Birthday Boy', u'0435933'], [u'Gopher Broke', u'0438064'], [u'Guard Dog', u'0430159'], [u'Lorenzo', u'0412936']], u'winner': [u'Ryan', u'0414469']}, u'Best Makeup': {u'nominees': [[u'The Sea Inside', u'0369702'], [u'The Passion of the Christ', u'0335345']], u'winner': [u\"Lemony Snicket's A Series of Unfortunate Events\", u'0339291']}, u'Best Costume Design': {u'nominees': [[u'Finding Neverland', u'0308644'], [u\"Lemony Snicket's A Series of Unfortunate Events\", u'0339291'], [u'Ray', u'0350258'], [u'Troy', u'0332452']], u'winner': [u'The Aviator', u'0338751']}, u'Best Writing, Screenplay Based on Material from Another Medium': {u'nominees': [[u'Before Sunset', u'0381681'], [u'The Motorcycle Diaries', u'0318462'], [u'Finding Neverland', u'0308644'], [u'Million Dollar Baby', u'0405159']], u'winner': [u'Sideways', u'0375063']}, u'Best Sound Editing': {u'nominees': [[u'The Polar Express', u'0338348'], [u'Spider-Man 2', u'0316654']], u'winner': [u'The Incredibles', u'0317705']}, u'Best Actress in a Supporting Role': {u'nominees': [[u'Closer', u'0376541'], [u'Hotel Rwanda', u'0395169'], [u'Kinsey', u'0362269'], [u'Sideways', u'0375063']], u'winner': [u'The Aviator', u'0338751']}, u'Best Cinematography': {u'nominees': [[u'The Passion of the Christ', u'0335345'], [u'The Phantom of the Opera', u'0293508'], [u'House of Flying Daggers', u'0385004'], [u'A Very Long Engagement', u'0344510']], u'winner': [u'The Aviator', u'0338751']}, u'Best Documentary, Short Subjects': {u'nominees': [[u'Autism Is a World', u'0443434'], [u'The Children of Leningradsky', u'0442947'], [u'Hardwood', u'0443531'], [u\"Sister Rose's Passion\", u'0420195']], u'winner': [u\"Mighty Times: The Children's March\", u'0443587']}, u'Best Sound': {u'nominees': [[u'The Aviator', u'0338751'], [u'The Incredibles', u'0317705'], [u'The Polar Express', u'0338348'], [u'Spider-Man 2', u'0316654']], u'winner': [u'Ray', u'0350258']}, u'Best Director': {u'nominees': [[u'The Aviator', u'0338751'], [u'Ray', u'0350258'], [u'Sideways', u'0375063'], [u'Vera Drake', u'0383694']], u'winner': [u'Million Dollar Baby', u'0405159']}, u'Best Actor in a Leading Role': {u'nominees': [[u'The Aviator', u'0338751'], [u'Finding Neverland', u'0308644'], [u'Hotel Rwanda', u'0395169'], [u'Million Dollar Baby', u'0405159']], u'winner': [u'Ray', u'0350258']}, u'Best Picture': {u'nominees': [[u'The Aviator', u'0338751'], [u'Finding Neverland', u'0308644'], [u'Ray', u'0350258'], [u'Sideways', u'0375063']], u'winner': [u'Million Dollar Baby', u'0405159']}, u'Best Actress in a Leading Role': {u'nominees': [[u'Being Julia', u'0340012'], [u'Eternal Sunshine of the Spotless Mind', u'0338013'], [u'Maria Full of Grace', u'0390221'], [u'Vera Drake', u'0383694']], u'winner': [u'Million Dollar Baby', u'0405159']}, u'Best Effects, Visual Effects': {u'nominees': [[u'Harry Potter and the Prisoner of Azkaban', u'0304141'], [u'I, Robot', u'0343818']], u'winner': [u'Spider-Man 2', u'0316654']}, u'Best Animated Feature Film of the Year': {u'nominees': [[u'Shark Tale', u'0307453'], [u'Shrek 2', u'0298148']], u'winner': [u'The Incredibles', u'0317705']}}, u'2008': {u'Best Actor in a Supporting Role': {u'nominees': [[u'The Assassination of Jesse James by the Coward Robert Ford', u'0443680'], [u\"Charlie Wilson's War\", u'0472062'], [u'Into the Wild', u'0758758'], [u'Michael Clayton', u'0465538']], u'winner': [u'No Country for Old Men', u'0477348']}, u'Best Documentary, Features': {u'nominees': [[u'No End in Sight', u'0912593'], [u'Operation Homecoming: Writing the Wartime Experience', u'0970184'], [u'Sicko', u'0386032'], [u'War Dance', u'0912599']], u'winner': [u'Taxi to the Dark Side', u'0854678']}, u'Best Writing, Screenplay Written Directly for the Screen': {u'nominees': [[u'Lars and the Real Girl', u'0805564'], [u'Michael Clayton', u'0465538'], [u'Ratatouille', u'0382932'], [u'The Savages', u'0775529']], u'winner': [u'Juno', u'0467406']}, u'Best Foreign Language Film': {u'nominees': [[u'Beaufort', u'0758732'], [u'Mongol: The Rise of Genghis Khan', u'0416044'], [u'Katyn', u'0879843'], [u'12', u'0488478']], u'winner': [u'The Counterfeiters', u'0813547']}, u'Best Film Editing': {u'nominees': [[u'Into the Wild', u'0758758'], [u'No Country for Old Men', u'0477348'], [u'The Diving Bell and the Butterfly', u'0401383'], [u'There Will Be Blood', u'0469494']], u'winner': [u'The Bourne Ultimatum', u'0440963']}, u'Best Art Direction': {u'nominees': [[u'American Gangster', u'0765429'], [u'Atonement', u'0783233'], [u'The Golden Compass', u'0385752'], [u'There Will Be Blood', u'0469494']], u'winner': [u'Sweeney Todd: The Demon Barber of Fleet Street', u'0408236']}, u'Best Short Film, Live Action': {u'nominees': [[u'At Night', u'1117985'], [u'The Substitute', u'0922627'], [u'Tanghi argentini', u'0812387'], [u'The Tonto Woman', u'1176466']], u'winner': [u'Le Mozart des pickpockets', u'0820971']}, u'Best Music, Original Song': {u'nominees': [[u'August Rush', u'0426931'], [u'Enchanted', u'0461770'], [u'Enchanted', u'0461770'], [u'Enchanted', u'0461770']], u'winner': [u'Once', u'0907657']}, u'Best Music, Original Score': {u'nominees': [[u'3:10 to Yuma', u'0381849'], [u'The Kite Runner', u'0419887'], [u'Michael Clayton', u'0465538'], [u'Ratatouille', u'0382932']], u'winner': [u'Atonement', u'0783233']}, u'Best Short Film, Animated': {u'nominees': [[u'I Met the Walrus', u'1156511'], [u'Madame Tutli-Putli', u'1029440'], [u'My Love', u'0874952'], [u'Even Pigeons Go to Heaven', u'1066329']], u'winner': [u'Peter & the Wolf', u'0863136']}, u'Best Makeup': {u'nominees': [[u'Norbit', u'0477051'], [u\"Pirates of the Caribbean: At World's End\", u'0449088']], u'winner': [u'La Vie en Rose', u'0450188']}, u'Best Costume Design': {u'nominees': [[u'Across the Universe', u'0445922'], [u'Atonement', u'0783233'], [u'La Vie en Rose', u'0450188'], [u'Sweeney Todd: The Demon Barber of Fleet Street', u'0408236']], u'winner': [u'Elizabeth: The Golden Age', u'0414055']}, u'Best Writing, Screenplay Based on Material from Another Medium': {u'nominees': [[u'Atonement', u'0783233'], [u'Away from Her', u'0491747'], [u'The Diving Bell and the Butterfly', u'0401383'], [u'There Will Be Blood', u'0469494']], u'winner': [u'No Country for Old Men', u'0477348']}, u'Best Sound Editing': {u'nominees': [[u'No Country for Old Men', u'0477348'], [u'Ratatouille', u'0382932'], [u'There Will Be Blood', u'0469494'], [u'Transformers', u'0418279']], u'winner': [u'The Bourne Ultimatum', u'0440963']}, u'Best Actress in a Supporting Role': {u'nominees': [[u'American Gangster', u'0765429'], [u'Atonement', u'0783233'], [u'Gone Baby Gone', u'0452623'], [u\"I'm Not There.\", u'0368794']], u'winner': [u'Michael Clayton', u'0465538']}, u'Best Cinematography': {u'nominees': [[u'The Assassination of Jesse James by the Coward Robert Ford', u'0443680'], [u'Atonement', u'0783233'], [u'No Country for Old Men', u'0477348'], [u'The Diving Bell and the Butterfly', u'0401383']], u'winner': [u'There Will Be Blood', u'0469494']}, u'Best Documentary, Short Subjects': {u'nominees': [[u'La corona', u'1157626'], [u'Salim Baba', u'1157707'], [u\"Sari's Mother\", u'0841160']], u'winner': [u'Freeheld', u'0914369']}, u'Best Sound': {u'nominees': [[u'3:10 to Yuma', u'0381849'], [u'No Country for Old Men', u'0477348'], [u'Ratatouille', u'0382932'], [u'Transformers', u'0418279']], u'winner': [u'The Bourne Ultimatum', u'0440963']}, u'Best Director': {u'nominees': [[u'Juno', u'0467406'], [u'Michael Clayton', u'0465538'], [u'The Diving Bell and the Butterfly', u'0401383'], [u'There Will Be Blood', u'0469494']], u'winner': [u'No Country for Old Men', u'0477348']}, u'Best Actor in a Leading Role': {u'nominees': [[u'Eastern Promises', u'0765443'], [u'In the Valley of Elah', u'0478134'], [u'Michael Clayton', u'0465538'], [u'Sweeney Todd: The Demon Barber of Fleet Street', u'0408236']], u'winner': [u'There Will Be Blood', u'0469494']}, u'Best Picture': {u'nominees': [[u'Atonement', u'0783233'], [u'Juno', u'0467406'], [u'Michael Clayton', u'0465538'], [u'There Will Be Blood', u'0469494']], u'winner': [u'No Country for Old Men', u'0477348']}, u'Best Actress in a Leading Role': {u'nominees': [[u'Away from Her', u'0491747'], [u'Elizabeth: The Golden Age', u'0414055'], [u'Juno', u'0467406'], [u'The Savages', u'0775529']], u'winner': [u'La Vie en Rose', u'0450188']}, u'Best Effects, Visual Effects': {u'nominees': [[u\"Pirates of the Caribbean: At World's End\", u'0449088'], [u'Transformers', u'0418279']], u'winner': [u'The Golden Compass', u'0385752']}, u'Best Animated Feature Film of the Year': {u'nominees': [[u'Persepolis', u'0808417'], [u\"Surf's Up\", u'0423294']], u'winner': [u'Ratatouille', u'0382932']}}, u'2009': {u'Best Actor in a Supporting Role': {u'nominees': [[u'Doubt', u'0918927'], [u'Milk', u'1013753'], [u'Revolutionary Road', u'0959337'], [u'Tropic Thunder', u'0942385']], u'winner': [u'The Dark Knight', u'0468569']}, u'Best Documentary, Features': {u'nominees': [[u'The Betrayal - Nerakhoon', u'1157685'], [u'Encounters at the End of the World', u'1093824'], [u'The Garden', u'1252486'], [u'Trouble the Water', u'1149405']], u'winner': [u'Man on Wire', u'1155592']}, u'Best Writing, Screenplay Written Directly for the Screen': {u'nominees': [[u'Frozen River', u'0978759'], [u'Happy-Go-Lucky', u'1045670'], [u'In Bruges', u'0780536'], [u'WALLeE', u'0910970']], u'winner': [u'Milk', u'1013753']}, u'Best Foreign Language Film': {u'nominees': [[u'The Class', u'1068646'], [u'The Baader Meinhof Complex', u'0765432'], [u'Waltz with Bashir', u'1185616'], [u'Revanche', u'1173745']], u'winner': [u'Departures', u'1069238']}, u'Best Film Editing': {u'nominees': [[u'The Curious Case of Benjamin Button', u'0421715'], [u'The Dark Knight', u'0468569'], [u'Frost/Nixon', u'0870111'], [u'Milk', u'1013753']], u'winner': [u'Slumdog Millionaire', u'1010048']}, u'Best Art Direction': {u'nominees': [[u'Changeling', u'0824747'], [u'The Dark Knight', u'0468569'], [u'The Duchess', u'0864761'], [u'Revolutionary Road', u'0959337']], u'winner': [u'The Curious Case of Benjamin Button', u'0421715']}, u'Best Documentary, Short Subject': {u'nominees': [[u'The Conscience of Nhem En', u'1360057'], [u'The Final Inch', u'1360061'], [u'The Witness from the Balcony of Room 306', u'1360068']], u'winner': [u'Smile Pinki', u'1360065']}, u'Best Short Film, Live Action': {u'nominees': [[u'On the Line', u'1219675'], [u'The Pig', u'1333640'], [u'Manon on the Asphalt', u'1186020'], [u'New Boy', u'1095191']], u'winner': [u'Toyland', u'1280548']}, u'Best Music, Original Score': {u'nominees': [[u'The Curious Case of Benjamin Button', u'0421715'], [u'Defiance', u'1034303'], [u'Milk', u'1013753'], [u'WALLeE', u'0910970']], u'winner': [u'Slumdog Millionaire', u'1010048']}, u'Best Short Film, Animated': {u'nominees': [[u'Oktapodi', u'1323941'], [u'Presto', u'1245104'], [u'This Way Up', u'1279499'], [u'Lavatory Lovestory', u'0983242']], u'winner': [u'The House of Small Cubes', u'1361566']}, u'Best Makeup': {u'nominees': [[u'The Dark Knight', u'0468569'], [u'Hellboy II: The Golden Army', u'0411477']], u'winner': [u'The Curious Case of Benjamin Button', u'0421715']}, u'Best Costume Design': {u'nominees': [[u'Australia', u'0455824'], [u'The Curious Case of Benjamin Button', u'0421715'], [u'Milk', u'1013753'], [u'Revolutionary Road', u'0959337']], u'winner': [u'The Duchess', u'0864761']}, u'Best Writing, Screenplay Based on Material from Another Medium': {u'nominees': [[u'The Curious Case of Benjamin Button', u'0421715'], [u'Doubt', u'0918927'], [u'Frost/Nixon', u'0870111'], [u'The Reader', u'0976051']], u'winner': [u'Slumdog Millionaire', u'1010048']}, u'Best Sound Editing': {u'nominees': [[u'Iron Man', u'0371746'], [u'Slumdog Millionaire', u'1010048'], [u'WALLeE', u'0910970'], [u'Wanted', u'0493464']], u'winner': [u'The Dark Knight', u'0468569']}, u'Best Actress in a Supporting Role': {u'nominees': [[u'The Curious Case of Benjamin Button', u'0421715'], [u'Doubt', u'0918927'], [u'Doubt', u'0918927'], [u'The Wrestler', u'1125849']], u'winner': [u'Vicky Cristina Barcelona', u'0497465']}, u'Best Cinematography': {u'nominees': [[u'Changeling', u'0824747'], [u'The Curious Case of Benjamin Button', u'0421715'], [u'The Dark Knight', u'0468569'], [u'The Reader', u'0976051']], u'winner': [u'Slumdog Millionaire', u'1010048']}, u'Best Music, Original Song': {u'nominees': [[u'Slumdog Millionaire', u'1010048'], [u'WALLeE', u'0910970']], u'winner': [u'Slumdog Millionaire', u'1010048']}, u'Best Sound': {u'nominees': [[u'The Curious Case of Benjamin Button', u'0421715'], [u'The Dark Knight', u'0468569'], [u'WALLeE', u'0910970'], [u'Wanted', u'0493464']], u'winner': [u'Slumdog Millionaire', u'1010048']}, u'Best Director': {u'nominees': [[u'The Curious Case of Benjamin Button', u'0421715'], [u'Frost/Nixon', u'0870111'], [u'Milk', u'1013753'], [u'The Reader', u'0976051']], u'winner': [u'Slumdog Millionaire', u'1010048']}, u'Best Actor in a Leading Role': {u'nominees': [[u'The Curious Case of Benjamin Button', u'0421715'], [u'Frost/Nixon', u'0870111'], [u'The Visitor', u'0857191'], [u'The Wrestler', u'1125849']], u'winner': [u'Milk', u'1013753']}, u'Best Picture': {u'nominees': [[u'The Curious Case of Benjamin Button', u'0421715'], [u'Frost/Nixon', u'0870111'], [u'Milk', u'1013753'], [u'The Reader', u'0976051']], u'winner': [u'Slumdog Millionaire', u'1010048']}, u'Best Actress in a Leading Role': {u'nominees': [[u'Changeling', u'0824747'], [u'Doubt', u'0918927'], [u'Frozen River', u'0978759'], [u'Rachel Getting Married', u'1084950']], u'winner': [u'The Reader', u'0976051']}, u'Best Effects, Visual Effects': {u'nominees': [[u'The Dark Knight', u'0468569'], [u'Iron Man', u'0371746']], u'winner': [u'The Curious Case of Benjamin Button', u'0421715']}, u'Best Animated Feature Film of the Year': {u'nominees': [[u'Bolt', u'0397892'], [u'Kung Fu Panda', u'0441773']], u'winner': [u'WALLeE', u'0910970']}}, u'2011': {u'Best Actor in a Supporting Role': {u'nominees': [[u\"Winter's Bone\", u'1399683'], [u'The Town', u'0840361'], [u'The Kids Are All Right', u'0842926'], [u\"The King's Speech\", u'1504320']], u'winner': [u'The Fighter', u'0964517']}, u'Best Documentary, Features': {u'nominees': [[u'Exit Through the Gift Shop', u'1587707'], [u'GasLand', u'1558250'], [u'Restrepo', u'1559549'], [u'Waste Land', u'1268204']], u'winner': [u'Inside Job', u'1645089']}, u'Best Writing, Screenplay Written Directly for the Screen': {u'nominees': [[u'Another Year', u'1431181'], [u'Inception', u'1375666'], [u'The Kids Are All Right', u'0842926'], [u'The Fighter', u'0964517']], u'winner': [u\"The King's Speech\", u'1504320']}, u'Best Foreign Language Film': {u'nominees': [[u'Biutiful', u'1164999'], [u'Dogtooth', u'1379182'], [u'Incendies', u'1255953'], [u'Outside the Law', u'1229381']], u'winner': [u'In a Better World', u'1340107']}, u'Best Film Editing': {u'nominees': [[u'127 Hours', u'1542344'], [u'Black Swan', u'0947798'], [u'The Fighter', u'0964517'], [u\"The King's Speech\", u'1504320']], u'winner': [u'The Social Network', u'1285016']}, u'Best Art Direction': {u'nominees': [[u'Harry Potter and the Deathly Hallows: Part 1', u'0926084'], [u'Inception', u'1375666'], [u\"The King's Speech\", u'1504320'], [u'True Grit', u'1403865']], u'winner': [u'Alice in Wonderland', u'1014759']}, u'Best Short Film, Live Action': {u'nominees': [[u'The Confession', u'1687903'], [u'The Crush', u'1509756'], [u'Na Wewe', u'1764508'], [u'Wish 143', u'1518330']], u'winner': [u'God of Love', u'1631323']}, u'Best Music, Original Song': {u'nominees': [[u'127 Hours', u'1542344'], [u'Country Strong', u'1555064'], [u'Tangled', u'0398286']], u'winner': [u'Toy Story 3', u'0435761']}, u'Best Music, Original Score': {u'nominees': [[u'127 Hours', u'1542344'], [u'How to Train Your Dragon', u'0892769'], [u'Inception', u'1375666'], [u\"The King's Speech\", u'1504320']], u'winner': [u'The Social Network', u'1285016']}, u'Best Short Film, Animated': {u'nominees': [[u'Day & Night', u'1620446'], [u'The Gruffalo', u'1461418'], [u\"Let's Pollute\", u'1470652'], [u'Madagascar, a Journey Diary', u'1590114']], u'winner': [u'The Lost Thing', u'1669698']}, u'Best Makeup': {u'nominees': [[u\"Barney's Version\", u'1423894'], [u'The Way Back', u'1023114']], u'winner': [u'The Wolfman', u'0780653']}, u'Best Costume Design': {u'nominees': [[u'I Am Love', u'1226236'], [u\"The King's Speech\", u'1504320'], [u'The Tempest', u'1274300'], [u'True Grit', u'1403865']], u'winner': [u'Alice in Wonderland', u'1014759']}, u'Best Writing, Screenplay Based on Material from Another Medium': {u'nominees': [[u'127 Hours', u'1542344'], [u'True Grit', u'1403865'], [u\"Winter's Bone\", u'1399683'], [u'Toy Story 3', u'0435761']], u'winner': [u'The Social Network', u'1285016']}, u'Best Sound Editing': {u'nominees': [[u'Toy Story 3', u'0435761'], [u'TRON: Legacy', u'1104001'], [u'True Grit', u'1403865'], [u'Unstoppable', u'0477080']], u'winner': [u'Inception', u'1375666']}, u'Best Actress in a Supporting Role': {u'nominees': [[u'The Fighter', u'0964517'], [u\"The King's Speech\", u'1504320'], [u'True Grit', u'1403865'], [u'Animal Kingdom', u'1313092']], u'winner': [u'The Fighter', u'0964517']}, u'Best Cinematography': {u'nominees': [[u'Black Swan', u'0947798'], [u\"The King's Speech\", u'1504320'], [u'The Social Network', u'1285016'], [u'True Grit', u'1403865']], u'winner': [u'Inception', u'1375666']}, u'Best Documentary, Short Subjects': {u'nominees': [[u'Poster Girl', u'1505384'], [u'Killing in the Name', u'1684897'], [u'Sun Come Up', u'1621975'], [u'The Warriors of Qiugang', u'1744887']], u'winner': [u'Strangers No More', u'1754549']}, u'Best Sound': {u'nominees': [[u\"The King's Speech\", u'1504320'], [u'Salt', u'0944835'], [u'The Social Network', u'1285016'], [u'True Grit', u'1403865']], u'winner': [u'Inception', u'1375666']}, u'Best Director': {u'nominees': [[u'Black Swan', u'0947798'], [u'True Grit', u'1403865'], [u'The Social Network', u'1285016'], [u'The Fighter', u'0964517']], u'winner': [u\"The King's Speech\", u'1504320']}, u'Best Actor in a Leading Role': {u'nominees': [[u'Biutiful', u'1164999'], [u'True Grit', u'1403865'], [u'The Social Network', u'1285016'], [u'127 Hours', u'1542344']], u'winner': [u\"The King's Speech\", u'1504320']}, u'Best Picture': {u'nominees': [[u'127 Hours', u'1542344'], [u'Black Swan', u'0947798'], [u'The Fighter', u'0964517'], [u'Inception', u'1375666'], [u'The Kids Are All Right', u'0842926'], [u'The Social Network', u'1285016'], [u'Toy Story 3', u'0435761'], [u'True Grit', u'1403865'], [u\"Winter's Bone\", u'1399683']], u'winner': [u\"The King's Speech\", u'1504320']}, u'Best Actress in a Leading Role': {u'nominees': [[u'The Kids Are All Right', u'0842926'], [u'Rabbit Hole', u'0935075'], [u\"Winter's Bone\", u'1399683'], [u'Blue Valentine', u'1120985']], u'winner': [u'Black Swan', u'0947798']}, u'Best Effects, Visual Effects': {u'nominees': [[u'Alice in Wonderland', u'1014759'], [u'Harry Potter and the Deathly Hallows: Part 1', u'0926084'], [u'Hereafter', u'1212419'], [u'Iron Man 2', u'1228705']], u'winner': [u'Inception', u'1375666']}, u'Best Animated Feature Film of the Year': {u'nominees': [[u'How to Train Your Dragon', u'0892769'], [u'The Illusionist', u'0775489']], u'winner': [u'Toy Story 3', u'0435761']}}, u'2010': {u'Best Actor in a Supporting Role': {u'nominees': [[u'Invictus', u'1057500'], [u'The Last Station', u'0824758'], [u'The Lovely Bones', u'0380510'], [u'The Messenger', u'0790712']], u'winner': [u'Inglourious Basterds', u'0361748']}, u'Best Documentary, Features': {u'nominees': [[u'Burma VJ: Reporter i et lukket land', u'1333634'], [u'Food, Inc.', u'1286537'], [u'The Most Dangerous Man in America: Daniel Ellsberg and the Pentagon Papers', u'1319726'], [u'Which Way Home', u'0489342']], u'winner': [u'The Cove', u'1313104']}, u'Best Writing, Screenplay Written Directly for the Screen': {u'nominees': [[u'A Serious Man', u'1019452'], [u'Inglourious Basterds', u'0361748'], [u'The Messenger', u'0790712'], [u'Up', u'1049413']], u'winner': [u'The Hurt Locker', u'0887912']}, u'Best Foreign Language Film': {u'nominees': [[u'The Milk of Sorrow', u'1206488'], [u'The White Ribbon', u'1149362'], [u'Ajami', u'1077262'], [u'A Prophet', u'1235166']], u'winner': [u'The Secret in Their Eyes', u'1305806']}, u'Best Film Editing': {u'nominees': [[u'Avatar', u'0499549'], [u'District 9', u'1136608'], [u'Inglourious Basterds', u'0361748'], [u'Precious', u'0929632']], u'winner': [u'The Hurt Locker', u'0887912']}, u'Best Art Direction': {u'nominees': [[u'Nine', u'0875034'], [u'Sherlock Holmes', u'0988045'], [u'The Imaginarium of Doctor Parnassus', u'1054606'], [u'The Young Victoria', u'0962736']], u'winner': [u'Avatar', u'0499549']}, u'Best Short Film, Live Action': {u'nominees': [[u'Instead of Abracadabra', u'1351684'], [u'Kavi', u'1399573'], [u'Miracle Fish', u'1337354'], [u'The Door', u'1381557']], u'winner': [u'The New Tenants', u'1520428']}, u'Best Music, Original Song': {u'nominees': [[u'Paris 36', u'0948535'], [u'Nine', u'0875034'], [u'The Princess and the Frog', u'0780521'], [u'The Princess and the Frog', u'0780521']], u'winner': [u'Crazy Heart', u'1263670']}, u'Best Music, Original Score': {u'nominees': [[u'Avatar', u'0499549'], [u'Fantastic Mr. Fox', u'0432283'], [u'Sherlock Holmes', u'0988045'], [u'The Hurt Locker', u'0887912']], u'winner': [u'Up', u'1049413']}, u'Best Short Film, Animated': {u'nominees': [[u'French Roast', u'1323520'], [u\"Granny O'Grimm's Sleeping Beauty\", u'1382454'], [u'The Lady and the Reaper (La dama y la muerte)', u'1523317'], [u'A Matter of Loaf and Death', u'1118511']], u'winner': [u'Logorama', u'1563725']}, u'Best Makeup': {u'nominees': [[u'Il divo: La spettacolare vita di Giulio Andreotti', u'1023490'], [u'The Young Victoria', u'0962736']], u'winner': [u'Star Trek', u'0796366']}, u'Best Costume Design': {u'nominees': [[u'Bright Star', u'0810784'], [u'Coco Before Chanel', u'1035736'], [u'Nine', u'0875034'], [u'The Imaginarium of Doctor Parnassus', u'1054606']], u'winner': [u'The Young Victoria', u'0962736']}, u'Best Writing, Screenplay Based on Material from Another Medium': {u'nominees': [[u'An Education', u'1174732'], [u'District 9', u'1136608'], [u'In the Loop', u'1226774'], [u'Up in the Air', u'1193138']], u'winner': [u'Precious', u'0929632']}, u'Best Sound Editing': {u'nominees': [[u'Avatar', u'0499549'], [u'Inglourious Basterds', u'0361748'], [u'Star Trek', u'0796366'], [u'Up', u'1049413']], u'winner': [u'The Hurt Locker', u'0887912']}, u'Best Actress in a Supporting Role': {u'nominees': [[u'Crazy Heart', u'1263670'], [u'Nine', u'0875034'], [u'Up in the Air', u'1193138'], [u'Up in the Air', u'1193138']], u'winner': [u'Precious', u'0929632']}, u'Best Cinematography': {u'nominees': [[u'The White Ribbon', u'1149362'], [u'Harry Potter and the Half-Blood Prince', u'0417741'], [u'Inglourious Basterds', u'0361748'], [u'The Hurt Locker', u'0887912']], u'winner': [u'Avatar', u'0499549']}, u'Best Documentary, Short Subjects': {u'nominees': [[u\"China's Unnatural Disaster: The Tears of Sichuan Province\", u'1430809'], [u'Rabbit e la Berlin', u'1410281'], [u'The Last Campaign of Governor Booth Gardner', u'1534853'], [u'The Last Truck: Closing of a GM Plant', u'1487120']], u'winner': [u'Music by Prudence', u'1543539']}, u'Best Sound': {u'nominees': [[u'Avatar', u'0499549'], [u'Inglourious Basterds', u'0361748'], [u'Star Trek', u'0796366'], [u'Transformers: Revenge of the Fallen', u'1055369']], u'winner': [u'The Hurt Locker', u'0887912']}, u'Best Director': {u'nominees': [[u'Avatar', u'0499549'], [u'Inglourious Basterds', u'0361748'], [u'Precious', u'0929632'], [u'Up in the Air', u'1193138']], u'winner': [u'The Hurt Locker', u'0887912']}, u'Best Actor in a Leading Role': {u'nominees': [[u'A Single Man', u'1315981'], [u'Invictus', u'1057500'], [u'The Hurt Locker', u'0887912'], [u'Up in the Air', u'1193138']], u'winner': [u'Crazy Heart', u'1263670']}, u'Best Picture': {u'nominees': [[u'A Serious Man', u'1019452'], [u'An Education', u'1174732'], [u'Avatar', u'0499549'], [u'District 9', u'1136608'], [u'Inglourious Basterds', u'0361748'], [u'Precious', u'0929632'], [u'The Blind Side', u'0878804'], [u'Up', u'1049413'], [u'Up in the Air', u'1193138']], u'winner': [u'The Hurt Locker', u'0887912']}, u'Best Actress in a Leading Role': {u'nominees': [[u'An Education', u'1174732'], [u'Julie & Julia', u'1135503'], [u'Precious', u'0929632'], [u'The Last Station', u'0824758']], u'winner': [u'The Blind Side', u'0878804']}, u'Best Effects, Visual Effects': {u'nominees': [[u'District 9', u'1136608'], [u'Star Trek', u'0796366']], u'winner': [u'Avatar', u'0499549']}, u'Best Animated Feature Film of the Year': {u'nominees': [[u'Coraline', u'0327597'], [u'Fantastic Mr. Fox', u'0432283'], [u'The Princess and the Frog', u'0780521'], [u'The Secret of Kells', u'0485601']], u'winner': [u'Up', u'1049413']}}, u'2013': {u'Best Actor in a Supporting Role': {u'nominees': [[u'Argo', u'1024648'], [u'Silver Linings Playbook', u'1045658'], [u'The Master', u'1560747'], [u'Lincoln', u'0443272']], u'winner': [u'Django Unchained', u'1853728']}, u'Best Documentary, Features': {u'nominees': [[u'5 Broken Cameras', u'2125423'], [u'The Gatekeepers', u'2309788'], [u'How to Survive a Plague', u'2124803'], [u'The Invisible War', u'2120152']], u'winner': [u'Searching for Sugar Man', u'2125608']}, u'Best Writing, Screenplay Written Directly for the Screen': {u'nominees': [[u'Amour', u'1602620'], [u'Flight', u'1907668'], [u'Moonrise Kingdom', u'1748122'], [u'Zero Dark Thirty', u'1790885']], u'winner': [u'Django Unchained', u'1853728']}, u'Best Foreign Language Film': {u'nominees': [[u'War Witch', u'1820488'], [u'No', u'2059255'], [u'A Royal Affair', u'1276419'], [u'Kon-Tiki', u'1613750']], u'winner': [u'Amour', u'1602620']}, u'Best Film Editing': {u'nominees': [[u'Life of Pi', u'0454876'], [u'Lincoln', u'0443272'], [u'Silver Linings Playbook', u'1045658'], [u'Zero Dark Thirty', u'1790885']], u'winner': [u'Argo', u'1024648']}, u'Best Short Film, Live Action': {u'nominees': [[u'Asad', u'2136747'], [u'Buzkashi Boys', u'2133304'], [u'Death of a Shadow', u'2312702'], [u'Henry', u'2004244']], u'winner': [u'Curfew', u'2088735']}, u'Best Music, Original Song': {u'nominees': [[u'Ted', u'1637725'], [u'Life of Pi', u'0454876'], [u'Les Miserables', u'1707386'], [u'Chasing Ice', u'1579361']], u'winner': [u'Skyfall', u'1074638']}, u'Best Music, Original Score': {u'nominees': [[u'Anna Karenina', u'1781769'], [u'Argo', u'1024648'], [u'Lincoln', u'0443272'], [u'Skyfall', u'1074638']], u'winner': [u'Life of Pi', u'0454876']}, u'Best Production Design': {u'nominees': [[u'Anna Karenina', u'1781769'], [u'The Hobbit: An Unexpected Journey', u'0903624'], [u'Les Miserables', u'1707386'], [u'Life of Pi', u'0454876']], u'winner': [u'Lincoln', u'0443272']}, u'Best Short Film, Animated': {u'nominees': [[u'Adam and Dog', u'2162565'], [u'Fresh Guacamole', u'2309977'], [u'Head Over Heels', u'2391009'], [u'The Longest Daycare', u'2175842']], u'winner': [u'Paperman', u'2388725']}, u'Best Makeup': {u'nominees': [[u'Hitchcock', u'0975645'], [u'The Hobbit: An Unexpected Journey', u'0903624']], u'winner': [u'Les Miserables', u'1707386']}, u'Best Costume Design': {u'nominees': [[u'Les Miserables', u'1707386'], [u'Lincoln', u'0443272'], [u'Mirror Mirror', u'1667353'], [u'Snow White and the Huntsman', u'1735898']], u'winner': [u'Anna Karenina', u'1781769']}, u'Best Animated Feature': {u'nominees': [[u'Frankenweenie', u'1142977'], [u'ParaNorman', u'1623288'], [u'The Pirates! Band of Misfits', u'1430626'], [u'Wreck-It Ralph', u'1772341']], u'winner': [u'Brave', u'1217209']}, u'Best Writing, Screenplay Based on Material from Another Medium': {u'nominees': [[u'Beasts of the Southern Wild', u'2125435'], [u'Life of Pi', u'0454876'], [u'Lincoln', u'0443272'], [u'Silver Linings Playbook', u'1045658']], u'winner': [u'Argo', u'1024648']}, u'Best Sound Editing': {u'nominees': [[u'Zero Dark Thirty', u'1790885'], [u'Argo', u'1024648'], [u'Django Unchained', u'1853728'], [u'Life of Pi', u'0454876']], u'winner': [u'Skyfall', u'1074638']}, u'Best Actress in a Supporting Role': {u'nominees': [[u'The Master', u'1560747'], [u'Lincoln', u'0443272'], [u'The Sessions', u'1866249'], [u'Silver Linings Playbook', u'1045658']], u'winner': [u'Les Miserables', u'1707386']}, u'Best Cinematography': {u'nominees': [[u'Anna Karenina', u'1781769'], [u'Django Unchained', u'1853728'], [u'Lincoln', u'0443272'], [u'Skyfall', u'1074638']], u'winner': [u'Life of Pi', u'0454876']}, u'Best Documentary, Short Subjects': {u'nominees': [[u'Kings Point', u'2109153'], [u'Mondays at Racine', u'2083264'], [u'Open Heart', u'2348322'], [u'Redemption', u'2201886']], u'winner': [u'Inocente', u'2123210']}, u'Best Sound': {u'nominees': [[u'Argo', u'1024648'], [u'Life of Pi', u'0454876'], [u'Lincoln', u'0443272'], [u'Skyfall', u'1074638']], u'winner': [u'Les Miserables', u'1707386']}, u'Best Director': {u'nominees': [[u'Amour', u'1602620'], [u'Silver Linings Playbook', u'1045658'], [u'Lincoln', u'0443272'], [u'Beasts of the Southern Wild', u'2125435']], u'winner': [u'Life of Pi', u'0454876']}, u'Best Actor in a Leading Role': {u'nominees': [[u'Silver Linings Playbook', u'1045658'], [u'Les Miserables', u'1707386'], [u'The Master', u'1560747'], [u'Flight', u'1907668']], u'winner': [u'Lincoln', u'0443272']}, u'Best Picture': {u'nominees': [[u'Amour', u'1602620'], [u'Beasts of the Southern Wild', u'2125435'], [u'Django Unchained', u'1853728'], [u'Les Miserables', u'1707386'], [u'Life of Pi', u'0454876'], [u'Lincoln', u'0443272'], [u'Silver Linings Playbook', u'1045658'], [u'Zero Dark Thirty', u'1790885']], u'winner': [u'Argo', u'1024648']}, u'Best Actress in a Leading Role': {u'nominees': [[u'Zero Dark Thirty', u'1790885'], [u'Amour', u'1602620'], [u'Beasts of the Southern Wild', u'2125435'], [u'The Impossible', u'1649419']], u'winner': [u'Silver Linings Playbook', u'1045658']}, u'Best Effects, Visual Effects': {u'nominees': [[u'The Avengers', u'0848228'], [u'The Hobbit: An Unexpected Journey', u'0903624'], [u'Prometheus', u'1446714'], [u'Snow White and the Huntsman', u'1735898']], u'winner': [u'Life of Pi', u'0454876']}}, u'2012': {u'Best Actor in a Supporting Role': {u'nominees': [[u'My Week with Marilyn', u'1655420'], [u'Moneyball', u'1210166'], [u'Warrior', u'1291584'], [u'Extremely Loud & Incredibly Close', u'0477302']], u'winner': [u'Beginners', u'1532503']}, u'Best Documentary, Features': {u'nominees': [[u'Hell and Back Again', u'1748043'], [u'If a Tree Falls: A Story of the Earth Liberation Front', u'1787725'], [u'Paradise Lost 3: Purgatory', u'2028530'], [u'Pina', u'1440266']], u'winner': [u'Undefeated', u'1860355']}, u'Best Writing, Screenplay Written Directly for the Screen': {u'nominees': [[u'The Artist', u'1655442'], [u'Bridesmaids', u'1478338'], [u'Margin Call', u'1615147'], [u'A Separation', u'1832382']], u'winner': [u'Midnight in Paris', u'1605783']}, u'Best Foreign Language Film': {u'nominees': [[u'Bullhead', u'1821593'], [u'Footnote', u'1445520'], [u'In Darkness', u'1417075'], [u'Monsieur Lazhar', u'2011971']], u'winner': [u'A Separation', u'1832382']}, u'Best Film Editing': {u'nominees': [[u'The Artist', u'1655442'], [u'The Descendants', u'1033575'], [u'Hugo', u'0970179'], [u'Moneyball', u'1210166']], u'winner': [u'The Girl with the Dragon Tattoo', u'1568346']}, u'Best Art Direction': {u'nominees': [[u'War Horse', u'1568911'], [u'Midnight in Paris', u'1605783'], [u'Harry Potter and the Deathly Hallows: Part 2', u'1201607'], [u'The Artist', u'1655442']], u'winner': [u'Hugo', u'0970179']}, u'Best Short Film, Live Action': {u'nominees': [[u'Pentecost', u'1866218'], [u'Raju', u'1819651'], [u'Time Freak', u'1733689'], [u'Tuba Atlantic', u'2061843']], u'winner': [u'The Shore', u'2201259']}, u'Best Music, Original Song': {u'nominees': [[u'Rio', u'1436562']], u'winner': [u'The Muppets', u'1204342']}, u'Best Music, Original Score': {u'nominees': [[u'The Adventures of Tintin', u'0983193'], [u'Hugo', u'0970179'], [u'Tinker Tailor Soldier Spy', u'1340800'], [u'War Horse', u'1568911']], u'winner': [u'The Artist', u'1655442']}, u'Best Short Film, Animated': {u'nominees': [[u'Sunday', u'1895334'], [u'La luna', u'1957945'], [u'A Morning Stroll', u'1964446'], [u'Wild Life', u'2097943']], u'winner': [u'The Fantastic Flying Books of Mr. Morris Lessmore', u'1778342']}, u'Best Makeup': {u'nominees': [[u'Harry Potter and the Deathly Hallows: Part 2', u'1201607'], [u'Albert Nobbs', u'1602098']], u'winner': [u'The Iron Lady', u'1007029']}, u'Best Costume Design': {u'nominees': [[u'Anonymous', u'1521197'], [u'Hugo', u'0970179'], [u'Jane Eyre', u'1229822'], [u'W.E.', u'1536048']], u'winner': [u'The Artist', u'1655442']}, u'Best Writing, Screenplay Based on Material from Another Medium': {u'nominees': [[u'Hugo', u'0970179'], [u'The Ides of March', u'1124035'], [u'Tinker Tailor Soldier Spy', u'1340800'], [u'Moneyball', u'1210166']], u'winner': [u'The Descendants', u'1033575']}, u'Best Sound Editing': {u'nominees': [[u'The Girl with the Dragon Tattoo', u'1568346'], [u'Transformers: Dark of the Moon', u'1399103'], [u'War Horse', u'1568911'], [u'Drive', u'0780504']], u'winner': [u'Hugo', u'0970179']}, u'Best Actress in a Supporting Role': {u'nominees': [[u'The Artist', u'1655442'], [u'The Help', u'1454029'], [u'Bridesmaids', u'1478338'], [u'Albert Nobbs', u'1602098']], u'winner': [u'The Help', u'1454029']}, u'Best Cinematography': {u'nominees': [[u'The Artist', u'1655442'], [u'The Girl with the Dragon Tattoo', u'1568346'], [u'The Tree of Life', u'0478304'], [u'War Horse', u'1568911']], u'winner': [u'Hugo', u'0970179']}, u'Best Documentary, Short Subjects': {u'nominees': [[u'God Is the Bigger Elvis', u'2210633'], [u'The Barber of Birmingham: Foot Soldier of the Civil Rights Movement', u'1844056'], [u'Incident in New Baghdad', u'1746180'], [u'The Tsunami and the Cherry Blossom', u'2028578']], u'winner': [u'Saving Face', u'2140371']}, u'Best Sound': {u'nominees': [[u'Moneyball', u'1210166'], [u'War Horse', u'1568911'], [u'Transformers: Dark of the Moon', u'1399103'], [u'The Girl with the Dragon Tattoo', u'1568346']], u'winner': [u'Hugo', u'0970179']}, u'Best Director': {u'nominees': [[u'Midnight in Paris', u'1605783'], [u'The Tree of Life', u'0478304'], [u'The Descendants', u'1033575'], [u'Hugo', u'0970179']], u'winner': [u'The Artist', u'1655442']}, u'Best Actor in a Leading Role': {u'nominees': [[u'A Better Life', u'1554091'], [u'The Descendants', u'1033575'], [u'Tinker Tailor Soldier Spy', u'1340800'], [u'Moneyball', u'1210166']], u'winner': [u'The Artist', u'1655442']}, u'Best Picture': {u'nominees': [[u'The Tree of Life', u'0478304'], [u'The Descendants', u'1033575'], [u'Extremely Loud & Incredibly Close', u'0477302'], [u'The Help', u'1454029'], [u'Hugo', u'0970179'], [u'Midnight in Paris', u'1605783'], [u'Moneyball', u'1210166'], [u'War Horse', u'1568911']], u'winner': [u'The Artist', u'1655442']}, u'Best Actress in a Leading Role': {u'nominees': [[u'Albert Nobbs', u'1602098'], [u'The Help', u'1454029'], [u'The Girl with the Dragon Tattoo', u'1568346'], [u'My Week with Marilyn', u'1655420']], u'winner': [u'The Iron Lady', u'1007029']}, u'Best Effects, Visual Effects': {u'nominees': [[u'Real Steel', u'0433035'], [u'Harry Potter and the Deathly Hallows: Part 2', u'1201607'], [u'Transformers: Dark of the Moon', u'1399103'], [u'Rise of the Planet of the Apes', u'1318514']], u'winner': [u'Hugo', u'0970179']}, u'Best Animated Feature Film of the Year': {u'nominees': [[u'Chico & Rita', u'1235830'], [u'A Cat in Paris', u'1673702'], [u'Puss in Boots', u'0448694'], [u'Kung Fu Panda 2', u'1302011']], u'winner': [u'Rango', u'1192628']}}}\n"
       ]
      }
     ],
     "prompt_number": 92
    },
    {
     "cell_type": "markdown",
     "metadata": {},
     "source": [
      "However, the names of some of the different awards have changed over the years; we had better fix this for consistency later on.  "
     ]
    },
    {
     "cell_type": "code",
     "collapsed": false,
     "input": [
      "movie_awards = [u'Best Documentary, Features',u'Best Writing, Screenplay Written Directly for the Screen',\n",
      "                u'Best Foreign Language Film',u'Best Short Film, Live Action',u'Best Music, Original Song',\n",
      "                u'Best Music, Original Score',u'Best Art Direction-Set Decoration',u'Best Costume Design',\n",
      "                u'Best Short Film, Animated',u'Best Makeup',u'Best Film Editing',u'Best Animated Feature',\n",
      "                u'Best Writing, Screenplay Based on Material from Another Medium',u'Best Sound Editing',\n",
      "                u'Best Cinematography',u'Best Documentary, Short Subjects',u'Best Sound',u'Best Director',\n",
      "                u'Best Picture',u'Best Visual Effects']\n",
      "\n",
      "# http://stackoverflow.com/questions/9708374/python-how-to-find-the-string-with-most-matches-in-a-list-of-strings\n",
      "def find_correct_award(awards,keystr):\n",
      "    keywords = re.split(' |-',keystr.lower())\n",
      "    def matches(text):\n",
      "        return sum(word in text.lower() for word in keywords)\n",
      "    return max(awards,key=matches) \n",
      "\n",
      "for year in oscars:\n",
      "    for award in movie_awards:\n",
      "        if award not in oscars[year].keys():\n",
      "            old = find_correct_award(oscars[year].keys(),award)\n",
      "            oscars[year][award] = oscars[year].pop(old)"
     ],
     "language": "python",
     "metadata": {},
     "outputs": [],
     "prompt_number": 109
    },
    {
     "cell_type": "code",
     "collapsed": false,
     "input": [
      "print oscars['2003']['Best Cinematography']"
     ],
     "language": "python",
     "metadata": {},
     "outputs": [
      {
       "output_type": "stream",
       "stream": "stdout",
       "text": [
        "{u'nominees': [[u'Chicago', u'0299658'], [u'Far from Heaven', u'0297884'], [u'Gangs of New York', u'0217505'], [u'The Pianist', u'0253474']], u'winner': [u'Road to Perdition', u'0257044']}\n"
       ]
      }
     ],
     "prompt_number": 110
    },
    {
     "cell_type": "markdown",
     "metadata": {},
     "source": [
      "<h1>Populating a List of Candidate Movies</h1>"
     ]
    },
    {
     "cell_type": "markdown",
     "metadata": {},
     "source": [
      "In order to run our analysis, we need to isolate a dataset of movies for a given year that are candidates for an Oscar. For this purpose, we decided to extract a subset of the movies outlined by <a href=\"http://www.boxofficemojo.com/yearly\">Box Office Mojo</a> as the top movies in a given year. Assumming that the movies most likely to win an Oscar are likely to be among those with the highest gross revenue in a given year, we decided to select the Top 200 movies from each year as candidates for an Oscar (in the following year)."
     ]
    },
    {
     "cell_type": "markdown",
     "metadata": {},
     "source": [
      "<h2>Getting the Movies</h2>"
     ]
    },
    {
     "cell_type": "markdown",
     "metadata": {},
     "source": [
      "The function get_top_movies_by_year takes two arguments, year and the number of movies desired for that given year. The function returns a dataframe for the given year with the following columns:\n",
      "<ul>\n",
      "<li>rank</li><li>year</li><li>movie_title</li><li>imdbid</li><li>rtid</li><li>studio</li><li>total_gross</li><li>num_theaters_total</li><li>opening_revenue</li><li>num_theaters_opening</li><li>date_open</li><li>date_close</li>\n",
      "</ul>\n",
      "This data, with the exception of IMDBid and RTid, is obtained from <a href=\"http://www.boxofficemojo.com/yearly\">Box Office Mojo</a>. In a first pass, we attempt to collect IMDBid and RTid from <a href=\"http://developer.rottentomatoes.com/\">Rotten Tomatoes API</a>. For the movies that we cannot successfully isolate an IMDBid for, we attempt to obtain an id through the <a href=\"http://www.omdbapi.com/\">OMDB API</a>."
     ]
    },
    {
     "cell_type": "code",
     "collapsed": false,
     "input": [
      "def get_top_movies_by_year(yr,num_movies=200):\n",
      "    num_pages = int((num_movies-1)/100) + 1\n",
      "    missing_rtid = 0\n",
      "    missing_imdbid = 0\n",
      "    alldata = []\n",
      "    for pagenum in range(1,num_pages+1):\n",
      "        url = 'http://boxofficemojo.com/yearly/chart/?page=' + str(pagenum) + '&view=releasedate&view2=domestic&yr=' + str(yr) + '&p=.htm'\n",
      "        page_xml = requests.get(url).text\n",
      "        dom = web.Element(page_xml)\n",
      "        for table in dom.by_tag('table'):\n",
      "            cellpadding = (table.attributes['cellpadding'])    \n",
      "            if (cellpadding == '5'):  # isolates table with movie data\n",
      "                for row in table.by_tag('tr'):\n",
      "                    cols = row.by_tag('td')\n",
      "                    #catches movie rows\n",
      "                    try:\n",
      "                        rank = int(web.strip_tags(cols[0]))\n",
      "                        if (rank<=num_movies): #checks to make sure in right spot!\n",
      "                            movie_title = web.strip_tags(cols[1]).strip('\\t')\n",
      "                            movie_title = unicodedata.normalize('NFKD', movie_title).encode('ascii', 'ignore') #removes accents\n",
      "                            studio = web.strip_tags(cols[2]).strip('\\t')\n",
      "                            \n",
      "                            # the below try/except mechanisms catch errors when there is a NONE instead of a string which is a candidate for integer casting\n",
      "                            try:\n",
      "                                total_gross = int(((web.strip_tags(cols[3])).strip('$')).replace(',', ''))\n",
      "                            except:\n",
      "                                total_gross = None\n",
      "                            try:\n",
      "                                num_theaters_total = int((web.strip_tags(cols[4])).replace(',', ''))\n",
      "                            except:\n",
      "                                num_theaters_total = None\n",
      "                            try:\n",
      "                                opening_revenue = int(((web.strip_tags(cols[5])).strip('$')).replace(',', ''))\n",
      "                            except:\n",
      "                                opening_revenue = None\n",
      "                            try:   \n",
      "                                num_theaters_opening = int((web.strip_tags(cols[6])).replace(',', ''))\n",
      "                            except:\n",
      "                                num_theaters_opening = None\n",
      "                            \n",
      "                            date_open = web.strip_tags(cols[7]).strip('\\t')\n",
      "                            date_close = web.strip_tags(cols[8]).strip('\\t')\n",
      "                            \n",
      "                            #using rotten tomatoes to get rtid/imdbid\n",
      "                            url2 = 'http://api.rottentomatoes.com/api/public/v1.0/movies.json?' 'q=' + movie_title + ' &page_limit=10' + '&apikey=' + api_key\n",
      "                            info_data = requests.get(url2).text\n",
      "                            info_json = json.loads(info_data)\n",
      "                            movie_count = 0\n",
      "                            rtid=''\n",
      "                            imdbid=''\n",
      "                            try:\n",
      "                                for movie in info_json['movies']:\n",
      "                                    if movie['year']==yr:\n",
      "                                        movie_count+=1\n",
      "                                        rtid=movie['id']\n",
      "                                        try:\n",
      "                                            imdbid=(movie['alternate_ids'])['imdb']\n",
      "                                        except:\n",
      "                                            imdbid=''\n",
      "                            except:\n",
      "                                pass\n",
      "                            if movie_count!=1: #case where more than one movie met description\n",
      "                                rtid = ''\n",
      "                                imdbid = ''\n",
      "                            \n",
      "                            # second attempt to obtain imdb ids using the omdbapi\n",
      "                            if imdbid=='':\n",
      "                                try:\n",
      "                                    omdb_link = \"http://www.omdbapi.com/?t=%s&y=%s\" % (movie_title,yr)\n",
      "                                    omdb_text = web.URL(omdb_link).download(cached=True)\n",
      "                                    imdbid = json.loads(omdb_text)['imdbID'].replace(\"tt\",\"\")\n",
      "                                except:\n",
      "                                    try:\n",
      "                                        omdb_link = \"http://www.omdbapi.com/?t=%s&y=%s\" % (movie_title,(yr-1))\n",
      "                                        omdb_text = web.URL(omdb_link).download(cached=True)\n",
      "                                        imdbid = json.loads(omdb_text)['imdbID'].replace(\"tt\",\"\")\n",
      "                                    except:\n",
      "                                        try:\n",
      "                                            omdb_link = \"http://www.omdbapi.com/?t=%s&y=%s\" % (movie_title,(yr-2))\n",
      "                                            omdb_text = web.URL(omdb_link).download(cached=True)\n",
      "                                            imdbid = json.loads(omdb_text)['imdbID'].replace(\"tt\",\"\")\n",
      "                                        except:\n",
      "                                            imdbid = ''\n",
      "                                            missing_imdbid += 1\n",
      "                            if rtid=='':\n",
      "                                missing_rtid += 1\n",
      "                            \n",
      "                            data_row = [rank,yr,movie_title,imdbid,rtid,studio,total_gross,num_theaters_total,opening_revenue,num_theaters_opening,date_open,date_close]\n",
      "                            alldata.append(data_row)\n",
      "                    except ValueError:\n",
      "                        pass\n",
      "                    \n",
      "    result = pd.DataFrame(alldata,columns=['rank','year','movie_title','imdbid','rtid','studio','total_gross','num_theaters_total','opening_revenue','num_theaters_opening','date_open','date_close'])\n",
      "    if (missing_imdbid>0):\n",
      "        print 'unable to find a imdbid for ' + str(missing_imdbid) + ' movies of ' + str(num_movies) + ' in ' + str(yr)\n",
      "    if (missing_rtid>0):\n",
      "        print 'unable to find a rtid for ' + str(missing_rtid) + ' movies of ' + str(num_movies) + ' in ' + str(yr)\n",
      "    return result"
     ],
     "language": "python",
     "metadata": {},
     "outputs": [],
     "prompt_number": 111
    },
    {
     "cell_type": "markdown",
     "metadata": {},
     "source": [
      "In order to obtain the candidate movies for the timerange of the data we are investigating (2003-2012), we must run get_top_movies_by_year and create a unified dataframe of movie data. The datafile 'alldata_200.csv' includes all of the data outlined previously that we obtain from <a href=\"http://www.boxofficemojo.com/yearly\">Box Office Mojo</a>. The datafile 'iddata_200.csv' only includes the data needed by portions of the project in order to collect additional movie data, namely: year, movie rank, imdbid, and rtid."
     ]
    },
    {
     "cell_type": "code",
     "collapsed": false,
     "input": [
      "# Saves all data\n",
      "# alldata=get_top_movies_by_year(2003,200)\n",
      "# for yr in range(2004,2013):\n",
      "#     num_movies=200\n",
      "#     result=get_top_movies_by_year(yr,num_movies)\n",
      "#     alldata.append(result,ignore_index=True)\n",
      "#     print yr\n",
      "# filename='./data/alldata_' + str(num_movies) + '.csv'\n",
      "# alldata.to_csv(filename, index=False)\n",
      "\n",
      "# Saves just title and id data in a separate file\n",
      "# narrowed_data=pd.DataFrame(alldata, columns=['year','rank','movie_title','imdbid','rtid'])\n",
      "# filename='./data/iddata_' + str(num_movies) + '.csv'\n",
      "# narrowed_data.to_csv(filename, index=False)"
     ],
     "language": "python",
     "metadata": {},
     "outputs": [],
     "prompt_number": 112
    },
    {
     "cell_type": "markdown",
     "metadata": {},
     "source": [
      "<h2>Data Refinement and Cleaning</h2>\n",
      "The data collected via get_top_movies by year successfully found the IMDBid (the reference id used across the different segment of this project) for approximately 90% of the top 200 movies in each given year. The additional 10% of IMDBids not found by the above procedure were identified manually. The manual determination of IMDBids was recorded in two new files: 'revised_id_data.csv' and 'completedata.csv'.\n",
      "\n",
      "Of the top 200 movies from each year, approximately 5% were excluded from further analysis. The top reasons for movie exclusion included:\n",
      "<ul>\n",
      "<li>Re-releases of prior movies (often occurs around the holidays)</li>\n",
      "<li>Re-releases of movies with visual enhancements (a very common procedure for Disney movies)</li>\n",
      "<li>Exclusive release of movies in IMAX theaters</li>\n",
      "<li>One-time limited showings of events such as concerts (see <a href=\"http://www.fathomevents.com/event/private-lives\">Fathom Events</a>)</li>\n",
      "</ul>\n",
      "\n",
      "When a movie was excluded from analysis its IMDBid was set to 'None'. These rows of the dataframe were then removed from analysis."
     ]
    },
    {
     "cell_type": "code",
     "collapsed": false,
     "input": [
      "bomj_df = pd.read_csv('data/completedata.csv')\n",
      "\n",
      "def test_for_nones(df,column_name):\n",
      "    result = []\n",
      "    col = df[column_name]\n",
      "    for item in col:\n",
      "        check_bool = False\n",
      "        if (item != 'None'):\n",
      "            if item!='NaN':\n",
      "                check_bool = True\n",
      "        result.append(check_bool)\n",
      "    return result\n",
      "\n",
      "# stores imdbid with 7 characters\n",
      "bomj_df=bomj_df[test_for_nones(bomj_df,'imdbid')]\n",
      "# removes rtid, which is calculated later\n",
      "bomj_df=bomj_df[['rank','year','movie_title','imdbid','studio','total_gross','num_theaters_total','opening_revenue','num_theaters_opening','date_open','date_close']]\n",
      "\n",
      "import numpy as np\n",
      "\n",
      "# ensures proper formatting of all columns\n",
      "def formatting_verification(column,fun):\n",
      "    result = []\n",
      "    for val in column:\n",
      "        if fun=='int':\n",
      "            if ((val == 'None')):\n",
      "                result.append(None)\n",
      "            else:\n",
      "                print val\n",
      "                result.append(int(val))\n",
      "\n",
      "#         elif fun=='str':\n",
      "#             if ((val is None)):\n",
      "#                 result.append()\n",
      "#             else:\n",
      "#                 try:\n",
      "#                     if math.isnan(val):\n",
      "#                         result.append()\n",
      "#                     else:\n",
      "#                         result.append(str(val))\n",
      "#                 except:\n",
      "#                     result.append(str(val))\n",
      "#     return result  \n",
      "\n",
      "\n",
      "bomj_df['imdbid'] = bomj_df['imdbid'].map(lambda id: str(id).zfill(7))\n",
      "\n",
      "# bomj_df['rank'] = formatting_verification(bomj_df['rank'].values,'int')\n",
      "# bomj_df['year'] = formatting_verification(bomj_df['year'].values,'int')\n",
      "# bomj_df['studio'] = formatting_verification(bomj_df['studio'].values,'str')\n",
      "# bomj_df['total_gross'] = formatting_verification(bomj_df['total_gross'].values,'int')\n",
      "#bomj_df['num_theaters_total'] = formatting_verification(bomj_df['num_theaters_total'].values,'int')\n",
      "# bomj_df['opening_revenue'] = formatting_verification(bomj_df['opening_revenue'].values,'int')\n",
      "# bomj_df['num_theaters_opening'] = formatting_verification(bomj_df['num_theaters_opening'].values,'int')\n",
      "# bomj_df['date_open'] = pd.to_datetime(bomj_df['date_open'])\n",
      "# bomj_df['date_close'] = pd.to_datetime(bomj_df['date_close'])\n",
      "#bomj_df[['num_theaters_total']] = bomj_df[['num_theaters_total']].astype(int)\n",
      "#bomj_df['num_theaters_total'] = formatting_verification(bomj_df['num_theaters_total'].values,'int')"
     ],
     "language": "python",
     "metadata": {},
     "outputs": [],
     "prompt_number": 163
    },
    {
     "cell_type": "markdown",
     "metadata": {},
     "source": [
      "<h2>Verifying Movie Selection</h2>"
     ]
    },
    {
     "cell_type": "code",
     "collapsed": false,
     "input": [
      "imdb_as_index = bomj_df.set_index('imdbid')\n",
      "imdb_as_index.head()\n",
      "data_by_year = imdb_as_index.groupby('year').groups\n",
      "performance = {}\n",
      "total_nominees_present = 0\n",
      "total_nominees_absent = 0\n",
      "total_winners_present = 0\n",
      "total_winners_absent = 0\n",
      "for (yr,yr_list) in oscars.iteritems():\n",
      "    yr = int(yr)\n",
      "    if yr>2003:\n",
      "        yr=yr-1\n",
      "        movieids=data_by_year[yr]\n",
      "        nominee_ids=[]\n",
      "        winner_ids=[]\n",
      "        \n",
      "        nominees_present = 0\n",
      "        nominees_absent = 0\n",
      "        winners_present = 0\n",
      "        winners_absent = 0\n",
      "        \n",
      "        for (award,award_list) in yr_list.iteritems():\n",
      "            winner_ids.append(award_list['winner'][1])\n",
      "            for nominee in award_list['nominees']:\n",
      "                nominee_ids.append(nominee[1])\n",
      "        for nid in nominee_ids:\n",
      "            is_movie_saved = False\n",
      "            for top200id in movieids:\n",
      "                try:\n",
      "                    corrected_id=str(int(top200id)).zfill(7)\n",
      "                    if corrected_id==nid:\n",
      "                        is_movie_saved = True\n",
      "                except:\n",
      "                    pass\n",
      "            if is_movie_saved:\n",
      "                nominees_present += 1\n",
      "            else:\n",
      "                nominees_absent += 1\n",
      "        for wid in winner_ids:\n",
      "            is_movie_saved = False\n",
      "            for top200id in movieids:\n",
      "                try:\n",
      "                    corrected_id=str(int(top200id)).zfill(7)\n",
      "                    if corrected_id==wid:\n",
      "                        is_movie_saved = True\n",
      "                except:\n",
      "                    pass\n",
      "            if is_movie_saved:\n",
      "                winners_present += 1\n",
      "            else:\n",
      "                winners_absent += 1    \n",
      "        total_nominees_present += nominees_present\n",
      "        total_nominees_absent += nominees_absent\n",
      "        total_winners_present += winners_present\n",
      "        total_winners_absent += winners_absent\n",
      "        performance[yr]=[winners_present,winners_absent,nominees_present,nominees_absent]\n",
      "        #print str(yr) + ' nominee performance: ' + str(float(nominees_present)/(nominees_present+nominees_absent))\n",
      "        #print str(yr) + ' winner performance: ' + str(float(winners_present)/(winners_present+winners_absent))\n",
      "        #print\n",
      "\n",
      "print 'total nominee performance: ' + str(float(total_nominees_present)/(total_nominees_present+total_nominees_absent))\n",
      "print 'total winner performance: ' + str(float(total_winners_present)/(total_winners_present+total_winners_absent))"
     ],
     "language": "python",
     "metadata": {},
     "outputs": [
      {
       "output_type": "stream",
       "stream": "stdout",
       "text": [
        "total nominee performance: 0.769230769231\n",
        "total winner performance: 0.7875\n"
       ]
      }
     ],
     "prompt_number": 20
    },
    {
     "cell_type": "markdown",
     "metadata": {},
     "source": [
      "<h1>Getting the Reviews</h1>\n",
      "\n",
      "We need to constuct dataframes of reviews of movies from different review sources.  We will be using the following sources:\n",
      "<ul>\n",
      "<li>Rotten Tomatoes</li>\n",
      "<li>Metacritic</li>\n",
      "<li>IMDB</li>\n",
      "</ul>\n",
      "\n",
      "For each of these, we will construct a separate dataframe with the following structure:\n",
      "<table>\n",
      "    <thead>\n",
      "        <tr>\n",
      "            <th>Critic</th>\n",
      "            <th>Normalized Score</th>\n",
      "            <th>Quote</th>\n",
      "            <th>ID</th>\n",
      "            <th>Title</th>\n",
      "            <th>Source</th>\n",
      "            <th>Overall Score</th>\n",
      "            <th>Year</th>\n",
      "        </tr>\n",
      "    <thead>\n",
      "    <tbody>\n",
      "        <tr>\n",
      "            <td>Name of the Critic</td>\n",
      "            <td>Score normalized to what the max is for this source</td>\n",
      "            <td>The string of the review</td>\n",
      "            <td>Movie ID for this site</td>\n",
      "            <td>Title of the movie</td>\n",
      "            <td>Source of the review</td>\n",
      "            <td>The overall score for this movie on this site (if there is one)</td>\n",
      "            <td>Year that the movie is form</td>\n",
      "        </tr>\n",
      "    </tbody>\n",
      "</table>"
     ]
    },
    {
     "cell_type": "code",
     "collapsed": false,
     "input": [
      "print \"For Example:\"\n",
      "pd.DataFrame({\"critic\":[''],\"norm_score\":[''],\"quote\":[''],\"id\":[''],\"title\":[''],\"source\":[''],\"overall_score\":[''],\"year\":[''],\"date\":['']}).head()"
     ],
     "language": "python",
     "metadata": {},
     "outputs": [
      {
       "output_type": "stream",
       "stream": "stdout",
       "text": [
        "For Example:\n"
       ]
      },
      {
       "html": [
        "<div style=\"max-height:1000px;max-width:1500px;overflow:auto;\">\n",
        "<table border=\"1\" class=\"dataframe\">\n",
        "  <thead>\n",
        "    <tr style=\"text-align: right;\">\n",
        "      <th></th>\n",
        "      <th>critic</th>\n",
        "      <th>date</th>\n",
        "      <th>id</th>\n",
        "      <th>norm_score</th>\n",
        "      <th>overall_score</th>\n",
        "      <th>quote</th>\n",
        "      <th>source</th>\n",
        "      <th>title</th>\n",
        "      <th>year</th>\n",
        "    </tr>\n",
        "  </thead>\n",
        "  <tbody>\n",
        "    <tr>\n",
        "      <th>0</th>\n",
        "      <td> </td>\n",
        "      <td> </td>\n",
        "      <td> </td>\n",
        "      <td> </td>\n",
        "      <td> </td>\n",
        "      <td> </td>\n",
        "      <td> </td>\n",
        "      <td> </td>\n",
        "      <td> </td>\n",
        "    </tr>\n",
        "  </tbody>\n",
        "</table>\n",
        "</div>"
       ],
       "metadata": {},
       "output_type": "pyout",
       "prompt_number": 10,
       "text": [
        "  critic date id norm_score overall_score quote source title year\n",
        "0                                                                "
       ]
      }
     ],
     "prompt_number": 10
    },
    {
     "cell_type": "markdown",
     "metadata": {},
     "source": [
      "<h2>Rotten Tomatoes</h2>"
     ]
    },
    {
     "cell_type": "code",
     "collapsed": true,
     "input": [
      "# write the functions to scrape the data\n",
      "\n",
      "'''\n",
      "Get Individual Review From Rotten Tomatoes\n",
      "\n",
      "'''\n",
      "\n",
      "def get_rtomatoes_movie_reviews(imdb):\n",
      "\t#api_key = 't97y5fkhfbfu9wjhse7v8ayy' \n",
      "\t#api_key = '8kr5nqyrshjyp4y69w8rzzgu'\n",
      "\tapi_key = 'sdat77wpkdnuyvb9bqhz2y5v'\n",
      "\tif(len(imdb)<7):\n",
      "\t\textra = 7 - len(imdb)\n",
      "\t\tprefix = \"\"\n",
      "\t\tfor i in range(0, extra):\n",
      "\t\t\tprefix = prefix + '0'\n",
      "\t\t\timdb = prefix + imdb\n",
      "\n",
      "\turl = 'http://api.rottentomatoes.com/api/public/v1.0/movie_alias.json' \n",
      "\toptions = {'type': 'imdb','id': imdb, 'apikey': api_key}\n",
      "\trotIds = requests.get(url, params=options).text\n",
      "\trotIds = json.loads(rotIds)\n",
      "\n",
      "\tif('\"error\":\"Could not find a movie with the specified id\"' in rotIds):\n",
      "\t\treturn None\n",
      "\tif('id' not in rotIds):\n",
      "\t\treturn None\n",
      "\n",
      "\ttitle = rotIds['title']\n",
      "\tyear = rotIds['year']\n",
      "\toverall_score = rotIds['ratings']['critics_score']\n",
      "\trotId = rotIds['id']\n",
      "\t\n",
      "\turl2 = 'http://api.rottentomatoes.com/api/public/v1.0/movies/%s/reviews.json' % rotId\n",
      "\toptions2 = {'review_type': 'top_critic', 'page_limit': 50, 'page': 1, 'apikey': api_key}\n",
      "\tdata = requests.get(url2, params=options2).text\n",
      "\tdata = json.loads(data)  # load a json string into a collection of lists and dicts\n",
      "\tif('total' not in data or 'reviews' not in data):\n",
      "\t\treturn None\n",
      "\tif str(data['total']) == '0':\n",
      "\t\treturn None\n",
      "\n",
      "\tids = []\n",
      "\ttitles = []\n",
      "\tyears = []\n",
      "\toverall_scores = []\n",
      "\t\n",
      "\trevs = data['reviews'] \n",
      "\tcritics = []\n",
      "\tquotes = []\n",
      "\tpubs = []\n",
      "\tfreshness = []\n",
      "\tdates = []\n",
      "\n",
      "\tfor each in revs:\n",
      "\t\tids.append(imdb)\n",
      "\t\ttitles.append(title)\n",
      "\t\tyears.append(year)\n",
      "\t\toverall_scores.append(float(overall_score)/100.0)\n",
      "\n",
      "\t\tcritics.append(each['critic'])\n",
      "\t\tquotes.append(each['quote'])\n",
      "\t\tpubs.append(each['publication'])\n",
      "\t\tif(each['freshness'] == 'fresh'):\n",
      "\t\t\tfreshness.append(1)\n",
      "\t\telse:\n",
      "\t\t\tfreshness.append(0)\n",
      "\t\tdates.append(each['date']) \n",
      "\t\n",
      "\td = {'critic' : critics, 'norm_score' : freshness, 'quote' : quotes, 'id' : ids, 'title' : titles, 'source' : pubs, 'overall_score' : overall_scores, 'date' : dates, 'year': years} \n",
      "\treturn pd.DataFrame(d)\n",
      "\n",
      "def get_all_rtomatoes_movies(movieList):\n",
      "\tall_imdbs = alldata['imdbid']\n",
      "\timdbs = []\n",
      "\tfor each in all_imdbs:\n",
      "\t\tif str(each) != 'None':\n",
      "\t\t\timdbs.append(each)\n",
      "\t#print imdbs\n",
      "\t#for each in imdbs:\n",
      "\n",
      "\tnewDF = pd.DataFrame()\n",
      "\tfor each in imdbs:\n",
      "\t\tindividualDF = get_rtomatoes_movie_reviews(each)\n",
      "\t\tif(individualDF):\n",
      "\t\t\tnewDF = newDF.append(individualDF, ignore_index=True)\n",
      "\n",
      "\n",
      "\tfilename='./data/rotten_tomatoes_data.csv'\n",
      "\tnewDF.to_csv(filename, index=False)\n",
      "\treturn newDF"
     ],
     "language": "python",
     "metadata": {},
     "outputs": [],
     "prompt_number": 3
    },
    {
     "cell_type": "code",
     "collapsed": false,
     "input": [
      "# actually call the functions and save in a file\n",
      "\n",
      "#alldata = pd.read_csv('./revised_id_data.csv')     \n",
      "#rot_tom_data = get_all_rtomatoes_movies(alldata)\n",
      "\n",
      "#once we have the stored csv file not necessary to make the above calls, and can just do:\n",
      "rotten_df = pd.read_csv('data/rotten_tomatoes_data.csv')\n",
      "\n",
      "def filter_tomatoes(dataF):\n",
      "    for ind, each in enumerate(dataF['quote']):\n",
      "        if(str(each) == 'nan'):\n",
      "            dataF['quote'][ind] = 'NoReview'\n",
      "    dataF = dataF[dataF.quote != 'NoReview']\n",
      "    return dataF\n",
      "\n",
      "rotten_df = filter_tomatoes(rotten_df)\n",
      "rotten_df.head()\n"
     ],
     "language": "python",
     "metadata": {},
     "outputs": [
      {
       "html": [
        "<div style=\"max-height:1000px;max-width:1500px;overflow:auto;\">\n",
        "<table border=\"1\" class=\"dataframe\">\n",
        "  <thead>\n",
        "    <tr style=\"text-align: right;\">\n",
        "      <th></th>\n",
        "      <th>critic</th>\n",
        "      <th>date</th>\n",
        "      <th>id</th>\n",
        "      <th>norm_score</th>\n",
        "      <th>overall_score</th>\n",
        "      <th>quote</th>\n",
        "      <th>source</th>\n",
        "      <th>title</th>\n",
        "      <th>year</th>\n",
        "    </tr>\n",
        "  </thead>\n",
        "  <tbody>\n",
        "    <tr>\n",
        "      <th>0</th>\n",
        "      <td>   David Germain</td>\n",
        "      <td> 11/19/13</td>\n",
        "      <td> 167260</td>\n",
        "      <td> 1</td>\n",
        "      <td> 0.94</td>\n",
        "      <td> With The Lord of the Rings: The Return of the ...</td>\n",
        "      <td>    Associated Press</td>\n",
        "      <td> The Lord of the Rings: The Return of the King</td>\n",
        "      <td> 2003</td>\n",
        "    </tr>\n",
        "    <tr>\n",
        "      <th>1</th>\n",
        "      <td> Joe Morgenstern</td>\n",
        "      <td> 11/19/13</td>\n",
        "      <td> 167260</td>\n",
        "      <td> 1</td>\n",
        "      <td> 0.94</td>\n",
        "      <td> Yes, the running time is long, and yes, those ...</td>\n",
        "      <td> Wall Street Journal</td>\n",
        "      <td> The Lord of the Rings: The Return of the King</td>\n",
        "      <td> 2003</td>\n",
        "    </tr>\n",
        "    <tr>\n",
        "      <th>2</th>\n",
        "      <td> Andrea Gronvall</td>\n",
        "      <td>   2/6/07</td>\n",
        "      <td> 167260</td>\n",
        "      <td> 1</td>\n",
        "      <td> 0.94</td>\n",
        "      <td> Standing out amid an excellent cast is Elijah ...</td>\n",
        "      <td>      Chicago Reader</td>\n",
        "      <td> The Lord of the Rings: The Return of the King</td>\n",
        "      <td> 2003</td>\n",
        "    </tr>\n",
        "    <tr>\n",
        "      <th>3</th>\n",
        "      <td>    Geoff Andrew</td>\n",
        "      <td>   2/9/06</td>\n",
        "      <td> 167260</td>\n",
        "      <td> 0</td>\n",
        "      <td> 0.94</td>\n",
        "      <td> Some story strands are crudely abbreviated; ot...</td>\n",
        "      <td>            Time Out</td>\n",
        "      <td> The Lord of the Rings: The Return of the King</td>\n",
        "      <td> 2003</td>\n",
        "    </tr>\n",
        "    <tr>\n",
        "      <th>4</th>\n",
        "      <td>   Peter Travers</td>\n",
        "      <td>  1/15/04</td>\n",
        "      <td> 167260</td>\n",
        "      <td> 1</td>\n",
        "      <td> 0.94</td>\n",
        "      <td> Pops your eyes, excites your senses and brings...</td>\n",
        "      <td>       Rolling Stone</td>\n",
        "      <td> The Lord of the Rings: The Return of the King</td>\n",
        "      <td> 2003</td>\n",
        "    </tr>\n",
        "  </tbody>\n",
        "</table>\n",
        "</div>"
       ],
       "metadata": {},
       "output_type": "pyout",
       "prompt_number": 71,
       "text": [
        "            critic      date      id  norm_score  overall_score                                              quote               source                                          title  year\n",
        "0    David Germain  11/19/13  167260           1           0.94  With The Lord of the Rings: The Return of the ...     Associated Press  The Lord of the Rings: The Return of the King  2003\n",
        "1  Joe Morgenstern  11/19/13  167260           1           0.94  Yes, the running time is long, and yes, those ...  Wall Street Journal  The Lord of the Rings: The Return of the King  2003\n",
        "2  Andrea Gronvall    2/6/07  167260           1           0.94  Standing out amid an excellent cast is Elijah ...       Chicago Reader  The Lord of the Rings: The Return of the King  2003\n",
        "3     Geoff Andrew    2/9/06  167260           0           0.94  Some story strands are crudely abbreviated; ot...             Time Out  The Lord of the Rings: The Return of the King  2003\n",
        "4    Peter Travers   1/15/04  167260           1           0.94  Pops your eyes, excites your senses and brings...        Rolling Stone  The Lord of the Rings: The Return of the King  2003"
       ]
      }
     ],
     "prompt_number": 71
    },
    {
     "cell_type": "markdown",
     "metadata": {},
     "source": [
      "<h2>Metacritic</h2>"
     ]
    },
    {
     "cell_type": "code",
     "collapsed": false,
     "input": [
      "# write the functions to scrape the data"
     ],
     "language": "python",
     "metadata": {},
     "outputs": [],
     "prompt_number": 13
    },
    {
     "cell_type": "code",
     "collapsed": false,
     "input": [
      "# actually call the functions and save in a file"
     ],
     "language": "python",
     "metadata": {},
     "outputs": [],
     "prompt_number": 14
    },
    {
     "cell_type": "markdown",
     "metadata": {},
     "source": [
      "<h2>IMDB</h2>"
     ]
    },
    {
     "cell_type": "code",
     "collapsed": false,
     "input": [
      "\"\"\"\n",
      "Function\n",
      "--------\n",
      "get_imdb_movie_reviews:\n",
      "    retrieves the movie reviews for a given movie on imdb\n",
      "Parameters\n",
      "----------\n",
      "id:\n",
      "    imdb movie ID\n",
      "title:\n",
      "    title of the movie (why scrape it when we already have it?)\n",
      "year:\n",
      "    year that the movie was made\n",
      "Returns\n",
      "-------\n",
      "returns a dataframe containing all of the movie revies of the form\n",
      "listed above\n",
      "\"\"\"\n",
      "def get_imdb_movie_reviews(id,title,year):\n",
      "    score_max = 10.0\n",
      "    link = \"http://www.imdb.com/title/tt%0.7d/\" % id\n",
      "    url = web.URL(link)\n",
      "    dom = web.DOM(url.download(cached=True))\n",
      "    overall = float(dom.by_class(\"titlePageSprite star-box-giga-star\")[0].content.strip()) / score_max\n",
      "    # try to get year directly from page; this isn't present in every entry\n",
      "    try:\n",
      "        year = dom('span.itemprop[itemprop=name]')[0].next.next.by_tag('a')[0].content\n",
      "        year = int(year)\n",
      "    except:\n",
      "        pass\n",
      "    rc = dom.by_attr(itemprop=\"reviewCount\")[0].content.split(\" \")[0].replace(\",\",\"\")\n",
      "    revlink = link + 'reviews?count=%s&start=0' % rc # get at most 20 reviews\n",
      "    url = web.URL(revlink)\n",
      "    dom = web.DOM(url.download(cached=True))\n",
      "    parser = HTMLParser()\n",
      "    lst = []\n",
      "    hrs = dom.by_id('tn15main').by_tag('hr')\n",
      "    for hr in hrs:\n",
      "        div = hr.next.next\n",
      "        try:\n",
      "            score = float(div.by_tag(\"img\")[1].attrs[\"alt\"].split(\"/\")[0]) / score_max\n",
      "            date = div.by_tag(\"small\")[2].content\n",
      "        except:\n",
      "            continue\n",
      "        user = div.by_tag(\"a\")[1].content\n",
      "        p = div.next.next\n",
      "        review = parser.unescape(p.content.replace(\"<br />\",\"\\n\"))\n",
      "        lst.append(dict(critic=user,norm_score=score,quote=review,\n",
      "                        id=id,title=title,source=\"IMDB\",overall_score=overall,year=year,date=date))\n",
      "    return lst\n",
      "\n",
      "def get_all_imdb_movies():\n",
      "    fname = 'revised_id_data.csv'\n",
      "    df = []\n",
      "    result = pd.read_csv('data/%s' % fname)\n",
      "    f = open('errors.txt','w+')\n",
      "    year = 2003\n",
      "    for index,row in result.iterrows():\n",
      "        try: \n",
      "            row['imdbid'] = int(row['imdbid'])\n",
      "        except:\n",
      "            continue\n",
      "        newyr = row['year']\n",
      "        if(int(newyr) != year and df != []):\n",
      "            # filter_quotes(df)\n",
      "            fo = open('imdbrev%d.json' % year,'w+')\n",
      "            json.dump(df,fo)\n",
      "            fo.close()\n",
      "            year = int(newyr)\n",
      "            df = []\n",
      "            gc.collect()\n",
      "        try:\n",
      "            df.append(get_imdb_movie_reviews(row['imdbid'],row['movie_title'],row['year']))\n",
      "            print row['movie_title'], year\n",
      "        except:\n",
      "            print >> f, \"ERROR: %s\" % row['movie_title']\n",
      "    f.close()\n",
      "    if df:\n",
      "        fo = open('imdbrev%d.json' % year,'w+')\n",
      "        json.dump(df,fo)\n",
      "        fo.close()"
     ],
     "language": "python",
     "metadata": {},
     "outputs": [],
     "prompt_number": 15
    },
    {
     "cell_type": "code",
     "collapsed": false,
     "input": [
      "# create the json files for all of the imdb reviews\n",
      "# get_all_imdb_movies()"
     ],
     "language": "python",
     "metadata": {},
     "outputs": [],
     "prompt_number": 16
    },
    {
     "cell_type": "markdown",
     "metadata": {},
     "source": [
      "Although we had all the data for imdb now, we still had to clean it.  It turns out there was were a log of unicode characters in the quotes that exporting to csv doesn't really play nice with.  In order to overcome this, we had to clean the data removing all escaped sequences including '\\r','\\n','\\t', and all unicode characters."
     ]
    },
    {
     "cell_type": "code",
     "collapsed": false,
     "input": [
      "def filter_quotes(df):\n",
      "    for index,row in df.iterrows():\n",
      "        text = row['quote']\n",
      "        text = re.sub(r\"\\\\u[0-9a-zAZ]{4}\", \"\", text)\n",
      "        text = re.sub(\"\\\\\\[^\\'|\\\"]\", \"\", text)\n",
      "        text = text.replace('\\n','')\n",
      "        text = unicodedata.normalize('NFKC',unicode(text)).encode('ascii','ignore')\n",
      "        df.ix[index, 'quote'] = text"
     ],
     "language": "python",
     "metadata": {},
     "outputs": [],
     "prompt_number": 17
    },
    {
     "cell_type": "code",
     "collapsed": false,
     "input": [
      "\"\"\"\n",
      "Here we construct the dataframe for all of the imdb reviews.\n",
      "We then filter it, and save it to a csv.\n",
      "\"\"\"\n",
      "\"\"\"\n",
      "imdb_f_list = ['imdbrev2003.json', 'imdbrev2004.json', 'imdbrev2005.json', \n",
      "               'imdbrev2006.json', 'imdbrev2007.json', 'imdbrev2008.json', \n",
      "               'imdbrev2009.json', 'imdbrev2010.json', 'imdbrev2011.json', 'imdbrev2012.json'] \n",
      "\n",
      "\n",
      "imdb_df = pd.DataFrame({\"critic\":[],\"norm_score\":[],\"quote\":[],\"id\":[],\n",
      "               \"title\":[],\"source\":[],\"overall_score\":[],\"year\":[],\"date\":[]})\n",
      "\n",
      "for f in imdb_f_list:\n",
      "    fp = open('data/' + f,'rb')\n",
      "    j = json.load(fp)\n",
      "    fp.close()\n",
      "    for m in j:\n",
      "        if m != []:\n",
      "            imdb_df = imdb_df.append(m)\n",
      "        gc.collect()\n",
      "        \n",
      "filter_quotes(imdb_df)\n",
      "imdb_df.to_csv('data/imdb_reviews.csv',index=False)\n",
      "\"\"\"\n",
      "pass"
     ],
     "language": "python",
     "metadata": {},
     "outputs": [],
     "prompt_number": 18
    },
    {
     "cell_type": "code",
     "collapsed": false,
     "input": [
      "# read saved dataframe\n",
      "imdb_df = pd.read_csv('data/imdb_reviews.csv')\n",
      "imdb_df.head()"
     ],
     "language": "python",
     "metadata": {},
     "outputs": [
      {
       "ename": "KeyboardInterrupt",
       "evalue": "",
       "output_type": "pyerr",
       "traceback": [
        "\u001b[0;31m---------------------------------------------------------------------------\u001b[0m\n\u001b[0;31mKeyboardInterrupt\u001b[0m                         Traceback (most recent call last)",
        "\u001b[0;32m<ipython-input-19-94e786fdfc63>\u001b[0m in \u001b[0;36m<module>\u001b[0;34m()\u001b[0m\n\u001b[1;32m      1\u001b[0m \u001b[0;31m# read saved dataframe\u001b[0m\u001b[0;34m\u001b[0m\u001b[0;34m\u001b[0m\u001b[0m\n\u001b[0;32m----> 2\u001b[0;31m \u001b[0mimdb_df\u001b[0m \u001b[0;34m=\u001b[0m \u001b[0mpd\u001b[0m\u001b[0;34m.\u001b[0m\u001b[0mread_csv\u001b[0m\u001b[0;34m(\u001b[0m\u001b[0;34m'data/imdb_reviews.csv'\u001b[0m\u001b[0;34m)\u001b[0m\u001b[0;34m\u001b[0m\u001b[0m\n\u001b[0m\u001b[1;32m      3\u001b[0m \u001b[0mimdb_df\u001b[0m\u001b[0;34m.\u001b[0m\u001b[0mhead\u001b[0m\u001b[0;34m(\u001b[0m\u001b[0;34m)\u001b[0m\u001b[0;34m\u001b[0m\u001b[0m\n",
        "\u001b[0;32m//anaconda/python.app/Contents/lib/python2.7/site-packages/pandas/io/parsers.pyc\u001b[0m in \u001b[0;36mparser_f\u001b[0;34m(filepath_or_buffer, sep, dialect, compression, doublequote, escapechar, quotechar, quoting, skipinitialspace, lineterminator, header, index_col, names, prefix, skiprows, skipfooter, skip_footer, na_values, na_fvalues, true_values, false_values, delimiter, converters, dtype, usecols, engine, delim_whitespace, as_recarray, na_filter, compact_ints, use_unsigned, low_memory, buffer_lines, warn_bad_lines, error_bad_lines, keep_default_na, thousands, comment, decimal, parse_dates, keep_date_col, dayfirst, date_parser, memory_map, nrows, iterator, chunksize, verbose, encoding, squeeze, mangle_dupe_cols, tupleize_cols)\u001b[0m\n\u001b[1;32m    398\u001b[0m             )\n\u001b[1;32m    399\u001b[0m \u001b[0;34m\u001b[0m\u001b[0m\n\u001b[0;32m--> 400\u001b[0;31m         \u001b[0;32mreturn\u001b[0m \u001b[0m_read\u001b[0m\u001b[0;34m(\u001b[0m\u001b[0mfilepath_or_buffer\u001b[0m\u001b[0;34m,\u001b[0m \u001b[0mkwds\u001b[0m\u001b[0;34m)\u001b[0m\u001b[0;34m\u001b[0m\u001b[0m\n\u001b[0m\u001b[1;32m    401\u001b[0m \u001b[0;34m\u001b[0m\u001b[0m\n\u001b[1;32m    402\u001b[0m     \u001b[0mparser_f\u001b[0m\u001b[0;34m.\u001b[0m\u001b[0m__name__\u001b[0m \u001b[0;34m=\u001b[0m \u001b[0mname\u001b[0m\u001b[0;34m\u001b[0m\u001b[0m\n",
        "\u001b[0;32m//anaconda/python.app/Contents/lib/python2.7/site-packages/pandas/io/parsers.pyc\u001b[0m in \u001b[0;36m_read\u001b[0;34m(filepath_or_buffer, kwds)\u001b[0m\n\u001b[1;32m    203\u001b[0m         \u001b[0;32mreturn\u001b[0m \u001b[0mparser\u001b[0m\u001b[0;34m\u001b[0m\u001b[0m\n\u001b[1;32m    204\u001b[0m \u001b[0;34m\u001b[0m\u001b[0m\n\u001b[0;32m--> 205\u001b[0;31m     \u001b[0;32mreturn\u001b[0m \u001b[0mparser\u001b[0m\u001b[0;34m.\u001b[0m\u001b[0mread\u001b[0m\u001b[0;34m(\u001b[0m\u001b[0;34m)\u001b[0m\u001b[0;34m\u001b[0m\u001b[0m\n\u001b[0m\u001b[1;32m    206\u001b[0m \u001b[0;34m\u001b[0m\u001b[0m\n\u001b[1;32m    207\u001b[0m _parser_defaults = {\n",
        "\u001b[0;32m//anaconda/python.app/Contents/lib/python2.7/site-packages/pandas/io/parsers.pyc\u001b[0m in \u001b[0;36mread\u001b[0;34m(self, nrows)\u001b[0m\n\u001b[1;32m    606\u001b[0m             \u001b[0;31m#     self._engine.set_error_bad_lines(False)\u001b[0m\u001b[0;34m\u001b[0m\u001b[0;34m\u001b[0m\u001b[0m\n\u001b[1;32m    607\u001b[0m \u001b[0;34m\u001b[0m\u001b[0m\n\u001b[0;32m--> 608\u001b[0;31m         \u001b[0mret\u001b[0m \u001b[0;34m=\u001b[0m \u001b[0mself\u001b[0m\u001b[0;34m.\u001b[0m\u001b[0m_engine\u001b[0m\u001b[0;34m.\u001b[0m\u001b[0mread\u001b[0m\u001b[0;34m(\u001b[0m\u001b[0mnrows\u001b[0m\u001b[0;34m)\u001b[0m\u001b[0;34m\u001b[0m\u001b[0m\n\u001b[0m\u001b[1;32m    609\u001b[0m \u001b[0;34m\u001b[0m\u001b[0m\n\u001b[1;32m    610\u001b[0m         \u001b[0;32mif\u001b[0m \u001b[0mself\u001b[0m\u001b[0;34m.\u001b[0m\u001b[0moptions\u001b[0m\u001b[0;34m.\u001b[0m\u001b[0mget\u001b[0m\u001b[0;34m(\u001b[0m\u001b[0;34m'as_recarray'\u001b[0m\u001b[0;34m)\u001b[0m\u001b[0;34m:\u001b[0m\u001b[0;34m\u001b[0m\u001b[0m\n",
        "\u001b[0;32m//anaconda/python.app/Contents/lib/python2.7/site-packages/pandas/io/parsers.pyc\u001b[0m in \u001b[0;36mread\u001b[0;34m(self, nrows)\u001b[0m\n\u001b[1;32m   1026\u001b[0m \u001b[0;34m\u001b[0m\u001b[0m\n\u001b[1;32m   1027\u001b[0m         \u001b[0;32mtry\u001b[0m\u001b[0;34m:\u001b[0m\u001b[0;34m\u001b[0m\u001b[0m\n\u001b[0;32m-> 1028\u001b[0;31m             \u001b[0mdata\u001b[0m \u001b[0;34m=\u001b[0m \u001b[0mself\u001b[0m\u001b[0;34m.\u001b[0m\u001b[0m_reader\u001b[0m\u001b[0;34m.\u001b[0m\u001b[0mread\u001b[0m\u001b[0;34m(\u001b[0m\u001b[0mnrows\u001b[0m\u001b[0;34m)\u001b[0m\u001b[0;34m\u001b[0m\u001b[0m\n\u001b[0m\u001b[1;32m   1029\u001b[0m         \u001b[0;32mexcept\u001b[0m \u001b[0mStopIteration\u001b[0m\u001b[0;34m:\u001b[0m\u001b[0;34m\u001b[0m\u001b[0m\n\u001b[1;32m   1030\u001b[0m             \u001b[0;32mif\u001b[0m \u001b[0mnrows\u001b[0m \u001b[0;32mis\u001b[0m \u001b[0mNone\u001b[0m\u001b[0;34m:\u001b[0m\u001b[0;34m\u001b[0m\u001b[0m\n",
        "\u001b[0;31mKeyboardInterrupt\u001b[0m: "
       ]
      }
     ],
     "prompt_number": 19
    },
    {
     "cell_type": "markdown",
     "metadata": {},
     "source": [
      "<h1>Exploring the Data</h1>\n",
      "\n",
      "Here we visualize the reviews from the different sources to get a sense of the number of review, distribution of ratings, ..."
     ]
    },
    {
     "cell_type": "code",
     "collapsed": false,
     "input": [
      "# now it's time to add the data\n",
      "\"\"\"\n",
      "Function\n",
      "--------\n",
      "add_oscar_data:\n",
      "    Adds data for being an oscar winner or nominee in place in the passed dataframe\n",
      "\n",
      "Parameters\n",
      "----------\n",
      "    df: Dataframe\n",
      "    award_name: Name of the oscar award\n",
      "        If None, then creates general columns for winning any or being nominated in any\n",
      "\"\"\"\n",
      "\n",
      "movie_awards = [u'Best Documentary, Features',u'Best Writing, Screenplay Written Directly for the Screen',\n",
      "                u'Best Foreign Language Film',u'Best Short Film, Live Action',u'Best Music, Original Song',\n",
      "                u'Best Music, Original Score',u'Best Art Direction-Set Decoration',u'Best Costume Design',\n",
      "                u'Best Short Film, Animated',u'Best Makeup',u'Best Film Editing',u'Best Animated Feature',\n",
      "                u'Best Writing, Screenplay Based on Material from Another Medium',u'Best Sound Editing',\n",
      "                u'Best Cinematography',u'Best Documentary, Short Subjects',u'Best Sound',u'Best Director',\n",
      "                u'Best Picture',u'Best Visual Effects']\n",
      "\n",
      "def add_oscar_data(df,imdbid_title='id',award_name=None):\n",
      "    awards = movie_awards\n",
      "    if award_name:\n",
      "        awards = [award_name]\n",
      "        win = award_name.replace(' ','_') + '_winner'\n",
      "        nom = award_name.replace(' ','_') + '_nom'\n",
      "    else:\n",
      "        win = 'oscar_winner'\n",
      "        nom = 'oscar_nom'\n",
      "    df[win] = 0\n",
      "    df[nom] = 0\n",
      "    for year in oscars:\n",
      "        for award in movie_awards:\n",
      "            try:\n",
      "                df[win][df[imdbid_title] == oscars[year][award]['winner'][1]] = 1\n",
      "                df[nom][df[imdbid_title] == oscars[year][award]['winner'][1]] = 1\n",
      "                for n in oscars[year][award]['nominees']:\n",
      "                    df[nom][df[imdbid_title] == n[1]] = 1\n",
      "            # skip awards that don't exist for a year\n",
      "            except:\n",
      "                pass"
     ],
     "language": "python",
     "metadata": {},
     "outputs": [],
     "prompt_number": 126
    },
    {
     "cell_type": "markdown",
     "metadata": {},
     "source": [
      "<h2>Box Office Mojo Data</h2>"
     ]
    },
    {
     "cell_type": "code",
     "collapsed": false,
     "input": [
      "add_oscar_data(bomj_df,'imdbid')\n",
      "bomj_df.head()"
     ],
     "language": "python",
     "metadata": {},
     "outputs": [
      {
       "html": [
        "<div style=\"max-height:1000px;max-width:1500px;overflow:auto;\">\n",
        "<table border=\"1\" class=\"dataframe\">\n",
        "  <thead>\n",
        "    <tr style=\"text-align: right;\">\n",
        "      <th></th>\n",
        "      <th>rank</th>\n",
        "      <th>year</th>\n",
        "      <th>movie_title</th>\n",
        "      <th>imdbid</th>\n",
        "      <th>studio</th>\n",
        "      <th>total_gross</th>\n",
        "      <th>num_theaters_total</th>\n",
        "      <th>opening_revenue</th>\n",
        "      <th>num_theaters_opening</th>\n",
        "      <th>date_open</th>\n",
        "      <th>date_close</th>\n",
        "      <th>oscar_winner</th>\n",
        "      <th>oscar_nom</th>\n",
        "    </tr>\n",
        "  </thead>\n",
        "  <tbody>\n",
        "    <tr>\n",
        "      <th>0</th>\n",
        "      <td> 1</td>\n",
        "      <td> 2003</td>\n",
        "      <td>     The Lord of the Rings: The Return of the King</td>\n",
        "      <td> 0167260</td>\n",
        "      <td>   NL</td>\n",
        "      <td> 377027325</td>\n",
        "      <td> 3703</td>\n",
        "      <td> 72629713</td>\n",
        "      <td> 3703</td>\n",
        "      <td> 17-Dec</td>\n",
        "      <td>  3-Jun</td>\n",
        "      <td> 1</td>\n",
        "      <td> 1</td>\n",
        "    </tr>\n",
        "    <tr>\n",
        "      <th>1</th>\n",
        "      <td> 2</td>\n",
        "      <td> 2003</td>\n",
        "      <td>                                      Finding Nemo</td>\n",
        "      <td> 0266543</td>\n",
        "      <td>   BV</td>\n",
        "      <td> 339714978</td>\n",
        "      <td> 3425</td>\n",
        "      <td> 70251710</td>\n",
        "      <td> 3374</td>\n",
        "      <td> 30-May</td>\n",
        "      <td> 18-Dec</td>\n",
        "      <td> 1</td>\n",
        "      <td> 1</td>\n",
        "    </tr>\n",
        "    <tr>\n",
        "      <th>2</th>\n",
        "      <td> 3</td>\n",
        "      <td> 2003</td>\n",
        "      <td> Pirates of the Caribbean: The Curse of the Bla...</td>\n",
        "      <td> 0325980</td>\n",
        "      <td>   BV</td>\n",
        "      <td> 305413918</td>\n",
        "      <td> 3416</td>\n",
        "      <td> 46630690</td>\n",
        "      <td> 3269</td>\n",
        "      <td>  9-Jul</td>\n",
        "      <td>  8-Jan</td>\n",
        "      <td> 0</td>\n",
        "      <td> 1</td>\n",
        "    </tr>\n",
        "    <tr>\n",
        "      <th>3</th>\n",
        "      <td> 4</td>\n",
        "      <td> 2003</td>\n",
        "      <td>                               The Matrix Reloaded</td>\n",
        "      <td> 0234215</td>\n",
        "      <td>   WB</td>\n",
        "      <td> 281576461</td>\n",
        "      <td> 3603</td>\n",
        "      <td> 91774413</td>\n",
        "      <td> 3603</td>\n",
        "      <td> 15-May</td>\n",
        "      <td> 13-Nov</td>\n",
        "      <td> 0</td>\n",
        "      <td> 0</td>\n",
        "    </tr>\n",
        "    <tr>\n",
        "      <th>4</th>\n",
        "      <td> 5</td>\n",
        "      <td> 2003</td>\n",
        "      <td>                                    Bruce Almighty</td>\n",
        "      <td> 0315327</td>\n",
        "      <td> Uni.</td>\n",
        "      <td> 242829261</td>\n",
        "      <td> 3549</td>\n",
        "      <td> 67953330</td>\n",
        "      <td> 3483</td>\n",
        "      <td> 23-May</td>\n",
        "      <td> 11-Dec</td>\n",
        "      <td> 0</td>\n",
        "      <td> 0</td>\n",
        "    </tr>\n",
        "  </tbody>\n",
        "</table>\n",
        "</div>"
       ],
       "metadata": {},
       "output_type": "pyout",
       "prompt_number": 169,
       "text": [
        "   rank  year                                        movie_title   imdbid studio  total_gross num_theaters_total opening_revenue num_theaters_opening date_open date_close  oscar_winner  oscar_nom\n",
        "0     1  2003      The Lord of the Rings: The Return of the King  0167260     NL    377027325               3703        72629713                 3703    17-Dec      3-Jun             1          1\n",
        "1     2  2003                                       Finding Nemo  0266543     BV    339714978               3425        70251710                 3374    30-May     18-Dec             1          1\n",
        "2     3  2003  Pirates of the Caribbean: The Curse of the Bla...  0325980     BV    305413918               3416        46630690                 3269     9-Jul      8-Jan             0          1\n",
        "3     4  2003                                The Matrix Reloaded  0234215     WB    281576461               3603        91774413                 3603    15-May     13-Nov             0          0\n",
        "4     5  2003                                     Bruce Almighty  0315327   Uni.    242829261               3549        67953330                 3483    23-May     11-Dec             0          0"
       ]
      }
     ],
     "prompt_number": 169
    },
    {
     "cell_type": "markdown",
     "metadata": {},
     "source": [
      "<h3>Movie Studios</h3>"
     ]
    },
    {
     "cell_type": "code",
     "collapsed": false,
     "input": [
      "def plot_str_hist(df,column_name,xlabel='',ylabel='',title='',xticksize=7):\n",
      "    total_movies = float(len(df))\n",
      "    data_pts=[]\n",
      "    counts=[]\n",
      "    data=[]\n",
      "    tickloc=0.5\n",
      "    barloc=0\n",
      "    barlocs=[]\n",
      "    ticklocs=[]\n",
      "    grouped_data=(df.groupby(column_name)).groups\n",
      "    for key,val in grouped_data.items():\n",
      "        data.append((key,len(val)))\n",
      "        ticklocs.append(tickloc)\n",
      "        barlocs.append(barloc)\n",
      "        tickloc+=1\n",
      "        barloc+=1\n",
      "    data.sort(key=lambda x:x[1])\n",
      "    for key,val in data:\n",
      "        data_pts.append(key)\n",
      "        counts.append(val/total_movies)\n",
      "    plt.bar(barlocs, height=counts, width=1,color='r',edgecolor=\"white\")\n",
      "    plt.xticks(rotation=90,size=xticksize)\n",
      "    plt.xticks(ticklocs,data_pts)\n",
      "    plt.xlabel(xlabel)\n",
      "    plt.ylabel(ylabel)\n",
      "    plt.title(title)\n",
      "    histogram_style()\n",
      "    plt.show()\n",
      "\n",
      "plot_str_hist(bomj_df,'studio',xlabel='Studio',ylabel='Frequency',title='Studio v. Count for All Movies')\n",
      "plot_str_hist(bomj_df[bomj_df.oscar_winner == 1],'studio',xlabel='Studio',ylabel='Frequency',title='Studio v. Count for Winners',xticksize=10)\n",
      "plot_str_hist(bomj_df[bomj_df.oscar_nom == 1],'studio',xlabel='Studio',ylabel='Frequency',title='Studio v. Count for Nominees',xticksize=10)"
     ],
     "language": "python",
     "metadata": {},
     "outputs": [
      {
       "metadata": {},
       "output_type": "display_data",
       "png": "[encoded data removed]",
       "text": [
        "<matplotlib.figure.Figure at 0x1070eeb10>"
       ]
      },
      {
       "metadata": {},
       "output_type": "display_data",
       "png": "[encoded data removed]",
       "text": [
        "<matplotlib.figure.Figure at 0x1079a4490>"
       ]
      },
      {
       "metadata": {},
       "output_type": "display_data",
       "png": "[encoded data removed]",
       "text": [
        "<matplotlib.figure.Figure at 0x108931250>"
       ]
      }
     ],
     "prompt_number": 170
    },
    {
     "cell_type": "markdown",
     "metadata": {},
     "source": [
      "<h3>Quantitative BOMJ Data</h3>"
     ]
    },
    {
     "cell_type": "code",
     "collapsed": false,
     "input": [
      "def plot_quant_data(bomj_df,varname,cr):\n",
      "    \n",
      "    data =  (bomj_df)[varname].values\n",
      "    cleaned_data = []\n",
      "    for pt in data:\n",
      "        try:\n",
      "            cleaned_data.append(int(pt))\n",
      "        except:\n",
      "            pass\n",
      "    plt.hist(cleaned_data,20,color=cr,normed=True)\n",
      "    plt.xlabel(varname)\n",
      "    plt.ylabel('Frequency')\n",
      "    plt.title(varname + ' v. count for all movies')\n",
      "    histogram_style()\n",
      "    plt.show()\n",
      "    \n",
      "    win_data = (bomj_df[bomj_df.oscar_winner == 1])[varname].values\n",
      "    cleaned_win_data = []\n",
      "    for pt in win_data:\n",
      "        try:\n",
      "            cleaned_win_data.append(int(pt))\n",
      "        except:\n",
      "            pass   \n",
      "    plt.hist(cleaned_win_data,20,color=cr,normed=True)\n",
      "    plt.xlabel(varname)\n",
      "    plt.ylabel('Frequency')\n",
      "    plt.title(varname + ' v. count for winners')\n",
      "    histogram_style()\n",
      "    plt.show()\n",
      "\n",
      "    nom_data = (bomj_df[bomj_df.oscar_nom == 1])[varname].values\n",
      "    cleaned_nom_data = []\n",
      "    for pt in nom_data:\n",
      "        try:\n",
      "            cleaned_nom_data.append(int(pt))\n",
      "        except:\n",
      "            pass   \n",
      "    plt.hist(cleaned_nom_data,20,color=cr,normed=True)\n",
      "    plt.xlabel(varname)\n",
      "    plt.ylabel('Frequency')\n",
      "    plt.title(varname + ' v. count for nominees')\n",
      "    histogram_style()\n",
      "    plt.show()\n",
      "plot_quant_data(bomj_df,'num_theaters_total','b')\n",
      "plot_quant_data(bomj_df,'opening_revenue','b')\n",
      "plot_quant_data(bomj_df,'num_theaters_opening','b')"
     ],
     "language": "python",
     "metadata": {},
     "outputs": [
      {
       "metadata": {},
       "output_type": "display_data",
       "png": "[encoded data removed]",
       "text": [
        "<matplotlib.figure.Figure at 0x1070cf390>"
       ]
      },
      {
       "ename": "AttributeError",
       "evalue": "'DataFrame' object has no attribute 'oscar_winner'",
       "output_type": "pyerr",
       "traceback": [
        "\u001b[0;31m---------------------------------------------------------------------------\u001b[0m\n\u001b[0;31mAttributeError\u001b[0m                            Traceback (most recent call last)",
        "\u001b[0;32m<ipython-input-168-b3573a821f55>\u001b[0m in \u001b[0;36m<module>\u001b[0;34m()\u001b[0m\n\u001b[1;32m     42\u001b[0m     \u001b[0mhistogram_style\u001b[0m\u001b[0;34m(\u001b[0m\u001b[0;34m)\u001b[0m\u001b[0;34m\u001b[0m\u001b[0m\n\u001b[1;32m     43\u001b[0m     \u001b[0mplt\u001b[0m\u001b[0;34m.\u001b[0m\u001b[0mshow\u001b[0m\u001b[0;34m(\u001b[0m\u001b[0;34m)\u001b[0m\u001b[0;34m\u001b[0m\u001b[0m\n\u001b[0;32m---> 44\u001b[0;31m \u001b[0mplot_quant_data\u001b[0m\u001b[0;34m(\u001b[0m\u001b[0mbomj_df\u001b[0m\u001b[0;34m,\u001b[0m\u001b[0;34m'num_theaters_total'\u001b[0m\u001b[0;34m,\u001b[0m\u001b[0;34m'b'\u001b[0m\u001b[0;34m)\u001b[0m\u001b[0;34m\u001b[0m\u001b[0m\n\u001b[0m\u001b[1;32m     45\u001b[0m \u001b[0mplot_quant_data\u001b[0m\u001b[0;34m(\u001b[0m\u001b[0mbomj_df\u001b[0m\u001b[0;34m,\u001b[0m\u001b[0;34m'opening_revenue'\u001b[0m\u001b[0;34m,\u001b[0m\u001b[0;34m'b'\u001b[0m\u001b[0;34m)\u001b[0m\u001b[0;34m\u001b[0m\u001b[0m\n\u001b[1;32m     46\u001b[0m \u001b[0mplot_quant_data\u001b[0m\u001b[0;34m(\u001b[0m\u001b[0mbomj_df\u001b[0m\u001b[0;34m,\u001b[0m\u001b[0;34m'num_theaters_opening'\u001b[0m\u001b[0;34m,\u001b[0m\u001b[0;34m'b'\u001b[0m\u001b[0;34m)\u001b[0m\u001b[0;34m\u001b[0m\u001b[0m\n",
        "\u001b[0;32m<ipython-input-168-b3573a821f55>\u001b[0m in \u001b[0;36mplot_quant_data\u001b[0;34m(bomj_df, varname, cr)\u001b[0m\n\u001b[1;32m     15\u001b[0m     \u001b[0mplt\u001b[0m\u001b[0;34m.\u001b[0m\u001b[0mshow\u001b[0m\u001b[0;34m(\u001b[0m\u001b[0;34m)\u001b[0m\u001b[0;34m\u001b[0m\u001b[0m\n\u001b[1;32m     16\u001b[0m \u001b[0;34m\u001b[0m\u001b[0m\n\u001b[0;32m---> 17\u001b[0;31m     \u001b[0mwin_data\u001b[0m \u001b[0;34m=\u001b[0m \u001b[0;34m(\u001b[0m\u001b[0mbomj_df\u001b[0m\u001b[0;34m[\u001b[0m\u001b[0mbomj_df\u001b[0m\u001b[0;34m.\u001b[0m\u001b[0moscar_winner\u001b[0m \u001b[0;34m==\u001b[0m \u001b[0;36m1\u001b[0m\u001b[0;34m]\u001b[0m\u001b[0;34m)\u001b[0m\u001b[0;34m[\u001b[0m\u001b[0mvarname\u001b[0m\u001b[0;34m]\u001b[0m\u001b[0;34m.\u001b[0m\u001b[0mvalues\u001b[0m\u001b[0;34m\u001b[0m\u001b[0m\n\u001b[0m\u001b[1;32m     18\u001b[0m     \u001b[0mcleaned_win_data\u001b[0m \u001b[0;34m=\u001b[0m \u001b[0;34m[\u001b[0m\u001b[0;34m]\u001b[0m\u001b[0;34m\u001b[0m\u001b[0m\n\u001b[1;32m     19\u001b[0m     \u001b[0;32mfor\u001b[0m \u001b[0mpt\u001b[0m \u001b[0;32min\u001b[0m \u001b[0mwin_data\u001b[0m\u001b[0;34m:\u001b[0m\u001b[0;34m\u001b[0m\u001b[0m\n",
        "\u001b[0;32m//anaconda/python.app/Contents/lib/python2.7/site-packages/pandas/core/frame.pyc\u001b[0m in \u001b[0;36m__getattr__\u001b[0;34m(self, name)\u001b[0m\n\u001b[1;32m   2086\u001b[0m             \u001b[0;32mreturn\u001b[0m \u001b[0mself\u001b[0m\u001b[0;34m[\u001b[0m\u001b[0mname\u001b[0m\u001b[0;34m]\u001b[0m\u001b[0;34m\u001b[0m\u001b[0m\n\u001b[1;32m   2087\u001b[0m         raise AttributeError(\"'%s' object has no attribute '%s'\" %\n\u001b[0;32m-> 2088\u001b[0;31m                              (type(self).__name__, name))\n\u001b[0m\u001b[1;32m   2089\u001b[0m \u001b[0;34m\u001b[0m\u001b[0m\n\u001b[1;32m   2090\u001b[0m     \u001b[0;32mdef\u001b[0m \u001b[0m__setattr__\u001b[0m\u001b[0;34m(\u001b[0m\u001b[0mself\u001b[0m\u001b[0;34m,\u001b[0m \u001b[0mname\u001b[0m\u001b[0;34m,\u001b[0m \u001b[0mvalue\u001b[0m\u001b[0;34m)\u001b[0m\u001b[0;34m:\u001b[0m\u001b[0;34m\u001b[0m\u001b[0m\n",
        "\u001b[0;31mAttributeError\u001b[0m: 'DataFrame' object has no attribute 'oscar_winner'"
       ]
      }
     ],
     "prompt_number": 168
    },
    {
     "cell_type": "markdown",
     "metadata": {},
     "source": [
      "<h2>IMDB Reviews & Ratings</h2>"
     ]
    },
    {
     "cell_type": "markdown",
     "metadata": {},
     "source": [
      "In order to understand what the distribution of movies and movie reviewers looks like, we calculated the number of reviews, critics, and movies and then plot the number of reviews per critic."
     ]
    },
    {
     "cell_type": "code",
     "collapsed": false,
     "input": [
      "print \"Number of reviews: %i\" % len(imdb_df)\n",
      "print \"Number of critics: %i\" % imdb_df.critic.unique().size\n",
      "print \"Number of movies:  %i\" % imdb_df.title.unique().size"
     ],
     "language": "python",
     "metadata": {},
     "outputs": [
      {
       "output_type": "stream",
       "stream": "stdout",
       "text": [
        "Number of reviews: 435277\n",
        "Number of critics: 199188"
       ]
      },
      {
       "output_type": "stream",
       "stream": "stdout",
       "text": [
        "\n",
        "Number of movies:  1900\n"
       ]
      }
     ],
     "prompt_number": 6
    },
    {
     "cell_type": "code",
     "collapsed": false,
     "input": [
      "imdb_df.groupby('critic').title.count().hist(log=True, bins=range(20), edgecolor='white')\n",
      "plt.xlabel(\"Number of reviews per critic\")\n",
      "plt.ylabel(\"N\")\n",
      "histogram_style()"
     ],
     "language": "python",
     "metadata": {},
     "outputs": [
      {
       "metadata": {},
       "output_type": "display_data",
       "png": "[encoded data removed]",
       "text": [
        "<matplotlib.figure.Figure at 0x88630b0>"
       ]
      }
     ],
     "prompt_number": 7
    },
    {
     "cell_type": "markdown",
     "metadata": {},
     "source": [
      "As one can see, although we have a very large number of reviews and reviews, most of them do not interview that many movies themselves."
     ]
    },
    {
     "cell_type": "markdown",
     "metadata": {},
     "source": [
      "Next, we will visualize how the number of reviews changes over the years, and how the average ratings equuivalently change."
     ]
    },
    {
     "cell_type": "code",
     "collapsed": false,
     "input": [
      "plt.plot(imdb_df.groupby('year').critic.count().index,imdb_df.groupby('year').critic.count())\n",
      "plt.xlabel('Year')\n",
      "plt.ylabel('Number of Reviews')\n",
      "plt.show()"
     ],
     "language": "python",
     "metadata": {},
     "outputs": [
      {
       "metadata": {},
       "output_type": "display_data",
       "png": "[encoded data removed]",
       "text": [
        "<matplotlib.figure.Figure at 0x20356f50>"
       ]
      }
     ],
     "prompt_number": 8
    },
    {
     "cell_type": "markdown",
     "metadata": {},
     "source": [
      "From this plot, as expected, there is a sharp increase in the number of reviews beginning in 2003, the start of our data, but strangely enough, there is some (sparse) data for years previous 2002.  Let's investigate those."
     ]
    },
    {
     "cell_type": "code",
     "collapsed": false,
     "input": [
      "imdb_df[imdb_df['year'] < 2003].groupby('year').title.unique()"
     ],
     "language": "python",
     "metadata": {},
     "outputs": [
      {
       "metadata": {},
       "output_type": "pyout",
       "prompt_number": 9,
       "text": [
        "year\n",
        "2001    [Winged Migration, Nowhere in Africa, Monsters...\n",
        "2002    [Phone Booth, 28 Days Later, Bend It Like Beck...\n",
        "dtype: object"
       ]
      }
     ],
     "prompt_number": 9
    },
    {
     "cell_type": "markdown",
     "metadata": {},
     "source": [
      "Considering the earliest movie we tried to get was in 2003, it looks like something went wrong.  These movies *are* from 2002 and 2001, so these errors are likely from the original year classification.  Because we are only interested in years in [2003,2012], we will just remove these entries from the dataframe."
     ]
    },
    {
     "cell_type": "code",
     "collapsed": false,
     "input": [
      "# let's remove the entries for years < 2003\n",
      "imdb_df = imdb_df[imdb_df['year'] >= 2003]"
     ],
     "language": "python",
     "metadata": {},
     "outputs": [],
     "prompt_number": 10
    },
    {
     "cell_type": "code",
     "collapsed": false,
     "input": [
      "# Finally, let's try plotting the same graph as above\n",
      "plt.plot(imdb_df.groupby('year').critic.count().index,imdb_df.groupby('year').critic.count())\n",
      "plt.xlabel('Year')\n",
      "plt.xticks(range(2002,2013))\n",
      "plt.ylabel('Number of Reviews')\n",
      "plt.show()"
     ],
     "language": "python",
     "metadata": {},
     "outputs": [
      {
       "metadata": {},
       "output_type": "display_data",
       "png": "[encoded data removed]",
       "text": [
        "<matplotlib.figure.Figure at 0x2035ca10>"
       ]
      }
     ],
     "prompt_number": 11
    },
    {
     "cell_type": "markdown",
     "metadata": {},
     "source": [
      "As expected, we now only have our data from 2003 onwards.  Interestingly, the peak of user reviews is in 2005, with the number of reviews exponentially falling off until 2011.  Thus, it seems that as IMDB became more widespread and popular, *fewer* people actually have been leaving reviews for movies.\n",
      "\n",
      "Now that we have an idea of the distribution of the data over the years, let's look at the actual review ratings.  On IMDB users have the option of rating movies without actually leaving a review.  Here, we compare the overall movie rating to the average rating user critics give as an approximate measure of whether user critics or general users rate movies more harshly."
     ]
    },
    {
     "cell_type": "code",
     "collapsed": false,
     "input": [
      "print \"average movie rating: %0.2f / 10\" % (imdb_df.groupby('title')['overall_score'].unique().mean() * 10)\n",
      "print \"average user critic rating: %0.2f / 10\" % (imdb_df.groupby('critic')['norm_score'].mean().mean() * 10) "
     ],
     "language": "python",
     "metadata": {},
     "outputs": [
      {
       "output_type": "stream",
       "stream": "stdout",
       "text": [
        "average movie rating: 6.27 / 10\n",
        "average user critic rating: 6.27 / 10"
       ]
      },
      {
       "output_type": "stream",
       "stream": "stdout",
       "text": [
        "\n"
       ]
      }
     ],
     "prompt_number": 12
    },
    {
     "cell_type": "markdown",
     "metadata": {},
     "source": [
      "From this measure, it appears that the user critics rate the movies *the same* as the average user. Let's try to visualize this a little more explicitly. "
     ]
    },
    {
     "cell_type": "code",
     "collapsed": false,
     "input": [
      "#Your code here\n",
      "imdb_df.groupby('critic').norm_score.mean().hist(bins=10, edgecolor='w', lw=1)\n",
      "plt.xlabel(\"Average rating per critic\")\n",
      "plt.ylabel(\"N\")\n",
      "histogram_style()"
     ],
     "language": "python",
     "metadata": {},
     "outputs": [
      {
       "metadata": {},
       "output_type": "display_data",
       "png": "[encoded data removed]",
       "text": [
        "<matplotlib.figure.Figure at 0xe759b90>"
       ]
      }
     ],
     "prompt_number": 13
    },
    {
     "cell_type": "markdown",
     "metadata": {},
     "source": [
      "From this histogram, it appears we have an almost bi-modal distribution where the highest frequency averages are at the polar ends.  Considering that a user would be more likely to write a review for a movie if s/he absolutely hated or loved it, this isn't that surprising because then they too would rate it at the extremes.  \n",
      "<hr/>"
     ]
    },
    {
     "cell_type": "markdown",
     "metadata": {},
     "source": [
      "Lastly, before we begin out statistical analysis, we must only include reviews that are written in the time *before* the movie was considered for an oscar, else our data would be unnecesarily skewed because after an award does (or does not) win an award, critics may be more inclined to give it a certain review type.  In this way, we try to eliminate this particular type of bias here."
     ]
    },
    {
     "cell_type": "code",
     "collapsed": false,
     "input": [
      "# first let's convert the date column to an actual date object\n",
      "imdb_df['date'] = pd.to_datetime(imdb_df['date'])\n",
      "def less_than_date(row):\n",
      "    return row['date'] < pd.to_datetime('January 1 ' + str(row['year'] + 1))\n",
      "imdb_df = imdb_df[imdb_df.apply(less_than_date,axis=1)]"
     ],
     "language": "python",
     "metadata": {},
     "outputs": [],
     "prompt_number": 6
    },
    {
     "cell_type": "code",
     "collapsed": false,
     "input": [
      "print \"Number of reviews: %i\" % len(imdb_df)\n",
      "print \"Number of critics: %i\" % imdb_df.critic.unique().size\n",
      "print \"Number of movies:  %i\" % imdb_df.title.unique().size"
     ],
     "language": "python",
     "metadata": {},
     "outputs": [
      {
       "output_type": "stream",
       "stream": "stdout",
       "text": [
        "Number of reviews: 242533\n",
        "Number of critics: 130504"
       ]
      },
      {
       "output_type": "stream",
       "stream": "stdout",
       "text": [
        "\n",
        "Number of movies:  1852\n"
       ]
      }
     ],
     "prompt_number": 10
    },
    {
     "cell_type": "markdown",
     "metadata": {},
     "source": [
      "<h2>Rotten Tomatoes Reviews & Ratings</h2>"
     ]
    },
    {
     "cell_type": "markdown",
     "metadata": {},
     "source": [
      "Now we repeat the process for the reviews scraped from Rotten Tomatoes. In order to understand what the distribution of movies and movie reviewers looks like, we calculated the number of reviews, critics, and movies and then plot the number of reviews per critic."
     ]
    },
    {
     "cell_type": "code",
     "collapsed": false,
     "input": [
      "print \"Number of reviews: %i\" % len(rotten_df)\n",
      "print \"Number of critics: %i\" % rotten_df.critic.unique().size\n",
      "print \"Number of movies:  %i\" % rotten_df.title.unique().size"
     ],
     "language": "python",
     "metadata": {},
     "outputs": [
      {
       "output_type": "stream",
       "stream": "stdout",
       "text": [
        "Number of reviews: 60306\n",
        "Number of critics: 876\n",
        "Number of movies:  1812\n"
       ]
      }
     ],
     "prompt_number": 73
    },
    {
     "cell_type": "code",
     "collapsed": false,
     "input": [
      "rotten_df.groupby('critic').title.count().hist(log=True, bins=range(20), edgecolor='white')\n",
      "plt.xlabel(\"Number of reviews per critic\")\n",
      "plt.ylabel(\"N\")\n",
      "histogram_style()"
     ],
     "language": "python",
     "metadata": {},
     "outputs": [
      {
       "metadata": {},
       "output_type": "display_data",
       "png": "[encoded data removed]",
       "text": [
        "<matplotlib.figure.Figure at 0x10ebd9550>"
       ]
      }
     ],
     "prompt_number": 74
    },
    {
     "cell_type": "markdown",
     "metadata": {},
     "source": [
      "The histogram demonstrates that most critics write between 0 and 5 reviews, and that in general critics do not write more than 20 reviews. In general there is a negative trend: more reviewers are likely to write few reviews, and less reviewers are likely to write many reviews.\n",
      "\n",
      "As we did before, next we will visualize how the number of reviews changes over the years, and how the average ratings equivalently change."
     ]
    },
    {
     "cell_type": "code",
     "collapsed": false,
     "input": [
      "plt.plot(rotten_df.groupby('year').critic.count().index,rotten_df.groupby('year').critic.count())\n",
      "plt.xlabel('Year')\n",
      "plt.ylabel('Number of Reviews')\n",
      "plt.show()"
     ],
     "language": "python",
     "metadata": {},
     "outputs": [
      {
       "metadata": {},
       "output_type": "display_data",
       "png": "[encoded data removed]",
       "text": [
        "<matplotlib.figure.Figure at 0x10ec6df90>"
       ]
      }
     ],
     "prompt_number": 76
    },
    {
     "cell_type": "markdown",
     "metadata": {},
     "source": [
      "Movies that came out in 2003 and 2006 appear to have received the most reviews, whereas movies that came out in 2009 and 2010 received the least reviews. In general there are never less than 5000 and never more than 7000 reviews for all movies of a specific year. \n",
      "\n",
      "Now let's look at the actual review ratings. Here, we compare the overall movie rating to the average rating user critics give as an approximate measure of whether user critics or general users rate movies more harshly. Note that on Rotten Tomatoes critics can rate movies without actually leaving a review. Later, when analyzing the reviews themselves, we delete the rows that don't have reviews from our data frame."
     ]
    },
    {
     "cell_type": "code",
     "collapsed": false,
     "input": [
      "print \"average movie rating: %0.2f / 10\" % (rotten_df.groupby('title')['overall_score'].unique().mean() * 10)\n",
      "print \"average user critic rating: %0.2f / 10\" % (rotten_df.groupby('critic')['norm_score'].mean().mean() * 10) "
     ],
     "language": "python",
     "metadata": {},
     "outputs": [
      {
       "output_type": "stream",
       "stream": "stdout",
       "text": [
        "average movie rating: 5.16 / 10\n",
        "average user critic rating: 5.06 / 10\n"
       ]
      }
     ],
     "prompt_number": 77
    },
    {
     "cell_type": "markdown",
     "metadata": {},
     "source": [
      "It seems that the average rating a movie receives is pretty close to the average score that the critics in the dataframe give. This implies that the score a movie receives by critics is likely to be similar to the score it will receive overall, which means the critics ratings that are included in the dataframe are a good measure for the overall score from this website. \n",
      "\n",
      "Now we will look at the average rating that critics give in a histogram"
     ]
    },
    {
     "cell_type": "code",
     "collapsed": false,
     "input": [
      "#Your code here\n",
      "rotten_df.groupby('critic').norm_score.mean().hist(bins=10, edgecolor='w', lw=1)\n",
      "plt.xlabel(\"Average rating per critic\")\n",
      "plt.ylabel(\"N\")\n",
      "histogram_style()"
     ],
     "language": "python",
     "metadata": {},
     "outputs": [
      {
       "metadata": {},
       "output_type": "display_data",
       "png": "[encoded data removed]",
       "text": [
        "<matplotlib.figure.Figure at 0x107a45710>"
       ]
      }
     ],
     "prompt_number": 79
    },
    {
     "cell_type": "markdown",
     "metadata": {},
     "source": [
      "From this histogram, we see that the highest frequency averages are at the polar ends, as it was for the IMDB data set: most critics gave either a 0 or a 1. The third most frequent score is right in the middle at 0.5. Users are indeed likely to write a review if they love or hate the movie. On the other hand, it seems that if they neither hate it or love it, they will give it a 50% rather than thinking too hard if it's on the better or worse end. \n",
      "\n",
      "\n",
      "Next we clear out reviews for a movie that occurred after the oscar awards were given, just as we did with the IMDB reviews. "
     ]
    },
    {
     "cell_type": "code",
     "collapsed": false,
     "input": [
      "#def less_than_date(row):\n",
      "#   return row['date'] < pd.to_datetime('January 1 ' + str(row['year'] + 1))\n",
      "\n",
      "rotten_df['date'] = pd.to_datetime(rotten_df['date'])\n",
      "rotten_df = rotten_df[rotten_df.apply(less_than_date,axis=1)]\n",
      "rotten_df.head()"
     ],
     "language": "python",
     "metadata": {},
     "outputs": [
      {
       "html": [
        "<div style=\"max-height:1000px;max-width:1500px;overflow:auto;\">\n",
        "<table border=\"1\" class=\"dataframe\">\n",
        "  <thead>\n",
        "    <tr style=\"text-align: right;\">\n",
        "      <th></th>\n",
        "      <th>critic</th>\n",
        "      <th>date</th>\n",
        "      <th>id</th>\n",
        "      <th>norm_score</th>\n",
        "      <th>overall_score</th>\n",
        "      <th>quote</th>\n",
        "      <th>source</th>\n",
        "      <th>title</th>\n",
        "      <th>year</th>\n",
        "    </tr>\n",
        "  </thead>\n",
        "  <tbody>\n",
        "    <tr>\n",
        "      <th>6 </th>\n",
        "      <td>   Bill Muller</td>\n",
        "      <td>2003-12-18 00:00:00</td>\n",
        "      <td> 167260</td>\n",
        "      <td> 1</td>\n",
        "      <td> 0.94</td>\n",
        "      <td> Not only has Jackson boldly and faithfully bro...</td>\n",
        "      <td> Arizona Republic</td>\n",
        "      <td> The Lord of the Rings: The Return of the King</td>\n",
        "      <td> 2003</td>\n",
        "    </tr>\n",
        "    <tr>\n",
        "      <th>7 </th>\n",
        "      <td> Scott Foundas</td>\n",
        "      <td>2003-12-18 00:00:00</td>\n",
        "      <td> 167260</td>\n",
        "      <td> 1</td>\n",
        "      <td> 0.94</td>\n",
        "      <td> Both the longest film in the series and the mo...</td>\n",
        "      <td>      L.A. Weekly</td>\n",
        "      <td> The Lord of the Rings: The Return of the King</td>\n",
        "      <td> 2003</td>\n",
        "    </tr>\n",
        "    <tr>\n",
        "      <th>8 </th>\n",
        "      <td>  Peter Howell</td>\n",
        "      <td>2003-12-17 00:00:00</td>\n",
        "      <td> 167260</td>\n",
        "      <td> 1</td>\n",
        "      <td> 0.94</td>\n",
        "      <td> Completes the picture, magnificently so, and a...</td>\n",
        "      <td>     Toronto Star</td>\n",
        "      <td> The Lord of the Rings: The Return of the King</td>\n",
        "      <td> 2003</td>\n",
        "    </tr>\n",
        "    <tr>\n",
        "      <th>9 </th>\n",
        "      <td>   Roger Moore</td>\n",
        "      <td>2003-12-17 00:00:00</td>\n",
        "      <td> 167260</td>\n",
        "      <td> 1</td>\n",
        "      <td> 0.94</td>\n",
        "      <td> The thrilling conclusion to what has become th...</td>\n",
        "      <td> Orlando Sentinel</td>\n",
        "      <td> The Lord of the Rings: The Return of the King</td>\n",
        "      <td> 2003</td>\n",
        "    </tr>\n",
        "    <tr>\n",
        "      <th>10</th>\n",
        "      <td>    Liam Lacey</td>\n",
        "      <td>2003-12-17 00:00:00</td>\n",
        "      <td> 167260</td>\n",
        "      <td> 1</td>\n",
        "      <td> 0.94</td>\n",
        "      <td> A movie for our time, perhaps for all time, mo...</td>\n",
        "      <td>   Globe and Mail</td>\n",
        "      <td> The Lord of the Rings: The Return of the King</td>\n",
        "      <td> 2003</td>\n",
        "    </tr>\n",
        "  </tbody>\n",
        "</table>\n",
        "</div>"
       ],
       "metadata": {},
       "output_type": "pyout",
       "prompt_number": 82,
       "text": [
        "           critic                date      id  norm_score  overall_score                                              quote            source                                          title  year\n",
        "6     Bill Muller 2003-12-18 00:00:00  167260           1           0.94  Not only has Jackson boldly and faithfully bro...  Arizona Republic  The Lord of the Rings: The Return of the King  2003\n",
        "7   Scott Foundas 2003-12-18 00:00:00  167260           1           0.94  Both the longest film in the series and the mo...       L.A. Weekly  The Lord of the Rings: The Return of the King  2003\n",
        "8    Peter Howell 2003-12-17 00:00:00  167260           1           0.94  Completes the picture, magnificently so, and a...      Toronto Star  The Lord of the Rings: The Return of the King  2003\n",
        "9     Roger Moore 2003-12-17 00:00:00  167260           1           0.94  The thrilling conclusion to what has become th...  Orlando Sentinel  The Lord of the Rings: The Return of the King  2003\n",
        "10     Liam Lacey 2003-12-17 00:00:00  167260           1           0.94  A movie for our time, perhaps for all time, mo...    Globe and Mail  The Lord of the Rings: The Return of the King  2003"
       ]
      }
     ],
     "prompt_number": 82
    },
    {
     "cell_type": "markdown",
     "metadata": {},
     "source": [
      "Now that we've gotten rid of the irrelevant data we again look at the number of reviews, critics and movies. "
     ]
    },
    {
     "cell_type": "code",
     "collapsed": false,
     "input": [
      "print \"Number of reviews: %i\" % len(rotten_df)\n",
      "print \"Number of critics: %i\" % rotten_df.critic.unique().size\n",
      "print \"Number of movies:  %i\" % rotten_df.title.unique().size"
     ],
     "language": "python",
     "metadata": {},
     "outputs": [
      {
       "output_type": "stream",
       "stream": "stdout",
       "text": [
        "Number of reviews: 54816\n",
        "Number of critics: 829\n",
        "Number of movies:  1737\n"
       ]
      }
     ],
     "prompt_number": 83
    },
    {
     "cell_type": "markdown",
     "metadata": {},
     "source": [
      "<h1>Statistical Analysis</h1>\n",
      "\n",
      "We will now use a Naive Bayes classifier to build a prediction model for whether a movie will be nominated for an oscar.  From there we will try to pick from among the nominees to get a winner."
     ]
    },
    {
     "cell_type": "markdown",
     "metadata": {},
     "source": [
      "As we can see, this filter reduced the number of reviews almost by half, but we also lost some movies."
     ]
    },
    {
     "cell_type": "markdown",
     "metadata": {},
     "source": [
      "Before we begin our analysis, we should first add to our dataframe information about the results of the oscar nominations and winners.  Here we  add two columns to our dataframe: one for the winner, and one for the nomination.  For preliminary analysis, we treat all movie-speicifc oscars as the same."
     ]
    },
    {
     "cell_type": "markdown",
     "metadata": {},
     "source": [
      "<h2>IMDB Statistical Analysis</h2>"
     ]
    },
    {
     "cell_type": "markdown",
     "metadata": {},
     "source": [
      "Because we store the imdb ids as strings in the oscars dataframe, we need to make sure we have a \n",
      "consistent representation in the imdb review dataframe.  Because we read in from a csv, pandas\n",
      "automatically turns the ids into ints, so we have to do the editting here."
     ]
    },
    {
     "cell_type": "code",
     "collapsed": false,
     "input": [
      "imdb_df['id'] = imdb_df['id'].map(lambda id: str(id).zfill(7))"
     ],
     "language": "python",
     "metadata": {},
     "outputs": [
      {
       "ename": "NameError",
       "evalue": "name 'imdb_df' is not defined",
       "output_type": "pyerr",
       "traceback": [
        "\u001b[0;31m---------------------------------------------------------------------------\u001b[0m\n\u001b[0;31mNameError\u001b[0m                                 Traceback (most recent call last)",
        "\u001b[0;32m<ipython-input-171-163a28813688>\u001b[0m in \u001b[0;36m<module>\u001b[0;34m()\u001b[0m\n\u001b[0;32m----> 1\u001b[0;31m \u001b[0mimdb_df\u001b[0m\u001b[0;34m[\u001b[0m\u001b[0;34m'id'\u001b[0m\u001b[0;34m]\u001b[0m \u001b[0;34m=\u001b[0m \u001b[0mimdb_df\u001b[0m\u001b[0;34m[\u001b[0m\u001b[0;34m'id'\u001b[0m\u001b[0;34m]\u001b[0m\u001b[0;34m.\u001b[0m\u001b[0mmap\u001b[0m\u001b[0;34m(\u001b[0m\u001b[0;32mlambda\u001b[0m \u001b[0mid\u001b[0m\u001b[0;34m:\u001b[0m \u001b[0mstr\u001b[0m\u001b[0;34m(\u001b[0m\u001b[0mid\u001b[0m\u001b[0;34m)\u001b[0m\u001b[0;34m.\u001b[0m\u001b[0mzfill\u001b[0m\u001b[0;34m(\u001b[0m\u001b[0;36m7\u001b[0m\u001b[0;34m)\u001b[0m\u001b[0;34m)\u001b[0m\u001b[0;34m\u001b[0m\u001b[0m\n\u001b[0m",
        "\u001b[0;31mNameError\u001b[0m: name 'imdb_df' is not defined"
       ]
      }
     ],
     "prompt_number": 171
    },
    {
     "cell_type": "code",
     "collapsed": false,
     "input": [
      "add_oscar_data(imdb_df)\n",
      "imdb_df.head()"
     ],
     "language": "python",
     "metadata": {},
     "outputs": [
      {
       "html": [
        "<div style=\"max-height:1000px;max-width:1500px;overflow:auto;\">\n",
        "<table border=\"1\" class=\"dataframe\">\n",
        "  <thead>\n",
        "    <tr style=\"text-align: right;\">\n",
        "      <th></th>\n",
        "      <th>critic</th>\n",
        "      <th>date</th>\n",
        "      <th>id</th>\n",
        "      <th>norm_score</th>\n",
        "      <th>overall_score</th>\n",
        "      <th>quote</th>\n",
        "      <th>source</th>\n",
        "      <th>title</th>\n",
        "      <th>year</th>\n",
        "      <th>oscar_winner</th>\n",
        "      <th>oscar_nom</th>\n",
        "    </tr>\n",
        "  </thead>\n",
        "  <tbody>\n",
        "    <tr>\n",
        "      <th>0</th>\n",
        "      <td>                       GuyCC</td>\n",
        "      <td>2003-12-17 00:00:00</td>\n",
        "      <td> 0167260</td>\n",
        "      <td> 1.0</td>\n",
        "      <td> 0.89</td>\n",
        "      <td> Peter Jackson has done it.  He has created an ...</td>\n",
        "      <td> IMDB</td>\n",
        "      <td> The Lord of the Rings: The Return of the King</td>\n",
        "      <td> 2003</td>\n",
        "      <td> 1</td>\n",
        "      <td> 1</td>\n",
        "    </tr>\n",
        "    <tr>\n",
        "      <th>1</th>\n",
        "      <td>  (muffinking66@hotmail.com)</td>\n",
        "      <td>2003-12-16 00:00:00</td>\n",
        "      <td> 0167260</td>\n",
        "      <td> 1.0</td>\n",
        "      <td> 0.89</td>\n",
        "      <td> Saying that this film starts where `Two Towers...</td>\n",
        "      <td> IMDB</td>\n",
        "      <td> The Lord of the Rings: The Return of the King</td>\n",
        "      <td> 2003</td>\n",
        "      <td> 1</td>\n",
        "      <td> 1</td>\n",
        "    </tr>\n",
        "    <tr>\n",
        "      <th>3</th>\n",
        "      <td>                     eiratan</td>\n",
        "      <td>2003-12-17 00:00:00</td>\n",
        "      <td> 0167260</td>\n",
        "      <td> 1.0</td>\n",
        "      <td> 0.89</td>\n",
        "      <td> As a movie watcher, I tend to become bored wit...</td>\n",
        "      <td> IMDB</td>\n",
        "      <td> The Lord of the Rings: The Return of the King</td>\n",
        "      <td> 2003</td>\n",
        "      <td> 1</td>\n",
        "      <td> 1</td>\n",
        "    </tr>\n",
        "    <tr>\n",
        "      <th>5</th>\n",
        "      <td>                Chris_Docker</td>\n",
        "      <td>2003-12-17 00:00:00</td>\n",
        "      <td> 0167260</td>\n",
        "      <td> 0.9</td>\n",
        "      <td> 0.89</td>\n",
        "      <td> Feeling weary and battle-worn, I have just sta...</td>\n",
        "      <td> IMDB</td>\n",
        "      <td> The Lord of the Rings: The Return of the King</td>\n",
        "      <td> 2003</td>\n",
        "      <td> 1</td>\n",
        "      <td> 1</td>\n",
        "    </tr>\n",
        "    <tr>\n",
        "      <th>6</th>\n",
        "      <td>                   eviltimmy</td>\n",
        "      <td>2003-12-20 00:00:00</td>\n",
        "      <td> 0167260</td>\n",
        "      <td> 1.0</td>\n",
        "      <td> 0.89</td>\n",
        "      <td> This is the final movie in the Lord of the Rin...</td>\n",
        "      <td> IMDB</td>\n",
        "      <td> The Lord of the Rings: The Return of the King</td>\n",
        "      <td> 2003</td>\n",
        "      <td> 1</td>\n",
        "      <td> 1</td>\n",
        "    </tr>\n",
        "  </tbody>\n",
        "</table>\n",
        "</div>"
       ],
       "metadata": {},
       "output_type": "pyout",
       "prompt_number": 9,
       "text": [
        "                        critic                date       id  norm_score  overall_score                                              quote source                                          title  year  oscar_winner  oscar_nom\n",
        "0                        GuyCC 2003-12-17 00:00:00  0167260         1.0           0.89  Peter Jackson has done it.  He has created an ...   IMDB  The Lord of the Rings: The Return of the King  2003             1          1\n",
        "1   (muffinking66@hotmail.com) 2003-12-16 00:00:00  0167260         1.0           0.89  Saying that this film starts where `Two Towers...   IMDB  The Lord of the Rings: The Return of the King  2003             1          1\n",
        "3                      eiratan 2003-12-17 00:00:00  0167260         1.0           0.89  As a movie watcher, I tend to become bored wit...   IMDB  The Lord of the Rings: The Return of the King  2003             1          1\n",
        "5                 Chris_Docker 2003-12-17 00:00:00  0167260         0.9           0.89  Feeling weary and battle-worn, I have just sta...   IMDB  The Lord of the Rings: The Return of the King  2003             1          1\n",
        "6                    eviltimmy 2003-12-20 00:00:00  0167260         1.0           0.89  This is the final movie in the Lord of the Rin...   IMDB  The Lord of the Rings: The Return of the King  2003             1          1"
       ]
      }
     ],
     "prompt_number": 9
    },
    {
     "cell_type": "markdown",
     "metadata": {},
     "source": [
      "Using different review dataframes, we will now compute a pair of numerical X, Y, Z arrays where:\n",
      "    \n",
      " * X is a `(nreview, nwords)` array. Each row corresponds to a bag-of-words representation for a single review.\n",
      " * Y is a `nreview`-element 1/0 array, encoding whether a movie wins an oscar (1) or didn't win (0).\n",
      " * Z is a `nreview`-element 1/0 array, encoding whether a movie is nominated for an oscar (1) or not (0)."
     ]
    },
    {
     "cell_type": "code",
     "collapsed": false,
     "input": [
      "from sklearn.feature_extraction.text import CountVectorizer\n",
      "from sklearn.cross_validation import train_test_split\n",
      "from sklearn.naive_bayes import MultinomialNB\n",
      "from sklearn.ensemble import RandomForestClassifier\n",
      "\n",
      "\"\"\"\n",
      "Function\n",
      "--------\n",
      "make_xyz\n",
      "\n",
      "Build a bag-of-words training set for the review data\n",
      "\n",
      "Parameters\n",
      "-----------\n",
      "df : Pandas DataFrame\n",
      "    The review for a dataset\n",
      "    \n",
      "vectorizer : CountVectorizer object (optional)\n",
      "    A CountVectorizer object to use. If None,\n",
      "    then create and fit a new CountVectorizer.\n",
      "    Otherwise, re-fit the provided CountVectorizer\n",
      "    using the critics data\n",
      "    \n",
      "Returns\n",
      "-------\n",
      "X : numpy array (dims: nreview, nwords)\n",
      "    Bag-of-words representation for each review.\n",
      "Y : numpy array (dims: nreview)\n",
      "    1/0 array. 1 = won an oscar, 0 = didn't win an oscar\n",
      "Z : numpy array (dims: nreview)\n",
      "    1/0 array. 1 = nominated, 0 = not nominated\n",
      "\n",
      "Examples\n",
      "--------\n",
      "X, Y, Z = make_xyz(imdb_id)\n",
      "\"\"\"\n",
      "def make_xyz(df, vectorizer=None): \n",
      "    if vectorizer is None:\n",
      "        vectorizer = CountVectorizer()\n",
      "    X = vectorizer.fit_transform(df.quote)\n",
      "    X = X.tocsc()  # some versions of sklearn return COO format\n",
      "    gc.collect()\n",
      "    return X, df['oscar_winner'].astype(np.int), df['oscar_nom'].astype(np.int)"
     ],
     "language": "python",
     "metadata": {},
     "outputs": [],
     "prompt_number": 96
    },
    {
     "cell_type": "markdown",
     "metadata": {},
     "source": [
      "Because the dataframe for imdb is so large, though, we cannot in reality create a vectorizer based on this because it would not be able to fit in memory.  So here we will take a random sample of the quotes for each movie."
     ]
    },
    {
     "cell_type": "code",
     "collapsed": false,
     "input": [
      "from random import sample\n",
      "\n",
      "# group imdb_df by movie\n",
      "grp_imdb = imdb_df.groupby('id')\n",
      "# reset imdb_df for appending new info\n",
      "imdb_df = pd.DataFrame()\n",
      "\n",
      "# iterate through groups, randomly remove reviews, append to imdb_df\n",
      "for name,group in grp_imdb:\n",
      "    rows = sample(group.index,len(group.index) / 10)\n",
      "    group = group.ix[rows]\n",
      "    imdb_df = imdb_df.append(group)"
     ],
     "language": "python",
     "metadata": {},
     "outputs": [],
     "prompt_number": 38
    },
    {
     "cell_type": "code",
     "collapsed": false,
     "input": [
      "# finally construct X,Y,Z\n",
      "X, Y, Z = make_xyz(imdb_df)"
     ],
     "language": "python",
     "metadata": {},
     "outputs": [],
     "prompt_number": 45
    },
    {
     "cell_type": "markdown",
     "metadata": {},
     "source": [
      "<h2>Rotten Tomatoes Statistical Analysis</h2>"
     ]
    },
    {
     "cell_type": "markdown",
     "metadata": {},
     "source": [
      "Now we repeat the process for the Rotten Tomatoes reviews, first adding columns for oscar winner or oscar nominee. \n"
     ]
    },
    {
     "cell_type": "code",
     "collapsed": false,
     "input": [
      "rotten_df['id'] = rotten_df['id'].map(lambda id: str(id).zfill(7))\n",
      "add_oscar_data(rotten_df)\n",
      "rotten_df.head()"
     ],
     "language": "python",
     "metadata": {},
     "outputs": [
      {
       "html": [
        "<div style=\"max-height:1000px;max-width:1500px;overflow:auto;\">\n",
        "<table border=\"1\" class=\"dataframe\">\n",
        "  <thead>\n",
        "    <tr style=\"text-align: right;\">\n",
        "      <th></th>\n",
        "      <th>critic</th>\n",
        "      <th>date</th>\n",
        "      <th>id</th>\n",
        "      <th>norm_score</th>\n",
        "      <th>overall_score</th>\n",
        "      <th>quote</th>\n",
        "      <th>source</th>\n",
        "      <th>title</th>\n",
        "      <th>year</th>\n",
        "      <th>oscar_winner</th>\n",
        "      <th>oscar_nom</th>\n",
        "    </tr>\n",
        "  </thead>\n",
        "  <tbody>\n",
        "    <tr>\n",
        "      <th>62908</th>\n",
        "      <td>  Joe Neumaier</td>\n",
        "      <td>2012-11-08 00:00:00</td>\n",
        "      <td> 1579361</td>\n",
        "      <td> 1</td>\n",
        "      <td> 0.96</td>\n",
        "      <td> You won't want to look away - not only because...</td>\n",
        "      <td> New York Daily News</td>\n",
        "      <td> Chasing Ice</td>\n",
        "      <td> 2012</td>\n",
        "      <td> 0</td>\n",
        "      <td> 1</td>\n",
        "    </tr>\n",
        "    <tr>\n",
        "      <th>62909</th>\n",
        "      <td> Linda Barnard</td>\n",
        "      <td>2012-11-08 00:00:00</td>\n",
        "      <td> 1579361</td>\n",
        "      <td> 1</td>\n",
        "      <td> 0.96</td>\n",
        "      <td> Considering the gravity of the situation there...</td>\n",
        "      <td>        Toronto Star</td>\n",
        "      <td> Chasing Ice</td>\n",
        "      <td> 2012</td>\n",
        "      <td> 0</td>\n",
        "      <td> 1</td>\n",
        "    </tr>\n",
        "    <tr>\n",
        "      <th>62910</th>\n",
        "      <td>  Chuck Wilson</td>\n",
        "      <td>2012-11-07 00:00:00</td>\n",
        "      <td> 1579361</td>\n",
        "      <td> 1</td>\n",
        "      <td> 0.96</td>\n",
        "      <td> Jeff Orlowski's beautiful yet sobering documen...</td>\n",
        "      <td>       Village Voice</td>\n",
        "      <td> Chasing Ice</td>\n",
        "      <td> 2012</td>\n",
        "      <td> 0</td>\n",
        "      <td> 1</td>\n",
        "    </tr>\n",
        "    <tr>\n",
        "      <th>62911</th>\n",
        "      <td>  Justin Chang</td>\n",
        "      <td>2012-01-30 00:00:00</td>\n",
        "      <td> 1579361</td>\n",
        "      <td> 1</td>\n",
        "      <td> 0.96</td>\n",
        "      <td> The case for climate change is mounted in visu...</td>\n",
        "      <td>             Variety</td>\n",
        "      <td> Chasing Ice</td>\n",
        "      <td> 2012</td>\n",
        "      <td> 0</td>\n",
        "      <td> 1</td>\n",
        "    </tr>\n",
        "    <tr>\n",
        "      <th>62912</th>\n",
        "      <td>   John DeFore</td>\n",
        "      <td>2012-01-26 00:00:00</td>\n",
        "      <td> 1579361</td>\n",
        "      <td> 1</td>\n",
        "      <td> 0.96</td>\n",
        "      <td> Doc about photographing glaciers makes a compe...</td>\n",
        "      <td>  Hollywood Reporter</td>\n",
        "      <td> Chasing Ice</td>\n",
        "      <td> 2012</td>\n",
        "      <td> 0</td>\n",
        "      <td> 1</td>\n",
        "    </tr>\n",
        "  </tbody>\n",
        "</table>\n",
        "</div>"
       ],
       "metadata": {},
       "output_type": "pyout",
       "prompt_number": 94,
       "text": [
        "              critic                date       id  norm_score  overall_score                                              quote               source        title  year  oscar_winner  oscar_nom\n",
        "62908   Joe Neumaier 2012-11-08 00:00:00  1579361           1           0.96  You won't want to look away - not only because...  New York Daily News  Chasing Ice  2012             0          1\n",
        "62909  Linda Barnard 2012-11-08 00:00:00  1579361           1           0.96  Considering the gravity of the situation there...         Toronto Star  Chasing Ice  2012             0          1\n",
        "62910   Chuck Wilson 2012-11-07 00:00:00  1579361           1           0.96  Jeff Orlowski's beautiful yet sobering documen...        Village Voice  Chasing Ice  2012             0          1\n",
        "62911   Justin Chang 2012-01-30 00:00:00  1579361           1           0.96  The case for climate change is mounted in visu...              Variety  Chasing Ice  2012             0          1\n",
        "62912    John DeFore 2012-01-26 00:00:00  1579361           1           0.96  Doc about photographing glaciers makes a compe...   Hollywood Reporter  Chasing Ice  2012             0          1"
       ]
      }
     ],
     "prompt_number": 94
    },
    {
     "cell_type": "markdown",
     "metadata": {},
     "source": [
      "Next we attempt to create a vectorizer. \n"
     ]
    },
    {
     "cell_type": "code",
     "collapsed": false,
     "input": [
      "rottenX, rottenY, rottenZ = make_xyz(rotten_df)"
     ],
     "language": "python",
     "metadata": {},
     "outputs": [],
     "prompt_number": 97
    },
    {
     "cell_type": "markdown",
     "metadata": {},
     "source": [
      "<h2>Isolating a Training and Validation Set: IMDB</h2>"
     ]
    },
    {
     "cell_type": "code",
     "collapsed": false,
     "input": [
      "\"\"\"\n",
      "Function\n",
      "--------\n",
      "split_test_train_years:\n",
      "    randomly splits a movie dataframe by years into training and testing groups\n",
      "\n",
      "Parameters\n",
      "----------\n",
      "df:\n",
      "    Dataframe to be split\n",
      "yr_lst:\n",
      "    a list of the years on which to split\n",
      "\n",
      "Returns\n",
      "-------\n",
      "test_yrs, train_years:\n",
      "    A tuple of the split dataframe\n",
      "\"\"\"\n",
      "\n",
      "def split_test_train_years(df,yr_lst):\n",
      "    test_yrs = random.sample(yr_lst, len(yr_lst)/2)\n",
      "    train_yrs = list(set(yr_lst) - set(test_yrs))\n",
      "    print 'Test years: ' + str(test_yrs)\n",
      "    print 'Train years: ' + str(train_yrs)\n",
      "    test_mask = [x in test_yrs for x in df.year]\n",
      "    train_mask = [x in train_yrs for x in df.year]\n",
      "    return df[test_mask], df[train_mask]"
     ],
     "language": "python",
     "metadata": {},
     "outputs": [],
     "prompt_number": 172
    },
    {
     "cell_type": "code",
     "collapsed": false,
     "input": [
      "bomj_testdf,bomj_traindf = split_test_train_years(bomj_df,range(2003,2013))"
     ],
     "language": "python",
     "metadata": {},
     "outputs": [
      {
       "output_type": "stream",
       "stream": "stdout",
       "text": [
        "Test years: [2011, 2012, 2010, 2003, 2007]\n",
        "Train years: [2008, 2009, 2004, 2005, 2006]\n"
       ]
      }
     ],
     "prompt_number": 173
    },
    {
     "cell_type": "code",
     "collapsed": false,
     "input": [
      "bomj_testdf.head()"
     ],
     "language": "python",
     "metadata": {},
     "outputs": [
      {
       "html": [
        "<div style=\"max-height:1000px;max-width:1500px;overflow:auto;\">\n",
        "<table border=\"1\" class=\"dataframe\">\n",
        "  <thead>\n",
        "    <tr style=\"text-align: right;\">\n",
        "      <th></th>\n",
        "      <th>rank</th>\n",
        "      <th>year</th>\n",
        "      <th>movie_title</th>\n",
        "      <th>imdbid</th>\n",
        "      <th>studio</th>\n",
        "      <th>total_gross</th>\n",
        "      <th>num_theaters_total</th>\n",
        "      <th>opening_revenue</th>\n",
        "      <th>num_theaters_opening</th>\n",
        "      <th>date_open</th>\n",
        "      <th>date_close</th>\n",
        "      <th>oscar_winner</th>\n",
        "      <th>oscar_nom</th>\n",
        "    </tr>\n",
        "  </thead>\n",
        "  <tbody>\n",
        "    <tr>\n",
        "      <th>0</th>\n",
        "      <td> 1</td>\n",
        "      <td> 2003</td>\n",
        "      <td>     The Lord of the Rings: The Return of the King</td>\n",
        "      <td> 0167260</td>\n",
        "      <td>   NL</td>\n",
        "      <td> 377027325</td>\n",
        "      <td> 3703</td>\n",
        "      <td> 72629713</td>\n",
        "      <td> 3703</td>\n",
        "      <td> 17-Dec</td>\n",
        "      <td>  3-Jun</td>\n",
        "      <td> 1</td>\n",
        "      <td> 1</td>\n",
        "    </tr>\n",
        "    <tr>\n",
        "      <th>1</th>\n",
        "      <td> 2</td>\n",
        "      <td> 2003</td>\n",
        "      <td>                                      Finding Nemo</td>\n",
        "      <td> 0266543</td>\n",
        "      <td>   BV</td>\n",
        "      <td> 339714978</td>\n",
        "      <td> 3425</td>\n",
        "      <td> 70251710</td>\n",
        "      <td> 3374</td>\n",
        "      <td> 30-May</td>\n",
        "      <td> 18-Dec</td>\n",
        "      <td> 1</td>\n",
        "      <td> 1</td>\n",
        "    </tr>\n",
        "    <tr>\n",
        "      <th>2</th>\n",
        "      <td> 3</td>\n",
        "      <td> 2003</td>\n",
        "      <td> Pirates of the Caribbean: The Curse of the Bla...</td>\n",
        "      <td> 0325980</td>\n",
        "      <td>   BV</td>\n",
        "      <td> 305413918</td>\n",
        "      <td> 3416</td>\n",
        "      <td> 46630690</td>\n",
        "      <td> 3269</td>\n",
        "      <td>  9-Jul</td>\n",
        "      <td>  8-Jan</td>\n",
        "      <td> 0</td>\n",
        "      <td> 1</td>\n",
        "    </tr>\n",
        "    <tr>\n",
        "      <th>3</th>\n",
        "      <td> 4</td>\n",
        "      <td> 2003</td>\n",
        "      <td>                               The Matrix Reloaded</td>\n",
        "      <td> 0234215</td>\n",
        "      <td>   WB</td>\n",
        "      <td> 281576461</td>\n",
        "      <td> 3603</td>\n",
        "      <td> 91774413</td>\n",
        "      <td> 3603</td>\n",
        "      <td> 15-May</td>\n",
        "      <td> 13-Nov</td>\n",
        "      <td> 0</td>\n",
        "      <td> 0</td>\n",
        "    </tr>\n",
        "    <tr>\n",
        "      <th>4</th>\n",
        "      <td> 5</td>\n",
        "      <td> 2003</td>\n",
        "      <td>                                    Bruce Almighty</td>\n",
        "      <td> 0315327</td>\n",
        "      <td> Uni.</td>\n",
        "      <td> 242829261</td>\n",
        "      <td> 3549</td>\n",
        "      <td> 67953330</td>\n",
        "      <td> 3483</td>\n",
        "      <td> 23-May</td>\n",
        "      <td> 11-Dec</td>\n",
        "      <td> 0</td>\n",
        "      <td> 0</td>\n",
        "    </tr>\n",
        "  </tbody>\n",
        "</table>\n",
        "</div>"
       ],
       "metadata": {},
       "output_type": "pyout",
       "prompt_number": 174,
       "text": [
        "   rank  year                                        movie_title   imdbid studio  total_gross num_theaters_total opening_revenue num_theaters_opening date_open date_close  oscar_winner  oscar_nom\n",
        "0     1  2003      The Lord of the Rings: The Return of the King  0167260     NL    377027325               3703        72629713                 3703    17-Dec      3-Jun             1          1\n",
        "1     2  2003                                       Finding Nemo  0266543     BV    339714978               3425        70251710                 3374    30-May     18-Dec             1          1\n",
        "2     3  2003  Pirates of the Caribbean: The Curse of the Bla...  0325980     BV    305413918               3416        46630690                 3269     9-Jul      8-Jan             0          1\n",
        "3     4  2003                                The Matrix Reloaded  0234215     WB    281576461               3603        91774413                 3603    15-May     13-Nov             0          0\n",
        "4     5  2003                                     Bruce Almighty  0315327   Uni.    242829261               3549        67953330                 3483    23-May     11-Dec             0          0"
       ]
      }
     ],
     "prompt_number": 174
    },
    {
     "cell_type": "code",
     "collapsed": false,
     "input": [
      "from sklearn.naive_bayes import MultinomialNB\n",
      "\n",
      "def none_checker_composite(df,list_of_cols):\n",
      "    num_cols = len(list_of_cols)\n",
      "    newdf=df[test_for_nones(df,list_of_cols[1])]\n",
      "    if num_cols>1:\n",
      "        for i in range(1,num_cols):\n",
      "            newdf=newdf[test_for_nones(newdf,list_of_cols[i])]\n",
      "    return newdf\n",
      "\n",
      "def isolate_data(df,cols_to_include,classifier_column='oscar_winner'):\n",
      "    X = df[cols_to_include].values\n",
      "    Y = df[classifier_column].values  \n",
      "    X_new=[]\n",
      "    Y_new=[]\n",
      "    for i in range(0,len(Y)):\n",
      "        try:\n",
      "            X_new.append((int(X[i,0]),int(X[i,1]),int(X[i,2])))\n",
      "            Y_new.append(int(Y[i]))\n",
      "        except:\n",
      "            pass\n",
      "    return X_new, Y_new\n",
      "\n",
      "bomj_testdf=none_checker_composite(bomj_testdf,['total_gross','num_theaters_total','opening_revenue','num_theaters_opening'])\n",
      "bomj_traindf=none_checker_composite(bomj_traindf,['total_gross','num_theaters_total','opening_revenue','num_theaters_opening'])\n",
      "(X_test, Y_test) = isolate_data(bomj_testdf,['total_gross','num_theaters_total','opening_revenue','num_theaters_opening'],'oscar_winner')\n",
      "(X_train, Y_train) = isolate_data(bomj_traindf,['total_gross','num_theaters_total','opening_revenue','num_theaters_opening'],'oscar_winner')\n",
      "\n",
      "\n",
      "print \"Accuracy on train data: %0.2f%%\" % (100 * clf.score(X_train, Y_train))\n",
      "print \"Accuracy on test data: %0.2f%%\" % (100 * clf.score(X_test, Y_test))"
     ],
     "language": "python",
     "metadata": {},
     "outputs": [
      {
       "output_type": "stream",
       "stream": "stdout",
       "text": [
        "[1 1 1 0 0 0 1 0 0 1 0 0 1 0 0 1 1 0 0 1 1 0 1 1 0 0 0 0 0 1 0 0 1 1 0 0 0\n",
        " 0 1 0 0 0 1 0 0 1 0 1 1 0 0 0 0 0 0 0 0 0 0 1 0 0 0 0 0 1 1 0 1 0 0 0 0 0\n",
        " 0 0 0 0 0 0 0 0 1 0 0 0 0 0 1 0 1 0 0 0 0 0 0 0 0 0 0 0 0 0 0 0 0 0 0 1 0\n",
        " 1 0 0 1 1 0 1 1 0 0 0 1 0 0 0 1 0 0 0 1 1 0 1 0 1 0 1 0 1 1 0 0 1 0 1 0 1\n",
        " 1 0 0 1 1 1 1 1 0 1 0 1 1 1 0 1 1 0 1 1 1 1 1 1 0 1 1 1 1 1 1 1 1 1 1 1 0\n",
        " 1 1 0 1 0 0 1 1 0 1 0 1 0 0 1 0 0 0 0 1 1 0 1 0 0 1 1 0 0 0 0 0 0 0 0 1 0\n",
        " 0 0 0 0 0 1 0 0 0 0 1 0 0 0 1 0 0 0 0 0 0 1 0 1 1 0 0 0 0 1 0 0 0 0 0 0 0\n",
        " 0 0 1 1 0 0 0 0 0 0 0 0 0 0 0 0 0 0 0 0 0 0 0 1 0 0 0 0 0 0 0 0 0 0 1 1 0\n",
        " 1 0 0 0 1 0 0 0 0 0 0 0 1 1 1 1 0 0 1 0 0 0 1 0 0 0 0 0 0 0 0 1 0 0 0 0 0\n",
        " 1 0 1 0 0 0 0 1 0 0 0 0 1 0 0 0 1 0 0 1 0 0 0 0 1 1 1 0 0 0 1 1 1 1 0 0 0\n",
        " 0 0 0 1 1 0 1 0 1 1 0 1 1 1 1 0 0 1 1 0 1 0 0 0 0 0 0 0 1 0 1 1 0 1 0 0 0\n",
        " 1 0 0 1 0 1 0 0 0 0 0 0 1 0 1 0 0 1 0 1 0 0 1 0 0 0 0 0 0 0 0 0 0 0 0 0 0\n",
        " 0 0 0 0 0 0 0 1 1 0 0 0 0 0 0 0 0 0 0 0 0 0 0 1 0 0 0 1 0 0 0 0 0 0 0 0 0\n",
        " 0 1 0 0 0 0 0 0 0 0 0 0 0 0 0 0 0 0 0 0 0 0 0 0 0 0 0 1 0 1 0 0 1 0 0 0 1\n",
        " 0 0 0 0 0 0 0 1 1 1 1 0 1 1 0 1 1 1 1 1 1 0 0 1 1 1 1 1 1 1 0 0 1 1 1 1 1\n",
        " 0 1 0 0 1 1 1 1 1 1 1 1 1 0 1 1 0 0 1 1 0 1 0 0 1 1 0 1 1 1 1 0 0 1 1 0 0\n",
        " 0 0 0 0 1 0 1 0 0 0 1 1 0 1 0 0 0 1 0 0 0 0 0 0 0 1 0 0 0 0 0 0 1 0 0 1 0\n",
        " 1 0 0 1 0 1 0 0 1 0 0 0 0 0 0 0 0 1 1 0 0 0 0 0 0 0 0 0 0 0 1 0 0 0 0 0 0\n",
        " 0 0 0 0 0 0 0 0 0 0 0 0 0 0 0 0 0 0 0 1 0 0 1 0 0 0 0 0 0 0 0 1 0 1 0 0 0\n",
        " 1 0 0 0 0 0 0 0 0 0 1 0 0 1 0 0 0 1 0 0 0 1 0 0 1 0 0 0 0 0 1 0 1 0 1 1 1\n",
        " 1 1 1 1 0 1 1 1 1 0 1 1 1 0 1 1 1 0 0 1 1 0 0 1 0 0 1 1 0 0 1 1 1 1 1 1 0\n",
        " 1 1 0 0 1 1 1 0 0 0 0 0 0 0 0 0 0 0 0 0 1 0 1 0 0 1 0 0 0 1 1 0 0 0 1 0 0\n",
        " 0 1 1 0 0 0 0 0 1 0 1 0 0 1 0 0 0 0 1 0 0 1 0 0 0 0 0 0 0 0 0 0 0 0 1 0 0\n",
        " 0 0 0 0 0 1 1 0 0 0 0 0 0 0 0 0 0 1 0 0 0 0 0 0 1 1 0 0 0 0 0 0 0 0 0 0 0\n",
        " 0 0 1 0 0 0 0 1 0 0 0 1 1 0 0 0 0 0 0 1 0 0 1 1 0 1 0 0 0 1 0 1 1 0 1 0 0\n",
        " 0 1 1 1 0 1 0 0 0 0 0 1 0 1 1 1 0 1 0 0 0 1 1 0 1 0 0 1 0 1 1 0 1 0 1 1 1\n",
        " 1 1 0 0 1 1 0 1 1 1 1 1 1]\n",
        "[1, 1, 0, 0, 0, 0, 0, 0, 0, 0, 0, 0, 0, 0, 0, 0, 0, 0, 0, 0, 0, 0, 0, 0, 0, 0, 0, 0, 0, 0, 1, 0, 0, 0, 0, 0, 0, 0, 0, 0, 0, 0, 0, 0, 0, 0, 0, 0, 0, 0, 0, 0, 0, 0, 0, 0, 0, 0, 0, 0, 0, 0, 0, 0, 0, 0, 1, 0, 0, 0, 0, 0, 0, 0, 0, 0, 0, 0, 0, 0, 0, 0, 0, 0, 0, 0, 0, 0, 0, 0, 0, 0, 0, 0, 0, 0, 0, 0, 0, 0, 0, 0, 0, 0, 0, 0, 0, 0, 0, 0, 0, 0, 0, 0, 0, 0, 0, 0, 0, 0, 0, 0, 0, 0, 0, 0, 0, 0, 0, 0, 0, 0, 0, 0, 0, 0, 0, 0, 0, 0, 0, 0, 0, 0, 0, 0, 0, 0, 1, 0, 0, 0, 0, 0, 0, 0, 0, 1, 0, 0, 0, 0, 0, 1, 0, 0, 0, 0, 0, 0, 0, 1, 0, 0, 0, 0, 0, 0, 0, 0, 0, 0, 0, 0, 0, 0, 0, 0, 0, 1, 0, 0, 0, 0, 0, 0, 0, 0, 0, 0, 0, 0, 0, 1, 0, 0, 0, 1, 0, 0, 0, 1, 0, 0, 0, 0, 0, 0, 0, 0, 0, 0, 0, 0, 0, 0, 0, 0, 0, 0, 0, 0, 1, 0, 0, 1, 0, 0, 0, 0, 0, 0, 0, 0, 0, 1, 1, 0, 0, 0, 0, 0, 0, 0, 0, 0, 0, 0, 0, 0, 0, 0, 1, 0, 0, 0, 0, 0, 0, 0, 0, 0, 0, 0, 0, 0, 0, 0, 0, 0, 0, 0, 0, 0, 0, 0, 0, 0, 0, 0, 0, 0, 0, 0, 0, 0, 0, 0, 0, 0, 0, 0, 0, 0, 0, 0, 0, 0, 0, 0, 0, 0, 0, 0, 0, 0, 0, 1, 0, 0, 0, 0, 0, 0, 0, 0, 0, 0, 0, 0, 0, 0, 0, 0, 0, 1, 0, 0, 0, 0, 1, 0, 0, 0, 0, 1, 0, 0, 0, 0, 0, 0, 0, 0, 0, 0, 0, 0, 0, 0, 0, 0, 0, 0, 0, 0, 0, 0, 0, 0, 0, 0, 0, 0, 0, 0, 0, 0, 0, 0, 0, 0, 0, 0, 0, 0, 0, 0, 0, 0, 0, 0, 0, 0, 0, 1, 1, 0, 0, 0, 1, 0, 0, 0, 0, 0, 0, 0, 0, 0, 0, 0, 1, 0, 0, 0, 0, 0, 0, 0, 0, 0, 0, 0, 0, 0, 1, 0, 0, 0, 0, 0, 0, 0, 0, 0, 0, 0, 0, 0, 0, 0, 0, 0, 0, 0, 0, 1, 0, 0, 1, 0, 0, 0, 0, 0, 0, 0, 0, 0, 0, 0, 0, 0, 0, 0, 0, 0, 0, 0, 0, 0, 0, 0, 0, 0, 0, 0, 0, 0, 0, 0, 0, 0, 0, 0, 0, 0, 0, 0, 0, 0, 0, 0, 0, 0, 0, 0, 0, 0, 0, 0, 0, 0, 0, 0, 0, 0, 0, 0, 0, 0, 0, 0, 0, 0, 0, 0, 0, 0, 0, 0, 0, 0, 0, 0, 0, 0, 0, 0, 0, 0, 0, 0, 0, 0, 0, 0, 0, 0, 0, 0, 0, 0, 0, 1, 0, 0, 0, 0, 0, 0, 0, 0, 0, 0, 0, 0, 0, 0, 0, 0, 0, 0, 0, 0, 0, 0, 0, 0, 0, 0, 0, 0, 0, 0, 0, 0, 0, 0, 0, 0, 0, 0, 0, 0, 0, 0, 0, 0, 0, 0, 0, 0, 0, 0, 0, 0, 0, 0, 0, 0, 0, 0, 0, 0, 0, 0, 0, 0, 0, 1, 0, 0, 0, 0, 0, 1, 0, 0, 0, 0, 1, 0, 0, 0, 0, 1, 0, 0, 0, 0, 0, 0, 0, 0, 0, 1, 0, 0, 0, 0, 0, 0, 0, 0, 0, 1, 0, 0, 0, 0, 0, 0, 0, 0, 0, 0, 0, 1, 0, 0, 0, 0, 0, 0, 0, 0, 0, 0, 0, 0, 0, 0, 0, 0, 0, 0, 0, 0, 0, 0, 0, 0, 0, 0, 0, 0, 1, 0, 0, 0, 0, 0, 0, 0, 0, 0, 0, 0, 0, 0, 0, 0, 0, 0, 0, 0, 0, 0, 0, 0, 0, 0, 0, 0, 0, 0, 0, 0, 0, 0, 0, 0, 0, 0, 0, 0, 0, 0, 0, 0, 0, 0, 0, 1, 0, 0, 0, 0, 0, 0, 0, 0, 0, 0, 0, 0, 0, 0, 0, 0, 0, 0, 0, 0, 0, 0, 0, 0, 0, 0, 0, 0, 0, 0, 0, 0, 0, 0, 0, 0, 0, 0, 0, 0, 0, 0, 0, 0, 0, 0, 0, 0, 0, 0, 0, 0, 1, 0, 0, 0, 1, 0, 0, 0, 0, 0, 0, 1, 0, 0, 1, 0, 0, 0, 1, 0, 0, 0, 0, 1, 0, 0, 0, 0, 0, 0, 0, 0, 0, 0, 0, 0, 0, 0, 0, 0, 0, 0, 0, 0, 0, 0, 0, 0, 0, 0, 0, 0, 0, 0, 0, 0, 0, 0, 0, 0, 0, 0, 0, 0, 0, 0, 0, 0, 0, 0, 0, 0, 0, 0, 0, 0, 0, 0, 0, 0, 0, 0, 0, 0, 0, 0, 0, 0, 0, 0, 0, 0, 0, 0, 0, 0, 0, 0, 0, 0, 0, 0, 0, 0, 0, 0, 0, 0, 0, 0, 0, 0, 0, 0, 0, 0, 0, 0, 0, 0, 0, 0, 1, 0, 0, 0, 0, 0, 0, 0, 0, 0, 0, 0, 0, 0, 0, 0, 0, 0, 0, 0, 0, 0, 0, 0, 0, 0, 0, 0, 0, 0, 0, 0, 1, 0, 0, 0, 0, 0, 0, 0, 0, 0, 0, 0, 0, 0, 0, 0, 0, 0, 0, 0, 0, 0, 0, 0, 0, 0, 0, 0, 0, 0, 0, 0, 0]\n",
        "Accuracy on train data: 70.43%\n",
        "Accuracy on test data: 68.92%\n"
       ]
      }
     ],
     "prompt_number": 187
    },
    {
     "cell_type": "markdown",
     "metadata": {},
     "source": [
      "\n",
      "**3.2** Next, randomly split the data into two groups: a\n",
      "training set and a validation set. \n",
      "\n",
      "Use the training set to train a `MultinomialNB` classifier,\n",
      "and print the accuracy of this model on the validation set\n",
      "\n",
      "**Hint**\n",
      "You can use `train_test_split` to split up the training data"
     ]
    },
    {
     "cell_type": "code",
     "collapsed": false,
     "input": [
      "#Your code here\n",
      "xtrain, xtest, ytrain, ytest = train_test_split(X, Y)\n",
      "clf = MultinomialNB().fit(xtrain, ytrain)\n",
      "\n",
      "print \"Accuracy on train data: %0.2f%%\" % (100 * clf.score(xtest, ytest))"
     ],
     "language": "python",
     "metadata": {},
     "outputs": [
      {
       "output_type": "stream",
       "stream": "stdout",
       "text": [
        "Accuracy: 77.15%\n"
       ]
      }
     ],
     "prompt_number": 14
    },
    {
     "cell_type": "markdown",
     "metadata": {},
     "source": [
      "**3.3:**\n",
      "\n",
      "We say a model is **overfit** if it performs better on the training data than on the test data. Is this model overfit? If so, how much more accurate is the model on the training data compared to the test data?"
     ]
    },
    {
     "cell_type": "code",
     "collapsed": false,
     "input": [
      "# Your code here. Print the accuracy on the test and training dataset\n",
      "training_accuracy = clf.score(xtrain, ytrain)\n",
      "test_accuracy = clf.score(xtest, ytest)\n",
      "\n",
      "print \"Accuracy on training data: %0.2f\" % (training_accuracy)\n",
      "print \"Accuracy on test data:     %0.2f\" % (test_accuracy)"
     ],
     "language": "python",
     "metadata": {},
     "outputs": [
      {
       "output_type": "stream",
       "stream": "stdout",
       "text": [
        "Accuracy on training data: 0.90\n",
        "Accuracy on test data:     0.77\n"
       ]
      }
     ],
     "prompt_number": 16
    },
    {
     "cell_type": "markdown",
     "metadata": {},
     "source": [
      "*Interpret these numbers in a few sentences here*\n",
      "\n",
      "**Answer** *Some overfitting seems to be happening here, since the error rate on the test data (23%) is more than twice as large as the error rate on the training data (10%). It's possible (though unlikely) that the accuracy difference is a product of chance, and not a symptom of overfitting. This could be tested with cross-validation, by repeatedly fitting and scoring the classifier on different train/test splits. If the performance on the training data is consistently better than the test data, then overfitting has occured. This is the case here.*"
     ]
    },
    {
     "cell_type": "markdown",
     "metadata": {},
     "source": [
      "**3.4: Model Calibration**\n",
      "\n",
      "Bayesian models like the Naive Bayes classifier have the nice property that they compute probabilities of a particular classification -- the `predict_proba` and `predict_log_proba` methods of `MultinomialNB` compute these probabilities. \n",
      "\n",
      "Being the respectable Bayesian that you are, you should always assess whether these probabilities are **calibrated** -- that is, whether a prediction made with a confidence of `x%` is correct approximately `x%` of the time.\n",
      "\n",
      "Let's make a plot to assess model calibration. Schematically, we want something like this:\n",
      "\n",
      "<img src=\"http://i.imgur.com/ea5B6zr.png\" width=500px>\n",
      "\n",
      "In words, we want to:\n",
      "\n",
      "* Take a collection of examples, and compute the freshness probability for each using `clf.predict_proba`\n",
      "* Gather examples into bins of similar freshness probability (the diagram shows 5 groups -- you should use something closer to 20)\n",
      "* For each bin, count the number of examples in that bin, and compute the fraction of examples in the bin which are fresh\n",
      "* In the upper plot, graph the expected P(Fresh) (x axis) and observed freshness fraction (Y axis). Estimate the uncertainty in observed freshness fraction $F$ via the [equation](http://en.wikipedia.org/wiki/Binomial_proportion_confidence_interval) $\\sigma = \\sqrt{F (1-F) / N}$\n",
      "* Overplot the line y=x. This is the trend we would expect if the model is calibrated\n",
      "* In the lower plot, show the number of examples in each bin\n",
      "\n",
      "**Hints**\n",
      "\n",
      "The output of `clf.predict_proba(X)` is a `(N example, 2)` array. The first column gives the probability $P(Y=0)$ or  $P(Rotten)$, and the second gives $P(Y=1)$ or $P(Fresh)$.\n",
      "\n",
      "The above image is just a guideline -- feel free to explore other options!"
     ]
    },
    {
     "cell_type": "code",
     "collapsed": false,
     "input": [
      "\"\"\"\n",
      "Function\n",
      "--------\n",
      "calibration_plot\n",
      "\n",
      "Builds a plot like the one above, from a classifier and review data\n",
      "\n",
      "Inputs\n",
      "-------\n",
      "clf : Classifier object\n",
      "    A MultinomialNB classifier\n",
      "X : (Nexample, Nfeature) array\n",
      "    The bag-of-words data\n",
      "Y : (Nexample) integer array\n",
      "    1 if a review is Fresh\n",
      "\"\"\"    \n",
      "#your code here\n",
      "\n",
      "def calibration_plot(clf, xtest, ytest):\n",
      "    prob = clf.predict_proba(xtest)[:, 1]\n",
      "    outcome = ytest\n",
      "    data = pd.DataFrame(dict(prob=prob, outcome=outcome))\n",
      "\n",
      "    #group outcomes into bins of similar probability\n",
      "    bins = np.linspace(0, 1, 20)\n",
      "    cuts = pd.cut(prob, bins)\n",
      "    binwidth = bins[1] - bins[0]\n",
      "    \n",
      "    #freshness ratio and number of examples in each bin\n",
      "    cal = data.groupby(cuts).outcome.agg(['mean', 'count'])\n",
      "    cal['pmid'] = (bins[:-1] + bins[1:]) / 2\n",
      "    cal['sig'] = np.sqrt(cal.pmid * (1 - cal.pmid) / cal['count'])\n",
      "        \n",
      "    #the calibration plot\n",
      "    ax = plt.subplot2grid((3, 1), (0, 0), rowspan=2)\n",
      "    p = plt.errorbar(cal.pmid, cal['mean'], cal['sig'])\n",
      "    plt.plot(cal.pmid, cal.pmid, linestyle='--', lw=1, color='k')\n",
      "    plt.ylabel(\"Empirical P(Fresh)\")\n",
      "    remove_border(ax)\n",
      "    \n",
      "    #the distribution of P(fresh)\n",
      "    ax = plt.subplot2grid((3, 1), (2, 0), sharex=ax)\n",
      "    \n",
      "    plt.bar(left=cal.pmid - binwidth / 2, height=cal['count'],\n",
      "            width=.95 * (bins[1] - bins[0]),\n",
      "            fc=p[0].get_color())\n",
      "    \n",
      "    plt.xlabel(\"Predicted P(Fresh)\")\n",
      "    remove_border()\n",
      "    plt.ylabel(\"Number\")"
     ],
     "language": "python",
     "metadata": {},
     "outputs": [],
     "prompt_number": 17
    },
    {
     "cell_type": "code",
     "collapsed": false,
     "input": [
      "calibration_plot(clf, xtest, ytest)"
     ],
     "language": "python",
     "metadata": {},
     "outputs": [
      {
       "metadata": {},
       "output_type": "display_data",
       "png": "[encoded data removed]",
       "text": [
        "<matplotlib.figure.Figure at 0x1099fb250>"
       ]
      }
     ],
     "prompt_number": 18
    },
    {
     "cell_type": "markdown",
     "metadata": {},
     "source": [
      "**3.5** We might say a model is *over-confident* if the freshness fraction is usually closer to 0.5 than expected (that is, there is more uncertainty than the model predicted). Likewise, a model is *under-confident* if the probabilities are usually further away from 0.5. Is this model generally over- or under-confident? "
     ]
    },
    {
     "cell_type": "markdown",
     "metadata": {},
     "source": [
      "**Answer** *This model is over-confident. For a properly calibrated model, we would expect ~10% of the P(Fresh)~0.1 reviews to actually be fresh. However, the actual freshness rate is closer to 30%. Likewise, for reviews where P(Fresh) ~0.9, the actuall freshness fraction is closer to 0.7. In other words, there is more uncertainty in the outcome than implied by the model.*"
     ]
    },
    {
     "cell_type": "markdown",
     "metadata": {},
     "source": [
      "#### Cross Validation\n",
      "\n",
      "Our classifier has a few free parameters. The two most important are:\n",
      "\n",
      " 1. The `min_df` keyword in `CountVectorizer`, which will ignore words which appear in fewer than `min_df` fraction of reviews. Words that appear only once or twice can lead to overfitting, since words which occur only a few times might correlate very well with Fresh/Rotten reviews by chance in the training dataset.\n",
      " \n",
      " 2. The [`alpha` keyword](http://scikit-learn.org/stable/modules/naive_bayes.html#multinomial-naive-bayes) in the Bayesian classifier is a \"smoothing parameter\" -- increasing the value decreases the sensitivity to any single feature, and tends to pull prediction probabilities closer to 50%. \n",
      "\n",
      "As discussed in lecture and HW2, a common technique for choosing appropriate values for these parameters is **cross-validation**. Let's choose good parameters by maximizing the cross-validated log-likelihood.\n",
      "\n",
      "**3.6** Using `clf.predict_logproba`, write a function that computes the log-likelihood of a dataset"
     ]
    },
    {
     "cell_type": "code",
     "collapsed": false,
     "input": [
      "\"\"\"\n",
      "Function\n",
      "--------\n",
      "log_likelihood\n",
      "\n",
      "Compute the log likelihood of a dataset according to \n",
      "a bayesian classifier. \n",
      "The Log Likelihood is defined by\n",
      "\n",
      "L = Sum_fresh(logP(fresh)) + Sum_rotten(logP(rotten))\n",
      "\n",
      "Where Sum_fresh indicates a sum over all fresh reviews, \n",
      "and Sum_rotten indicates a sum over rotten reviews\n",
      "    \n",
      "Parameters\n",
      "----------\n",
      "clf : Bayesian classifier\n",
      "x : (nexample, nfeature) array\n",
      "    The input data\n",
      "y : (nexample) integer array\n",
      "    Whether each review is Fresh\n",
      "\"\"\"\n",
      "#your code here\n",
      "\n",
      "def log_likelihood(clf, x, y):\n",
      "    prob = clf.predict_log_proba(x)\n",
      "    rotten = y == 0\n",
      "    fresh = ~rotten\n",
      "    return prob[rotten, 0].sum() + prob[fresh, 1].sum()"
     ],
     "language": "python",
     "metadata": {},
     "outputs": [],
     "prompt_number": 19
    },
    {
     "cell_type": "markdown",
     "metadata": {},
     "source": [
      "Here's a function to estimate the cross-validated value of a scoring function, given a classifier and data"
     ]
    },
    {
     "cell_type": "code",
     "collapsed": false,
     "input": [
      "from sklearn.cross_validation import KFold\n",
      "\n",
      "def cv_score(clf, x, y, score_func):\n",
      "    \"\"\"\n",
      "    Uses 5-fold cross validation to estimate a score of a classifier\n",
      "    \n",
      "    Inputs\n",
      "    ------\n",
      "    clf : Classifier object\n",
      "    x : Input feature vector\n",
      "    y : Input class labels\n",
      "    score_func : Function like log_likelihood, that takes (clf, x, y) as input,\n",
      "                 and returns a score\n",
      "                 \n",
      "    Returns\n",
      "    -------\n",
      "    The average score obtained by randomly splitting (x, y) into training and \n",
      "    test sets, fitting on the training set, and evaluating score_func on the test set\n",
      "    \n",
      "    Examples\n",
      "    cv_score(clf, x, y, log_likelihood)\n",
      "    \"\"\"\n",
      "    result = 0\n",
      "    nfold = 5\n",
      "    for train, test in KFold(y.size, nfold): # split data into train/test groups, 5 times\n",
      "        clf.fit(x[train], y[train]) # fit\n",
      "        result += score_func(clf, x[test], y[test]) # evaluate score function on held-out data\n",
      "    return result / nfold # average"
     ],
     "language": "python",
     "metadata": {},
     "outputs": [],
     "prompt_number": 20
    },
    {
     "cell_type": "markdown",
     "metadata": {},
     "source": [
      "**3.7**\n",
      "\n",
      "Fill in the remaining code in this block, to loop over many values of `alpha` and `min_df` to determine\n",
      "which settings are \"best\" in the sense of maximizing the cross-validated log-likelihood"
     ]
    },
    {
     "cell_type": "code",
     "collapsed": false,
     "input": [
      "#the grid of parameters to search over\n",
      "alphas = [0, .1, 1, 5, 10, 50]\n",
      "min_dfs = [1e-5, 1e-4, 1e-3, 1e-2, 1e-1]\n",
      "\n",
      "#Find the best value for alpha and min_df, and the best classifier\n",
      "best_alpha = None\n",
      "best_min_df = None\n",
      "max_loglike = -np.inf\n",
      "\n",
      "for alpha in alphas:\n",
      "    for min_df in min_dfs:         \n",
      "        vectorizer = CountVectorizer(min_df = min_df)       \n",
      "        X, Y = make_xy(critics, vectorizer)\n",
      "        \n",
      "        #your code here\n",
      "        clf = MultinomialNB(alpha=alpha)\n",
      "        loglike = cv_score(clf, X, Y, log_likelihood)\n",
      "\n",
      "        if loglike > max_loglike:\n",
      "            max_loglike = loglike\n",
      "            best_alpha, best_min_df = alpha, min_df"
     ],
     "language": "python",
     "metadata": {},
     "outputs": [],
     "prompt_number": 21
    },
    {
     "cell_type": "code",
     "collapsed": false,
     "input": [
      "print \"alpha: %f\" % best_alpha\n",
      "print \"min_df: %f\" % best_min_df"
     ],
     "language": "python",
     "metadata": {},
     "outputs": [
      {
       "output_type": "stream",
       "stream": "stdout",
       "text": [
        "alpha: 5.000000\n",
        "min_df: 0.001000\n"
       ]
      }
     ],
     "prompt_number": 22
    },
    {
     "cell_type": "markdown",
     "metadata": {},
     "source": [
      "**3.8** Now that you've determined values for alpha and min_df that optimize the cross-validated log-likelihood, repeat the steps in 3.1, 3.2, and 3.4 to train a final classifier with these parameters, re-evaluate the accuracy, and draw a new calibration plot."
     ]
    },
    {
     "cell_type": "code",
     "collapsed": false,
     "input": [
      "#Your code here\n",
      "\n",
      "vectorizer = CountVectorizer(min_df=best_min_df)\n",
      "X, Y = make_xy(critics, vectorizer)\n",
      "xtrain, xtest, ytrain, ytest = train_test_split(X, Y)\n",
      "\n",
      "clf = MultinomialNB(alpha=best_alpha).fit(xtrain, ytrain)\n",
      "\n",
      "calibration_plot(clf, xtest, ytest)\n",
      "\n",
      "# Your code here. Print the accuracy on the test and training dataset\n",
      "training_accuracy = clf.score(xtrain, ytrain)\n",
      "test_accuracy = clf.score(xtest, ytest)\n",
      "\n",
      "print \"Accuracy on training data: %0.2f\" % (training_accuracy)\n",
      "print \"Accuracy on test data:     %0.2f\" % (test_accuracy)"
     ],
     "language": "python",
     "metadata": {},
     "outputs": [
      {
       "output_type": "stream",
       "stream": "stdout",
       "text": [
        "Accuracy on training data: 0.78\n",
        "Accuracy on test data:     0.74\n"
       ]
      },
      {
       "metadata": {},
       "output_type": "display_data",
       "png": "[encoded data removed]",
       "text": [
        "<matplotlib.figure.Figure at 0x10dae40d0>"
       ]
      }
     ],
     "prompt_number": 23
    },
    {
     "cell_type": "markdown",
     "metadata": {},
     "source": [
      "**3.9** Discuss the various ways in which Cross-Validation has affected the model. Is the new model more or less accurate? Is overfitting better or worse? Is the model more or less calibrated?"
     ]
    },
    {
     "cell_type": "markdown",
     "metadata": {},
     "source": [
      "**Answer** *The new model is slightly less accurate on the test data (74% vs 77% on the original model). However, it is both better calibrated and less over-fit than before. In other words, while the classification accuracy is slightly worse, the probabilities themselves are more accurate. The model is still slightly over-confident when making low P(Fresh) predictions. However, the calibration plot shows the model is usually within 1 error bar of the expected performance where P(Fresh) >= 0.2. Finally, the new model makes less-conclusive predictions on average -- the histogram in the calibration plot is more uniformly distributed, with fewer predictions clustered around P(Fresh) = 0 or 1.*"
     ]
    },
    {
     "cell_type": "markdown",
     "metadata": {},
     "source": [
      "*To think about/play with, but not to hand in: What would happen if you tried this again using a function besides the log-likelihood -- for example, the classification accuracy?*"
     ]
    },
    {
     "cell_type": "markdown",
     "metadata": {},
     "source": [
      "### Part 4: Interpretation. What words best predict a fresh or rotten review?\n",
      "\n",
      "**4.1**\n",
      "Using your classifier and the `vectorizer.get_feature_names` method, determine which words best predict a positive or negative review. Print the 10 words\n",
      "that best predict a \"fresh\" review, and the 10 words that best predict a \"rotten\" review. For each word, what is the model's probability of freshness if the word appears one time?\n",
      "\n",
      "#### Hints\n",
      "\n",
      "* Try computing the classification probability for a feature vector which consists of all 0s, except for a single 1. What does this probability refer to?\n",
      "\n",
      "* `np.eye` generates a matrix where the ith row is all 0s, except for the ith column which is 1."
     ]
    },
    {
     "cell_type": "code",
     "collapsed": false,
     "input": [
      "## Your code here\n",
      "\n",
      "words = np.array(vectorizer.get_feature_names())\n",
      "\n",
      "x = np.eye(xtest.shape[1])\n",
      "probs = clf.predict_log_proba(x)[:, 0]\n",
      "ind = np.argsort(probs)\n",
      "\n",
      "good_words = words[ind[:10]]\n",
      "bad_words = words[ind[-10:]]\n",
      "\n",
      "good_prob = probs[ind[:10]]\n",
      "bad_prob = probs[ind[-10:]]\n",
      "\n",
      "print \"Good words\\t     P(fresh | word)\"\n",
      "for w, p in zip(good_words, good_prob):\n",
      "    print \"%20s\" % w, \"%0.2f\" % (1 - np.exp(p))\n",
      "    \n",
      "print \"Bad words\\t     P(fresh | word)\"\n",
      "for w, p in zip(bad_words, bad_prob):\n",
      "    print \"%20s\" % w, \"%0.2f\" % (1 - np.exp(p))"
     ],
     "language": "python",
     "metadata": {},
     "outputs": [
      {
       "output_type": "stream",
       "stream": "stdout",
       "text": [
        "Good words\t     P(fresh | word)\n",
        "         masterpiece 0.90\n",
        "             delight 0.89\n",
        "          remarkable 0.89\n",
        "            touching 0.87\n",
        "             perfect 0.87\n",
        "                rare 0.86\n",
        "               witty 0.86\n",
        "              superb 0.86\n",
        "            captures 0.86\n",
        "          delightful 0.85\n",
        "Bad words\t     P(fresh | word)\n",
        "               worst 0.21\n",
        "                dull 0.21\n",
        "      disappointment 0.20\n",
        "       disappointing 0.20\n",
        "             unfunny 0.20\n",
        "               bland 0.18\n",
        "          uninspired 0.17\n",
        "           pointless 0.17\n",
        "                lame 0.13\n",
        "       unfortunately 0.12\n"
       ]
      }
     ],
     "prompt_number": 22
    },
    {
     "cell_type": "markdown",
     "metadata": {},
     "source": [
      "**4.2**\n",
      "\n",
      "One of the best sources for inspiration when trying to improve a model is to look at examples where the model performs poorly. \n",
      "\n",
      "Find 5 fresh and rotten reviews where your model performs particularly poorly. Print each review."
     ]
    },
    {
     "cell_type": "code",
     "collapsed": false,
     "input": [
      "#Your code here\n",
      "x, y = make_xy(critics, vectorizer)\n",
      "\n",
      "prob = clf.predict_proba(x)[:, 0]\n",
      "predict = clf.predict(x)\n",
      "\n",
      "bad_rotten = np.argsort(prob[y == 0])[:5]\n",
      "bad_fresh = np.argsort(prob[y == 1])[-5:]\n",
      "\n",
      "print \"Mis-predicted Rotten quotes\"\n",
      "print '---------------------------'\n",
      "for row in bad_rotten:\n",
      "    print critics[y == 0].quote.irow(row)\n",
      "    print\n",
      "\n",
      "print \"Mis-predicted Fresh quotes\"\n",
      "print '--------------------------'\n",
      "for row in bad_fresh:\n",
      "    print critics[y == 1].quote.irow(row)\n",
      "    print"
     ],
     "language": "python",
     "metadata": {},
     "outputs": [
      {
       "output_type": "stream",
       "stream": "stdout",
       "text": [
        "Mis-predicted Rotten quotes\n",
        "---------------------------\n",
        "It survives today only as an unusually pure example of a typical 50s art-film strategy: the attempt to make the most modern and most popular of art forms acceptable to the intelligentsia by forcing it into an arcane, antique mold.\n",
        "\n",
        "The Waterboy is arguably Sandler's most enjoyable motion picture to date, but it's still far from a masterpiece.\n",
        "\n",
        "Pale Rider does nothing to disprove the wisdom that this genre is best left to the revival houses. A double feature of Shane and Eastwood's High Plains Drifter will do just fine, thanks.\n",
        "\n",
        "It's a sad day when an actor who's totally, beautifully in touch with his dark side finds himself stuck in a movie that's scared of its own shadow.\n",
        "\n",
        "Walken is one of the few undeniably charismatic male villains of recent years; he can generate a snakelike charm that makes his worst characters the most memorable, and here he operates on pure style.\n",
        "\n",
        "Mis-predicted Fresh quotes\n",
        "--------------------------\n",
        "The gangland plot is flimsy (bad guy Peter Greene wears too much eyeliner), and the jokes are erratic, but it's a far better showcase for Carrey's comic-from-Uranus talent than Ace Ventura.\n",
        "\n",
        "It's a one-joke movie, a funhouse ride, the cinematic equivalent of having a rubber spider thrown in your lap. But it doesn't matter if you reject the wispy script or the plot, which has as much substance as a spider's web; you'll jump every time.\n",
        "\n",
        "There's too much talent and too strong a story to mess it up. There was potential for more here, but this incarnation is nothing to be ashamed of, and some of the actors answer the bell.\n",
        "\n",
        "This tough-to-peg whodunit keeps you going for two hours, despite a few James Bond-ish (or Jane Bond-ish) turns that play less preposterously than you might assume were they to be divulged.\n",
        "\n",
        "Some of the gags don't work, but fewer than in any previous Brooks film that I've seen, and when the jokes are meant to be bad, they are riotously poor. What more can one ask of Mel Brooks?\n",
        "\n"
       ]
      }
     ],
     "prompt_number": 23
    },
    {
     "cell_type": "markdown",
     "metadata": {},
     "source": [
      "**4.3** What do you notice about these mis-predictions? Naive Bayes classifiers assume that every word affects the probability independently of other words. In what way is this a bad assumption? In your answer, report your classifier's Freshness probability for the review \"This movie is not remarkable, touching, or superb in any way\"."
     ]
    },
    {
     "cell_type": "code",
     "collapsed": false,
     "input": [
      "clf.predict_proba(vectorizer.transform(['This movie is not remarkable, touching, or superb in any way']))"
     ],
     "language": "python",
     "metadata": {},
     "outputs": [
      {
       "metadata": {},
       "output_type": "pyout",
       "prompt_number": 25,
       "text": [
        "array([[ 0.01755082,  0.98244918]])"
       ]
      }
     ],
     "prompt_number": 25
    },
    {
     "cell_type": "markdown",
     "metadata": {},
     "source": [
      "**Answer** *Many mis-predictions seem due to the fact that the quotes use more ambivalent language -- quotes along the lines of \"this should have been a good movie, but it wasn't\". Words like \"but\", \"not\", etc. act to negate the sentiment of words. However, because Naive Bayes treats each word separately, it isn't able to capture these kind of word interactions. Because the quote \"this movie is not remarkable, touching, or superb in any way\" contains typically positive words like remarkabke/touching/superb, the classifier gives it P(Fresh)=0.98.*"
     ]
    },
    {
     "cell_type": "markdown",
     "metadata": {},
     "source": [
      "**4.4**\n",
      "If this was your final project, what are 3 things you would try in order to build a more effective review classifier? What other exploratory or explanatory visualizations do you think might be helpful?"
     ]
    },
    {
     "cell_type": "markdown",
     "metadata": {},
     "source": [
      "There are many things worth trying. Some examples:\n",
      "\n",
      "1. You could try to build a NB model where the features are word pairs instead of words. This would be smart enough to realize that \"not good\" and \"so good\" mean very different things. This technique doesn't scale very well, since these features are much more sparse (and hence harder to detect repeatable patterns within).\n",
      "2. You could try a model besides NB, that would allow for interactions between words -- for example, a Random Forest classifier.\n",
      "3. You could consider adding supplemental features -- information about genre, director, cast, etc.\n",
      "4. You could build a visualization that prints word reviews, and visually encodes each word with size or color to indicate how that word contributes to P(Fresh). For example, really bad words could show up as big and red, good words as big and green, common words as small and grey, etc."
     ]
    },
    {
     "cell_type": "markdown",
     "metadata": {},
     "source": [
      "### How to Submit\n",
      "\n",
      "To submit your homework, create a folder named lastname_firstinitial_hw3 and place this notebook file in the folder. Double check that this file is still called HW3.ipynb, and that it contains your solutions. Please do **not** include the critics.csv data file, if you created one. Compress the folder (please use .zip compression) and submit to the CS109 dropbox in the appropriate folder. If we cannot access your work because these directions are not followed correctly, we will not grade your work.\n"
     ]
    },
    {
     "cell_type": "markdown",
     "metadata": {},
     "source": [
      "---\n",
      "*css tweaks in this cell*\n",
      "<style>\n",
      "div.text_cell_render {\n",
      "    line-height: 150%;\n",
      "    font-size: 110%;\n",
      "    width: 800px;\n",
      "    margin-left:50px;\n",
      "    margin-right:auto;\n",
      "    }\n",
      "</style>"
     ]
    }
   ],
   "metadata": {}
  }
 ]
}